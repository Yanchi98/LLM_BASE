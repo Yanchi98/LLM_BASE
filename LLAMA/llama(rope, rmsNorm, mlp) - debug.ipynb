{
 "cells": [
  {
   "cell_type": "markdown",
   "metadata": {},
   "source": [
    "# 1 Set Config"
   ]
  },
  {
   "cell_type": "code",
   "execution_count": 57,
   "metadata": {},
   "outputs": [],
   "source": [
    "from rich import print\n",
    "from lit_llama.model import Block, LLaMA, LLaMAConfig"
   ]
  },
  {
   "cell_type": "code",
   "execution_count": 58,
   "metadata": {},
   "outputs": [],
   "source": [
    "# For shakespeare, choose smaller block size than vanilla LLaMA\n",
    "block_size = 1024"
   ]
  },
  {
   "cell_type": "code",
   "execution_count": 59,
   "metadata": {},
   "outputs": [
    {
     "data": {
      "text/html": [
       "<pre style=\"white-space:pre;overflow-x:auto;line-height:normal;font-family:Menlo,'DejaVu Sans Mono',consolas,'Courier New',monospace\">7B config\n",
       "<span style=\"color: #800080; text-decoration-color: #800080; font-weight: bold\">LLaMAConfig</span><span style=\"font-weight: bold\">(</span><span style=\"color: #808000; text-decoration-color: #808000\">block_size</span>=<span style=\"color: #008080; text-decoration-color: #008080; font-weight: bold\">1024</span>, <span style=\"color: #808000; text-decoration-color: #808000\">vocab_size</span>=<span style=\"color: #008080; text-decoration-color: #008080; font-weight: bold\">100</span>, <span style=\"color: #808000; text-decoration-color: #808000\">padded_vocab_size</span>=<span style=\"color: #008080; text-decoration-color: #008080; font-weight: bold\">128</span>, <span style=\"color: #808000; text-decoration-color: #808000\">n_layer</span>=<span style=\"color: #008080; text-decoration-color: #008080; font-weight: bold\">32</span>, <span style=\"color: #808000; text-decoration-color: #808000\">n_head</span>=<span style=\"color: #008080; text-decoration-color: #008080; font-weight: bold\">32</span>, <span style=\"color: #808000; text-decoration-color: #808000\">n_embd</span>=<span style=\"color: #008080; text-decoration-color: #008080; font-weight: bold\">4096</span><span style=\"font-weight: bold\">)</span>\n",
       "</pre>\n"
      ],
      "text/plain": [
       "7B config\n",
       "\u001b[1;35mLLaMAConfig\u001b[0m\u001b[1m(\u001b[0m\u001b[33mblock_size\u001b[0m=\u001b[1;36m1024\u001b[0m, \u001b[33mvocab_size\u001b[0m=\u001b[1;36m100\u001b[0m, \u001b[33mpadded_vocab_size\u001b[0m=\u001b[1;36m128\u001b[0m, \u001b[33mn_layer\u001b[0m=\u001b[1;36m32\u001b[0m, \u001b[33mn_head\u001b[0m=\u001b[1;36m32\u001b[0m, \u001b[33mn_embd\u001b[0m=\u001b[1;36m4096\u001b[0m\u001b[1m)\u001b[0m\n"
      ]
     },
     "metadata": {},
     "output_type": "display_data"
    }
   ],
   "source": [
    "config = LLaMAConfig.from_name(\"7B\")\n",
    "config.block_size = block_size # block size是序列长度\n",
    "# config.vocab_size = 100  # from prepare_shakespeare.py\n",
    "print(\"7B config\", config)"
   ]
  },
  {
   "cell_type": "code",
   "execution_count": 60,
   "metadata": {},
   "outputs": [
    {
     "data": {
      "text/html": [
       "<pre style=\"white-space:pre;overflow-x:auto;line-height:normal;font-family:Menlo,'DejaVu Sans Mono',consolas,'Courier New',monospace\">baby_llama config:\n",
       "<span style=\"color: #800080; text-decoration-color: #800080; font-weight: bold\">LLaMAConfig</span><span style=\"font-weight: bold\">(</span><span style=\"color: #808000; text-decoration-color: #808000\">block_size</span>=<span style=\"color: #008080; text-decoration-color: #008080; font-weight: bold\">1024</span>, <span style=\"color: #808000; text-decoration-color: #808000\">vocab_size</span>=<span style=\"color: #008080; text-decoration-color: #008080; font-weight: bold\">32000</span>, <span style=\"color: #808000; text-decoration-color: #808000\">padded_vocab_size</span>=<span style=\"color: #008080; text-decoration-color: #008080; font-weight: bold\">32000</span>, <span style=\"color: #808000; text-decoration-color: #808000\">n_layer</span>=<span style=\"color: #008080; text-decoration-color: #008080; font-weight: bold\">2</span>, <span style=\"color: #808000; text-decoration-color: #808000\">n_head</span>=<span style=\"color: #008080; text-decoration-color: #008080; font-weight: bold\">8</span>, <span style=\"color: #808000; text-decoration-color: #808000\">n_embd</span>=<span style=\"color: #008080; text-decoration-color: #008080; font-weight: bold\">128</span><span style=\"font-weight: bold\">)</span>\n",
       "</pre>\n"
      ],
      "text/plain": [
       "baby_llama config:\n",
       "\u001b[1;35mLLaMAConfig\u001b[0m\u001b[1m(\u001b[0m\u001b[33mblock_size\u001b[0m=\u001b[1;36m1024\u001b[0m, \u001b[33mvocab_size\u001b[0m=\u001b[1;36m32000\u001b[0m, \u001b[33mpadded_vocab_size\u001b[0m=\u001b[1;36m32000\u001b[0m, \u001b[33mn_layer\u001b[0m=\u001b[1;36m2\u001b[0m, \u001b[33mn_head\u001b[0m=\u001b[1;36m8\u001b[0m, \u001b[33mn_embd\u001b[0m=\u001b[1;36m128\u001b[0m\u001b[1m)\u001b[0m\n"
      ]
     },
     "metadata": {},
     "output_type": "display_data"
    }
   ],
   "source": [
    "config = LLaMAConfig.from_name(\"baby_llama\")\n",
    "config.block_size = block_size\n",
    "config.vocab_size = 32000  # from prepare_shakespeare.py\n",
    "config.padded_vocab_size = 32000  # from prepare_shakespeare.py\n",
    "print(\"baby_llama config:\", config)"
   ]
  },
  {
   "cell_type": "markdown",
   "metadata": {},
   "source": [
    "model = LLaMA(config)\n",
    "print(model)"
   ]
  },
  {
   "cell_type": "markdown",
   "metadata": {},
   "source": [
    "# 2 Load Data"
   ]
  },
  {
   "cell_type": "code",
   "execution_count": 61,
   "metadata": {},
   "outputs": [
    {
     "data": {
      "text/html": [
       "<pre style=\"white-space:pre;overflow-x:auto;line-height:normal;font-family:Menlo,'DejaVu Sans Mono',consolas,'Courier New',monospace\"><span style=\"color: #800080; text-decoration-color: #800080; font-weight: bold\">torch.Size</span><span style=\"font-weight: bold\">([</span><span style=\"color: #008080; text-decoration-color: #008080; font-weight: bold\">16</span>, <span style=\"color: #008080; text-decoration-color: #008080; font-weight: bold\">1024</span><span style=\"font-weight: bold\">])</span>\n",
       "</pre>\n"
      ],
      "text/plain": [
       "\u001b[1;35mtorch.Size\u001b[0m\u001b[1m(\u001b[0m\u001b[1m[\u001b[0m\u001b[1;36m16\u001b[0m, \u001b[1;36m1024\u001b[0m\u001b[1m]\u001b[0m\u001b[1m)\u001b[0m\n"
      ]
     },
     "metadata": {},
     "output_type": "display_data"
    },
    {
     "data": {
      "text/html": [
       "<pre style=\"white-space:pre;overflow-x:auto;line-height:normal;font-family:Menlo,'DejaVu Sans Mono',consolas,'Courier New',monospace\"><span style=\"color: #800080; text-decoration-color: #800080; font-weight: bold\">torch.Size</span><span style=\"font-weight: bold\">([</span><span style=\"color: #008080; text-decoration-color: #008080; font-weight: bold\">16</span>, <span style=\"color: #008080; text-decoration-color: #008080; font-weight: bold\">1024</span><span style=\"font-weight: bold\">])</span>\n",
       "</pre>\n"
      ],
      "text/plain": [
       "\u001b[1;35mtorch.Size\u001b[0m\u001b[1m(\u001b[0m\u001b[1m[\u001b[0m\u001b[1;36m16\u001b[0m, \u001b[1;36m1024\u001b[0m\u001b[1m]\u001b[0m\u001b[1m)\u001b[0m\n"
      ]
     },
     "metadata": {},
     "output_type": "display_data"
    },
    {
     "data": {
      "text/html": [
       "<pre style=\"white-space:pre;overflow-x:auto;line-height:normal;font-family:Menlo,'DejaVu Sans Mono',consolas,'Courier New',monospace\">batch:<span style=\"color: #008080; text-decoration-color: #008080; font-weight: bold\">16</span>, length: <span style=\"color: #008080; text-decoration-color: #008080; font-weight: bold\">1024</span> \n",
       "</pre>\n"
      ],
      "text/plain": [
       "batch:\u001b[1;36m16\u001b[0m, length: \u001b[1;36m1024\u001b[0m \n"
      ]
     },
     "metadata": {},
     "output_type": "display_data"
    }
   ],
   "source": [
    "import torch\n",
    "X = torch.load('data/input.pt')\n",
    "Y = torch.load('data/target.pt')\n",
    "\n",
    "print(X.shape)\n",
    "print(Y.shape)\n",
    "print(\"batch:{}, length: {} \".format(X.shape[0],X.shape[1]))"
   ]
  },
  {
   "cell_type": "markdown",
   "metadata": {},
   "source": [
    "# 3 Inference"
   ]
  },
  {
   "cell_type": "code",
   "execution_count": 62,
   "metadata": {},
   "outputs": [
    {
     "name": "stdout",
     "output_type": "stream",
     "text": [
      "torch.Size([16, 8, 1024, 16])\n",
      "torch.Size([16, 8, 1024, 16])\n",
      "torch.Size([16, 8, 1024, 16])\n",
      "torch.Size([1, 1, 1024, 1024])\n",
      "torch.Size([16, 8, 1024, 16])\n",
      "torch.Size([16, 8, 1024, 16])\n",
      "torch.Size([16, 8, 1024, 16])\n",
      "torch.Size([1, 1, 1024, 1024])\n"
     ]
    },
    {
     "data": {
      "text/html": [
       "<pre style=\"white-space:pre;overflow-x:auto;line-height:normal;font-family:Menlo,'DejaVu Sans Mono',consolas,'Courier New',monospace\"><span style=\"color: #800080; text-decoration-color: #800080; font-weight: bold\">torch.Size</span><span style=\"font-weight: bold\">([</span><span style=\"color: #008080; text-decoration-color: #008080; font-weight: bold\">16</span>, <span style=\"color: #008080; text-decoration-color: #008080; font-weight: bold\">1024</span>, <span style=\"color: #008080; text-decoration-color: #008080; font-weight: bold\">32000</span><span style=\"font-weight: bold\">])</span>\n",
       "</pre>\n"
      ],
      "text/plain": [
       "\u001b[1;35mtorch.Size\u001b[0m\u001b[1m(\u001b[0m\u001b[1m[\u001b[0m\u001b[1;36m16\u001b[0m, \u001b[1;36m1024\u001b[0m, \u001b[1;36m32000\u001b[0m\u001b[1m]\u001b[0m\u001b[1m)\u001b[0m\n"
      ]
     },
     "metadata": {},
     "output_type": "display_data"
    },
    {
     "data": {
      "text/html": [
       "<pre style=\"white-space:pre;overflow-x:auto;line-height:normal;font-family:Menlo,'DejaVu Sans Mono',consolas,'Courier New',monospace\">vocab size: <span style=\"color: #008080; text-decoration-color: #008080; font-weight: bold\">32000</span>\n",
       "</pre>\n"
      ],
      "text/plain": [
       "vocab size: \u001b[1;36m32000\u001b[0m\n"
      ]
     },
     "metadata": {},
     "output_type": "display_data"
    },
    {
     "data": {
      "text/html": [
       "<pre style=\"white-space:pre;overflow-x:auto;line-height:normal;font-family:Menlo,'DejaVu Sans Mono',consolas,'Courier New',monospace\">loss: <span style=\"color: #800080; text-decoration-color: #800080; font-weight: bold\">tensor</span><span style=\"font-weight: bold\">(</span><span style=\"color: #008080; text-decoration-color: #008080; font-weight: bold\">10.5692</span>, <span style=\"color: #808000; text-decoration-color: #808000\">grad_fn</span>=<span style=\"font-weight: bold\">&lt;</span><span style=\"color: #ff00ff; text-decoration-color: #ff00ff; font-weight: bold\">NllLossBackward0</span><span style=\"font-weight: bold\">&gt;)</span>\n",
       "</pre>\n"
      ],
      "text/plain": [
       "loss: \u001b[1;35mtensor\u001b[0m\u001b[1m(\u001b[0m\u001b[1;36m10.5692\u001b[0m, \u001b[33mgrad_fn\u001b[0m=\u001b[1m<\u001b[0m\u001b[1;95mNllLossBackward0\u001b[0m\u001b[1m>\u001b[0m\u001b[1m)\u001b[0m\n"
      ]
     },
     "metadata": {},
     "output_type": "display_data"
    }
   ],
   "source": [
    "from torch.nn import functional as F\n",
    "logits = model(X)\n",
    "print(logits.shape)\n",
    "print('vocab size:', config.vocab_size)\n",
    "loss = F.cross_entropy(logits.view(-1, logits.size(-1)), Y.view(-1))\n",
    "print('loss:', loss)"
   ]
  },
  {
   "cell_type": "markdown",
   "metadata": {},
   "source": [
    "# 4 Model Forward"
   ]
  },
  {
   "cell_type": "code",
   "execution_count": 40,
   "metadata": {},
   "outputs": [
    {
     "data": {
      "text/plain": [
       "LLaMA(\n",
       "  (lm_head): Linear(in_features=128, out_features=32000, bias=False)\n",
       "  (transformer): ModuleDict(\n",
       "    (wte): Embedding(32000, 128)\n",
       "    (h): ModuleList(\n",
       "      (0-1): 2 x Block(\n",
       "        (rms_1): RMSNorm()\n",
       "        (attn): CausalSelfAttention(\n",
       "          (c_attn): Linear(in_features=128, out_features=384, bias=False)\n",
       "          (c_proj): Linear(in_features=128, out_features=128, bias=False)\n",
       "        )\n",
       "        (rms_2): RMSNorm()\n",
       "        (mlp): MLP(\n",
       "          (c_fc1): Linear(in_features=128, out_features=512, bias=False)\n",
       "          (c_fc2): Linear(in_features=128, out_features=512, bias=False)\n",
       "          (c_proj): Linear(in_features=512, out_features=128, bias=False)\n",
       "        )\n",
       "      )\n",
       "    )\n",
       "    (ln_f): RMSNorm()\n",
       "  )\n",
       ")"
      ]
     },
     "execution_count": 40,
     "metadata": {},
     "output_type": "execute_result"
    }
   ],
   "source": [
    "model"
   ]
  },
  {
   "cell_type": "code",
   "execution_count": 63,
   "metadata": {},
   "outputs": [
    {
     "data": {
      "text/html": [
       "<pre style=\"white-space:pre;overflow-x:auto;line-height:normal;font-family:Menlo,'DejaVu Sans Mono',consolas,'Courier New',monospace\">batch:<span style=\"color: #008080; text-decoration-color: #008080; font-weight: bold\">16</span>, length:<span style=\"color: #008080; text-decoration-color: #008080; font-weight: bold\">1024</span> \n",
       "</pre>\n"
      ],
      "text/plain": [
       "batch:\u001b[1;36m16\u001b[0m, length:\u001b[1;36m1024\u001b[0m \n"
      ]
     },
     "metadata": {},
     "output_type": "display_data"
    }
   ],
   "source": [
    "idx = X\n",
    "B, T = idx.size()\n",
    "print(\"batch:{}, length:{} \".format(B,T))"
   ]
  },
  {
   "cell_type": "code",
   "execution_count": 64,
   "metadata": {},
   "outputs": [
    {
     "data": {
      "text/html": [
       "<pre style=\"white-space:pre;overflow-x:auto;line-height:normal;font-family:Menlo,'DejaVu Sans Mono',consolas,'Courier New',monospace\">--------------<span style=\"color: #008080; text-decoration-color: #008080; font-weight: bold\">-0</span>. create RoPE, Mask----------------\n",
       "</pre>\n"
      ],
      "text/plain": [
       "--------------\u001b[1;36m-0\u001b[0m. create RoPE, Mask----------------\n"
      ]
     },
     "metadata": {},
     "output_type": "display_data"
    },
    {
     "data": {
      "text/html": [
       "<pre style=\"white-space:pre;overflow-x:auto;line-height:normal;font-family:Menlo,'DejaVu Sans Mono',consolas,'Courier New',monospace\">rope: \n",
       "<span style=\"color: #800080; text-decoration-color: #800080; font-weight: bold\">torch.Size</span><span style=\"font-weight: bold\">([</span><span style=\"color: #008080; text-decoration-color: #008080; font-weight: bold\">1024</span>, <span style=\"color: #008080; text-decoration-color: #008080; font-weight: bold\">8</span>, <span style=\"color: #008080; text-decoration-color: #008080; font-weight: bold\">2</span><span style=\"font-weight: bold\">])</span>\n",
       "</pre>\n"
      ],
      "text/plain": [
       "rope: \n",
       "\u001b[1;35mtorch.Size\u001b[0m\u001b[1m(\u001b[0m\u001b[1m[\u001b[0m\u001b[1;36m1024\u001b[0m, \u001b[1;36m8\u001b[0m, \u001b[1;36m2\u001b[0m\u001b[1m]\u001b[0m\u001b[1m)\u001b[0m\n"
      ]
     },
     "metadata": {},
     "output_type": "display_data"
    },
    {
     "data": {
      "text/html": [
       "<pre style=\"white-space:pre;overflow-x:auto;line-height:normal;font-family:Menlo,'DejaVu Sans Mono',consolas,'Courier New',monospace\">mask: \n",
       "<span style=\"color: #800080; text-decoration-color: #800080; font-weight: bold\">torch.Size</span><span style=\"font-weight: bold\">([</span><span style=\"color: #008080; text-decoration-color: #008080; font-weight: bold\">1</span>, <span style=\"color: #008080; text-decoration-color: #008080; font-weight: bold\">1</span>, <span style=\"color: #008080; text-decoration-color: #008080; font-weight: bold\">1024</span>, <span style=\"color: #008080; text-decoration-color: #008080; font-weight: bold\">1024</span><span style=\"font-weight: bold\">])</span>\n",
       "</pre>\n"
      ],
      "text/plain": [
       "mask: \n",
       "\u001b[1;35mtorch.Size\u001b[0m\u001b[1m(\u001b[0m\u001b[1m[\u001b[0m\u001b[1;36m1\u001b[0m, \u001b[1;36m1\u001b[0m, \u001b[1;36m1024\u001b[0m, \u001b[1;36m1024\u001b[0m\u001b[1m]\u001b[0m\u001b[1m)\u001b[0m\n"
      ]
     },
     "metadata": {},
     "output_type": "display_data"
    },
    {
     "data": {
      "text/html": [
       "<pre style=\"white-space:pre;overflow-x:auto;line-height:normal;font-family:Menlo,'DejaVu Sans Mono',consolas,'Courier New',monospace\">length: <span style=\"color: #008080; text-decoration-color: #008080; font-weight: bold\">1024</span>\n",
       "</pre>\n"
      ],
      "text/plain": [
       "length: \u001b[1;36m1024\u001b[0m\n"
      ]
     },
     "metadata": {},
     "output_type": "display_data"
    }
   ],
   "source": [
    "print('---------------0. create RoPE, Mask----------------')\n",
    "# 创建RoPE、mask矩阵\n",
    "rope = model.rope_cache[:T]\n",
    "mask = model.mask_cache[:, :, :T, :T]\n",
    "print(\"rope: \", rope.shape)\n",
    "print(\"mask: \", mask.shape)\n",
    "max_seq_length = model.config.block_size\n",
    "print(\"length:\", max_seq_length)"
   ]
  },
  {
   "cell_type": "code",
   "execution_count": 70,
   "metadata": {},
   "outputs": [
    {
     "data": {
      "text/html": [
       "<pre style=\"white-space:pre;overflow-x:auto;line-height:normal;font-family:Menlo,'DejaVu Sans Mono',consolas,'Courier New',monospace\">--------------<span style=\"color: #008080; text-decoration-color: #008080; font-weight: bold\">-1.</span>embding----------------\n",
       "</pre>\n"
      ],
      "text/plain": [
       "--------------\u001b[1;36m-1.\u001b[0membding----------------\n"
      ]
     },
     "metadata": {},
     "output_type": "display_data"
    },
    {
     "data": {
      "text/html": [
       "<pre style=\"white-space:pre;overflow-x:auto;line-height:normal;font-family:Menlo,'DejaVu Sans Mono',consolas,'Courier New',monospace\">n_embd:  <span style=\"color: #008080; text-decoration-color: #008080; font-weight: bold\">128</span>\n",
       "</pre>\n"
      ],
      "text/plain": [
       "n_embd:  \u001b[1;36m128\u001b[0m\n"
      ]
     },
     "metadata": {},
     "output_type": "display_data"
    },
    {
     "data": {
      "text/html": [
       "<pre style=\"white-space:pre;overflow-x:auto;line-height:normal;font-family:Menlo,'DejaVu Sans Mono',consolas,'Courier New',monospace\">before embeding: \n",
       "<span style=\"color: #800080; text-decoration-color: #800080; font-weight: bold\">torch.Size</span><span style=\"font-weight: bold\">([</span><span style=\"color: #008080; text-decoration-color: #008080; font-weight: bold\">16</span>, <span style=\"color: #008080; text-decoration-color: #008080; font-weight: bold\">1024</span><span style=\"font-weight: bold\">])</span>\n",
       "</pre>\n"
      ],
      "text/plain": [
       "before embeding: \n",
       "\u001b[1;35mtorch.Size\u001b[0m\u001b[1m(\u001b[0m\u001b[1m[\u001b[0m\u001b[1;36m16\u001b[0m, \u001b[1;36m1024\u001b[0m\u001b[1m]\u001b[0m\u001b[1m)\u001b[0m\n"
      ]
     },
     "metadata": {},
     "output_type": "display_data"
    },
    {
     "data": {
      "text/html": [
       "<pre style=\"white-space:pre;overflow-x:auto;line-height:normal;font-family:Menlo,'DejaVu Sans Mono',consolas,'Courier New',monospace\">after embeding: \n",
       "<span style=\"color: #800080; text-decoration-color: #800080; font-weight: bold\">torch.Size</span><span style=\"font-weight: bold\">([</span><span style=\"color: #008080; text-decoration-color: #008080; font-weight: bold\">16</span>, <span style=\"color: #008080; text-decoration-color: #008080; font-weight: bold\">1024</span>, <span style=\"color: #008080; text-decoration-color: #008080; font-weight: bold\">128</span><span style=\"font-weight: bold\">])</span>\n",
       "</pre>\n"
      ],
      "text/plain": [
       "after embeding: \n",
       "\u001b[1;35mtorch.Size\u001b[0m\u001b[1m(\u001b[0m\u001b[1m[\u001b[0m\u001b[1;36m16\u001b[0m, \u001b[1;36m1024\u001b[0m, \u001b[1;36m128\u001b[0m\u001b[1m]\u001b[0m\u001b[1m)\u001b[0m\n"
      ]
     },
     "metadata": {},
     "output_type": "display_data"
    }
   ],
   "source": [
    "print('---------------1.embding----------------')\n",
    "x = model.transformer.wte(idx)\n",
    "x_embd = x\n",
    "print(\"n_embd: \", config.n_embd)\n",
    "print(\"before embeding: \", idx.shape)\n",
    "print(\"after embeding: \", x.shape)"
   ]
  },
  {
   "cell_type": "code",
   "execution_count": 66,
   "metadata": {},
   "outputs": [
    {
     "data": {
      "text/html": [
       "<pre style=\"white-space:pre;overflow-x:auto;line-height:normal;font-family:Menlo,'DejaVu Sans Mono',consolas,'Courier New',monospace\">--------------<span style=\"color: #008080; text-decoration-color: #008080; font-weight: bold\">-2.</span>llama block attention ----------------\n",
       "</pre>\n"
      ],
      "text/plain": [
       "--------------\u001b[1;36m-2.\u001b[0mllama block attention ----------------\n"
      ]
     },
     "metadata": {},
     "output_type": "display_data"
    },
    {
     "data": {
      "text/html": [
       "<pre style=\"white-space:pre;overflow-x:auto;line-height:normal;font-family:Menlo,'DejaVu Sans Mono',consolas,'Courier New',monospace\">block size =  <span style=\"color: #008080; text-decoration-color: #008080; font-weight: bold\">2</span>\n",
       "</pre>\n"
      ],
      "text/plain": [
       "block size =  \u001b[1;36m2\u001b[0m\n"
      ]
     },
     "metadata": {},
     "output_type": "display_data"
    },
    {
     "data": {
      "text/html": [
       "<pre style=\"white-space:pre;overflow-x:auto;line-height:normal;font-family:Menlo,'DejaVu Sans Mono',consolas,'Courier New',monospace\">n_layer <span style=\"color: #008080; text-decoration-color: #008080; font-weight: bold\">2</span>\n",
       "</pre>\n"
      ],
      "text/plain": [
       "n_layer \u001b[1;36m2\u001b[0m\n"
      ]
     },
     "metadata": {},
     "output_type": "display_data"
    },
    {
     "name": "stdout",
     "output_type": "stream",
     "text": [
      "torch.Size([16, 8, 1024, 16])\n",
      "torch.Size([16, 8, 1024, 16])\n",
      "torch.Size([16, 8, 1024, 16])\n",
      "torch.Size([1, 1, 1024, 1024])\n"
     ]
    },
    {
     "data": {
      "text/html": [
       "<pre style=\"white-space:pre;overflow-x:auto;line-height:normal;font-family:Menlo,'DejaVu Sans Mono',consolas,'Courier New',monospace\">LLama Block: \n",
       "<span style=\"color: #800080; text-decoration-color: #800080; font-weight: bold\">torch.Size</span><span style=\"font-weight: bold\">([</span><span style=\"color: #008080; text-decoration-color: #008080; font-weight: bold\">16</span>, <span style=\"color: #008080; text-decoration-color: #008080; font-weight: bold\">1024</span>, <span style=\"color: #008080; text-decoration-color: #008080; font-weight: bold\">128</span><span style=\"font-weight: bold\">])</span>\n",
       "</pre>\n"
      ],
      "text/plain": [
       "LLama Block: \n",
       "\u001b[1;35mtorch.Size\u001b[0m\u001b[1m(\u001b[0m\u001b[1m[\u001b[0m\u001b[1;36m16\u001b[0m, \u001b[1;36m1024\u001b[0m, \u001b[1;36m128\u001b[0m\u001b[1m]\u001b[0m\u001b[1m)\u001b[0m\n"
      ]
     },
     "metadata": {},
     "output_type": "display_data"
    },
    {
     "name": "stdout",
     "output_type": "stream",
     "text": [
      "torch.Size([16, 8, 1024, 16])\n",
      "torch.Size([16, 8, 1024, 16])\n",
      "torch.Size([16, 8, 1024, 16])\n",
      "torch.Size([1, 1, 1024, 1024])\n"
     ]
    },
    {
     "data": {
      "text/html": [
       "<pre style=\"white-space:pre;overflow-x:auto;line-height:normal;font-family:Menlo,'DejaVu Sans Mono',consolas,'Courier New',monospace\">LLama Block: \n",
       "<span style=\"color: #800080; text-decoration-color: #800080; font-weight: bold\">torch.Size</span><span style=\"font-weight: bold\">([</span><span style=\"color: #008080; text-decoration-color: #008080; font-weight: bold\">16</span>, <span style=\"color: #008080; text-decoration-color: #008080; font-weight: bold\">1024</span>, <span style=\"color: #008080; text-decoration-color: #008080; font-weight: bold\">128</span><span style=\"font-weight: bold\">])</span>\n",
       "</pre>\n"
      ],
      "text/plain": [
       "LLama Block: \n",
       "\u001b[1;35mtorch.Size\u001b[0m\u001b[1m(\u001b[0m\u001b[1m[\u001b[0m\u001b[1;36m16\u001b[0m, \u001b[1;36m1024\u001b[0m, \u001b[1;36m128\u001b[0m\u001b[1m]\u001b[0m\u001b[1m)\u001b[0m\n"
      ]
     },
     "metadata": {},
     "output_type": "display_data"
    }
   ],
   "source": [
    "print('---------------2.llama block attention ----------------')\n",
    "print(\"block size = \",len(model.transformer.h))\n",
    "print(\"n_layer\",config.n_layer)\n",
    "for block in model.transformer.h:\n",
    "    x, _ = block(x, rope, mask, max_seq_length)\n",
    "    print(\"LLama Block: \",x.shape)"
   ]
  },
  {
   "cell_type": "code",
   "execution_count": 67,
   "metadata": {},
   "outputs": [
    {
     "data": {
      "text/html": [
       "<pre style=\"white-space:pre;overflow-x:auto;line-height:normal;font-family:Menlo,'DejaVu Sans Mono',consolas,'Courier New',monospace\">--------------<span style=\"color: #008080; text-decoration-color: #008080; font-weight: bold\">-3.</span>llama output ----------------\n",
       "</pre>\n"
      ],
      "text/plain": [
       "--------------\u001b[1;36m-3.\u001b[0mllama output ----------------\n"
      ]
     },
     "metadata": {},
     "output_type": "display_data"
    },
    {
     "data": {
      "text/html": [
       "<pre style=\"white-space:pre;overflow-x:auto;line-height:normal;font-family:Menlo,'DejaVu Sans Mono',consolas,'Courier New',monospace\">layer norm no center: \n",
       "<span style=\"color: #800080; text-decoration-color: #800080; font-weight: bold\">torch.Size</span><span style=\"font-weight: bold\">([</span><span style=\"color: #008080; text-decoration-color: #008080; font-weight: bold\">16</span>, <span style=\"color: #008080; text-decoration-color: #008080; font-weight: bold\">1024</span>, <span style=\"color: #008080; text-decoration-color: #008080; font-weight: bold\">128</span><span style=\"font-weight: bold\">])</span>\n",
       "</pre>\n"
      ],
      "text/plain": [
       "layer norm no center: \n",
       "\u001b[1;35mtorch.Size\u001b[0m\u001b[1m(\u001b[0m\u001b[1m[\u001b[0m\u001b[1;36m16\u001b[0m, \u001b[1;36m1024\u001b[0m, \u001b[1;36m128\u001b[0m\u001b[1m]\u001b[0m\u001b[1m)\u001b[0m\n"
      ]
     },
     "metadata": {},
     "output_type": "display_data"
    },
    {
     "data": {
      "text/html": [
       "<pre style=\"white-space:pre;overflow-x:auto;line-height:normal;font-family:Menlo,'DejaVu Sans Mono',consolas,'Courier New',monospace\">output logits \n",
       "<span style=\"color: #800080; text-decoration-color: #800080; font-weight: bold\">torch.Size</span><span style=\"font-weight: bold\">([</span><span style=\"color: #008080; text-decoration-color: #008080; font-weight: bold\">16</span>, <span style=\"color: #008080; text-decoration-color: #008080; font-weight: bold\">1024</span>, <span style=\"color: #008080; text-decoration-color: #008080; font-weight: bold\">32000</span><span style=\"font-weight: bold\">])</span>\n",
       "</pre>\n"
      ],
      "text/plain": [
       "output logits \n",
       "\u001b[1;35mtorch.Size\u001b[0m\u001b[1m(\u001b[0m\u001b[1m[\u001b[0m\u001b[1;36m16\u001b[0m, \u001b[1;36m1024\u001b[0m, \u001b[1;36m32000\u001b[0m\u001b[1m]\u001b[0m\u001b[1m)\u001b[0m\n"
      ]
     },
     "metadata": {},
     "output_type": "display_data"
    },
    {
     "data": {
      "text/html": [
       "<pre style=\"white-space:pre;overflow-x:auto;line-height:normal;font-family:Menlo,'DejaVu Sans Mono',consolas,'Courier New',monospace\">config.vocab_size:  <span style=\"color: #008080; text-decoration-color: #008080; font-weight: bold\">32000</span>\n",
       "</pre>\n"
      ],
      "text/plain": [
       "config.vocab_size:  \u001b[1;36m32000\u001b[0m\n"
      ]
     },
     "metadata": {},
     "output_type": "display_data"
    }
   ],
   "source": [
    "print('---------------3.llama output ----------------')\n",
    "x = model.transformer.ln_f(x)\n",
    "print(\"layer norm no center: \",x.shape)\n",
    "\n",
    "logits = model.lm_head(x)\n",
    "print(\"output logits \",logits.shape)\n",
    "print(\"config.vocab_size: \", config.vocab_size)"
   ]
  },
  {
   "cell_type": "markdown",
   "metadata": {},
   "source": [
    "## 4.1 Block Forward"
   ]
  },
  {
   "cell_type": "code",
   "execution_count": 68,
   "metadata": {},
   "outputs": [
    {
     "data": {
      "text/html": [
       "<pre style=\"white-space:pre;overflow-x:auto;line-height:normal;font-family:Menlo,'DejaVu Sans Mono',consolas,'Courier New',monospace\"><span style=\"color: #800080; text-decoration-color: #800080; font-weight: bold\">Block</span><span style=\"font-weight: bold\">(</span>\n",
       "  <span style=\"font-weight: bold\">(</span>rms_1<span style=\"font-weight: bold\">)</span>: <span style=\"color: #800080; text-decoration-color: #800080; font-weight: bold\">RMSNorm</span><span style=\"font-weight: bold\">()</span>\n",
       "  <span style=\"font-weight: bold\">(</span>attn<span style=\"font-weight: bold\">)</span>: <span style=\"color: #800080; text-decoration-color: #800080; font-weight: bold\">CausalSelfAttention</span><span style=\"font-weight: bold\">(</span>\n",
       "    <span style=\"font-weight: bold\">(</span>c_attn<span style=\"font-weight: bold\">)</span>: <span style=\"color: #800080; text-decoration-color: #800080; font-weight: bold\">Linear</span><span style=\"font-weight: bold\">(</span><span style=\"color: #808000; text-decoration-color: #808000\">in_features</span>=<span style=\"color: #008080; text-decoration-color: #008080; font-weight: bold\">128</span>, <span style=\"color: #808000; text-decoration-color: #808000\">out_features</span>=<span style=\"color: #008080; text-decoration-color: #008080; font-weight: bold\">384</span>, <span style=\"color: #808000; text-decoration-color: #808000\">bias</span>=<span style=\"color: #ff0000; text-decoration-color: #ff0000; font-style: italic\">False</span><span style=\"font-weight: bold\">)</span>\n",
       "    <span style=\"font-weight: bold\">(</span>c_proj<span style=\"font-weight: bold\">)</span>: <span style=\"color: #800080; text-decoration-color: #800080; font-weight: bold\">Linear</span><span style=\"font-weight: bold\">(</span><span style=\"color: #808000; text-decoration-color: #808000\">in_features</span>=<span style=\"color: #008080; text-decoration-color: #008080; font-weight: bold\">128</span>, <span style=\"color: #808000; text-decoration-color: #808000\">out_features</span>=<span style=\"color: #008080; text-decoration-color: #008080; font-weight: bold\">128</span>, <span style=\"color: #808000; text-decoration-color: #808000\">bias</span>=<span style=\"color: #ff0000; text-decoration-color: #ff0000; font-style: italic\">False</span><span style=\"font-weight: bold\">)</span>\n",
       "  <span style=\"font-weight: bold\">)</span>\n",
       "  <span style=\"font-weight: bold\">(</span>rms_2<span style=\"font-weight: bold\">)</span>: <span style=\"color: #800080; text-decoration-color: #800080; font-weight: bold\">RMSNorm</span><span style=\"font-weight: bold\">()</span>\n",
       "  <span style=\"font-weight: bold\">(</span>mlp<span style=\"font-weight: bold\">)</span>: <span style=\"color: #800080; text-decoration-color: #800080; font-weight: bold\">MLP</span><span style=\"font-weight: bold\">(</span>\n",
       "    <span style=\"font-weight: bold\">(</span>c_fc1<span style=\"font-weight: bold\">)</span>: <span style=\"color: #800080; text-decoration-color: #800080; font-weight: bold\">Linear</span><span style=\"font-weight: bold\">(</span><span style=\"color: #808000; text-decoration-color: #808000\">in_features</span>=<span style=\"color: #008080; text-decoration-color: #008080; font-weight: bold\">128</span>, <span style=\"color: #808000; text-decoration-color: #808000\">out_features</span>=<span style=\"color: #008080; text-decoration-color: #008080; font-weight: bold\">512</span>, <span style=\"color: #808000; text-decoration-color: #808000\">bias</span>=<span style=\"color: #ff0000; text-decoration-color: #ff0000; font-style: italic\">False</span><span style=\"font-weight: bold\">)</span>\n",
       "    <span style=\"font-weight: bold\">(</span>c_fc2<span style=\"font-weight: bold\">)</span>: <span style=\"color: #800080; text-decoration-color: #800080; font-weight: bold\">Linear</span><span style=\"font-weight: bold\">(</span><span style=\"color: #808000; text-decoration-color: #808000\">in_features</span>=<span style=\"color: #008080; text-decoration-color: #008080; font-weight: bold\">128</span>, <span style=\"color: #808000; text-decoration-color: #808000\">out_features</span>=<span style=\"color: #008080; text-decoration-color: #008080; font-weight: bold\">512</span>, <span style=\"color: #808000; text-decoration-color: #808000\">bias</span>=<span style=\"color: #ff0000; text-decoration-color: #ff0000; font-style: italic\">False</span><span style=\"font-weight: bold\">)</span>\n",
       "    <span style=\"font-weight: bold\">(</span>c_proj<span style=\"font-weight: bold\">)</span>: <span style=\"color: #800080; text-decoration-color: #800080; font-weight: bold\">Linear</span><span style=\"font-weight: bold\">(</span><span style=\"color: #808000; text-decoration-color: #808000\">in_features</span>=<span style=\"color: #008080; text-decoration-color: #008080; font-weight: bold\">512</span>, <span style=\"color: #808000; text-decoration-color: #808000\">out_features</span>=<span style=\"color: #008080; text-decoration-color: #008080; font-weight: bold\">128</span>, <span style=\"color: #808000; text-decoration-color: #808000\">bias</span>=<span style=\"color: #ff0000; text-decoration-color: #ff0000; font-style: italic\">False</span><span style=\"font-weight: bold\">)</span>\n",
       "  <span style=\"font-weight: bold\">)</span>\n",
       "<span style=\"font-weight: bold\">)</span>\n",
       "</pre>\n"
      ],
      "text/plain": [
       "\u001b[1;35mBlock\u001b[0m\u001b[1m(\u001b[0m\n",
       "  \u001b[1m(\u001b[0mrms_1\u001b[1m)\u001b[0m: \u001b[1;35mRMSNorm\u001b[0m\u001b[1m(\u001b[0m\u001b[1m)\u001b[0m\n",
       "  \u001b[1m(\u001b[0mattn\u001b[1m)\u001b[0m: \u001b[1;35mCausalSelfAttention\u001b[0m\u001b[1m(\u001b[0m\n",
       "    \u001b[1m(\u001b[0mc_attn\u001b[1m)\u001b[0m: \u001b[1;35mLinear\u001b[0m\u001b[1m(\u001b[0m\u001b[33min_features\u001b[0m=\u001b[1;36m128\u001b[0m, \u001b[33mout_features\u001b[0m=\u001b[1;36m384\u001b[0m, \u001b[33mbias\u001b[0m=\u001b[3;91mFalse\u001b[0m\u001b[1m)\u001b[0m\n",
       "    \u001b[1m(\u001b[0mc_proj\u001b[1m)\u001b[0m: \u001b[1;35mLinear\u001b[0m\u001b[1m(\u001b[0m\u001b[33min_features\u001b[0m=\u001b[1;36m128\u001b[0m, \u001b[33mout_features\u001b[0m=\u001b[1;36m128\u001b[0m, \u001b[33mbias\u001b[0m=\u001b[3;91mFalse\u001b[0m\u001b[1m)\u001b[0m\n",
       "  \u001b[1m)\u001b[0m\n",
       "  \u001b[1m(\u001b[0mrms_2\u001b[1m)\u001b[0m: \u001b[1;35mRMSNorm\u001b[0m\u001b[1m(\u001b[0m\u001b[1m)\u001b[0m\n",
       "  \u001b[1m(\u001b[0mmlp\u001b[1m)\u001b[0m: \u001b[1;35mMLP\u001b[0m\u001b[1m(\u001b[0m\n",
       "    \u001b[1m(\u001b[0mc_fc1\u001b[1m)\u001b[0m: \u001b[1;35mLinear\u001b[0m\u001b[1m(\u001b[0m\u001b[33min_features\u001b[0m=\u001b[1;36m128\u001b[0m, \u001b[33mout_features\u001b[0m=\u001b[1;36m512\u001b[0m, \u001b[33mbias\u001b[0m=\u001b[3;91mFalse\u001b[0m\u001b[1m)\u001b[0m\n",
       "    \u001b[1m(\u001b[0mc_fc2\u001b[1m)\u001b[0m: \u001b[1;35mLinear\u001b[0m\u001b[1m(\u001b[0m\u001b[33min_features\u001b[0m=\u001b[1;36m128\u001b[0m, \u001b[33mout_features\u001b[0m=\u001b[1;36m512\u001b[0m, \u001b[33mbias\u001b[0m=\u001b[3;91mFalse\u001b[0m\u001b[1m)\u001b[0m\n",
       "    \u001b[1m(\u001b[0mc_proj\u001b[1m)\u001b[0m: \u001b[1;35mLinear\u001b[0m\u001b[1m(\u001b[0m\u001b[33min_features\u001b[0m=\u001b[1;36m512\u001b[0m, \u001b[33mout_features\u001b[0m=\u001b[1;36m128\u001b[0m, \u001b[33mbias\u001b[0m=\u001b[3;91mFalse\u001b[0m\u001b[1m)\u001b[0m\n",
       "  \u001b[1m)\u001b[0m\n",
       "\u001b[1m)\u001b[0m\n"
      ]
     },
     "metadata": {},
     "output_type": "display_data"
    }
   ],
   "source": [
    "block = model.transformer.h[0]\n",
    "print(block)"
   ]
  },
  {
   "cell_type": "code",
   "execution_count": 71,
   "metadata": {},
   "outputs": [
    {
     "data": {
      "text/html": [
       "<pre style=\"white-space:pre;overflow-x:auto;line-height:normal;font-family:Menlo,'DejaVu Sans Mono',consolas,'Courier New',monospace\"><span style=\"color: #800080; text-decoration-color: #800080; font-weight: bold\">torch.Size</span><span style=\"font-weight: bold\">([</span><span style=\"color: #008080; text-decoration-color: #008080; font-weight: bold\">16</span>, <span style=\"color: #008080; text-decoration-color: #008080; font-weight: bold\">1024</span>, <span style=\"color: #008080; text-decoration-color: #008080; font-weight: bold\">128</span><span style=\"font-weight: bold\">])</span>\n",
       "</pre>\n"
      ],
      "text/plain": [
       "\u001b[1;35mtorch.Size\u001b[0m\u001b[1m(\u001b[0m\u001b[1m[\u001b[0m\u001b[1;36m16\u001b[0m, \u001b[1;36m1024\u001b[0m, \u001b[1;36m128\u001b[0m\u001b[1m]\u001b[0m\u001b[1m)\u001b[0m\n"
      ]
     },
     "metadata": {},
     "output_type": "display_data"
    },
    {
     "name": "stdout",
     "output_type": "stream",
     "text": [
      "torch.Size([16, 8, 1024, 16])\n",
      "torch.Size([16, 8, 1024, 16])\n",
      "torch.Size([16, 8, 1024, 16])\n",
      "torch.Size([1, 1, 1024, 1024])\n"
     ]
    },
    {
     "data": {
      "text/html": [
       "<pre style=\"white-space:pre;overflow-x:auto;line-height:normal;font-family:Menlo,'DejaVu Sans Mono',consolas,'Courier New',monospace\">rms_1 -&gt; attention-&gt; rms_2-&gt; MLP\n",
       "</pre>\n"
      ],
      "text/plain": [
       "rms_1 -> attention-> rms_2-> MLP\n"
      ]
     },
     "metadata": {},
     "output_type": "display_data"
    }
   ],
   "source": [
    "print(x_embd.shape)\n",
    "x, _ = block(x_embd, rope, mask, max_seq_length)\n",
    "print(\"rms_1 -> attention-> rms_2-> MLP\")"
   ]
  },
  {
   "cell_type": "code",
   "execution_count": 81,
   "metadata": {},
   "outputs": [
    {
     "name": "stdout",
     "output_type": "stream",
     "text": [
      "torch.Size([16, 8, 1024, 16])\n",
      "torch.Size([16, 8, 1024, 16])\n",
      "torch.Size([16, 8, 1024, 16])\n",
      "torch.Size([1, 1, 1024, 1024])\n"
     ]
    },
    {
     "data": {
      "text/html": [
       "<pre style=\"white-space:pre;overflow-x:auto;line-height:normal;font-family:Menlo,'DejaVu Sans Mono',consolas,'Courier New',monospace\">block attention result:\n",
       "<span style=\"color: #800080; text-decoration-color: #800080; font-weight: bold\">torch.Size</span><span style=\"font-weight: bold\">([</span><span style=\"color: #008080; text-decoration-color: #008080; font-weight: bold\">16</span>, <span style=\"color: #008080; text-decoration-color: #008080; font-weight: bold\">1024</span>, <span style=\"color: #008080; text-decoration-color: #008080; font-weight: bold\">128</span><span style=\"font-weight: bold\">])</span>\n",
       "</pre>\n"
      ],
      "text/plain": [
       "block attention result:\n",
       "\u001b[1;35mtorch.Size\u001b[0m\u001b[1m(\u001b[0m\u001b[1m[\u001b[0m\u001b[1;36m16\u001b[0m, \u001b[1;36m1024\u001b[0m, \u001b[1;36m128\u001b[0m\u001b[1m]\u001b[0m\u001b[1m)\u001b[0m\n"
      ]
     },
     "metadata": {},
     "output_type": "display_data"
    },
    {
     "data": {
      "text/html": [
       "<pre style=\"white-space:pre;overflow-x:auto;line-height:normal;font-family:Menlo,'DejaVu Sans Mono',consolas,'Courier New',monospace\">x + <span style=\"color: #800080; text-decoration-color: #800080; font-weight: bold\">mlp</span><span style=\"font-weight: bold\">(</span>x<span style=\"font-weight: bold\">)</span> result:\n",
       "<span style=\"color: #800080; text-decoration-color: #800080; font-weight: bold\">torch.Size</span><span style=\"font-weight: bold\">([</span><span style=\"color: #008080; text-decoration-color: #008080; font-weight: bold\">16</span>, <span style=\"color: #008080; text-decoration-color: #008080; font-weight: bold\">1024</span>, <span style=\"color: #008080; text-decoration-color: #008080; font-weight: bold\">128</span><span style=\"font-weight: bold\">])</span>\n",
       "</pre>\n"
      ],
      "text/plain": [
       "x + \u001b[1;35mmlp\u001b[0m\u001b[1m(\u001b[0mx\u001b[1m)\u001b[0m result:\n",
       "\u001b[1;35mtorch.Size\u001b[0m\u001b[1m(\u001b[0m\u001b[1m[\u001b[0m\u001b[1;36m16\u001b[0m, \u001b[1;36m1024\u001b[0m, \u001b[1;36m128\u001b[0m\u001b[1m]\u001b[0m\u001b[1m)\u001b[0m\n"
      ]
     },
     "metadata": {},
     "output_type": "display_data"
    }
   ],
   "source": [
    "x_rms_1 = block.rms_1(x_embd)\n",
    "x_attn, _ = block.attn(x_rms_1, rope, mask, max_seq_length)\n",
    "x = x_embd + x_attn\n",
    "print('block attention result:', x.shape)\n",
    "\n",
    "x_rms_2 = block.rms_2(x)\n",
    "x_block_out = block.mlp(x_rms_2) + x\n",
    "print('x + mlp(x) result:', x_block_out.shape)"
   ]
  },
  {
   "cell_type": "markdown",
   "metadata": {},
   "source": [
    "## 4.2 rms norm"
   ]
  },
  {
   "cell_type": "code",
   "execution_count": 82,
   "metadata": {},
   "outputs": [
    {
     "data": {
      "text/html": [
       "<pre style=\"white-space:pre;overflow-x:auto;line-height:normal;font-family:Menlo,'DejaVu Sans Mono',consolas,'Courier New',monospace\"><span style=\"color: #800080; text-decoration-color: #800080; font-weight: bold\">RMSNorm</span><span style=\"font-weight: bold\">()</span>\n",
       "</pre>\n"
      ],
      "text/plain": [
       "\u001b[1;35mRMSNorm\u001b[0m\u001b[1m(\u001b[0m\u001b[1m)\u001b[0m\n"
      ]
     },
     "metadata": {},
     "output_type": "display_data"
    }
   ],
   "source": [
    "rms_norm = model.transformer.h[0].rms_1\n",
    "print(rms_norm)"
   ]
  },
  {
   "cell_type": "code",
   "execution_count": 84,
   "metadata": {},
   "outputs": [
    {
     "data": {
      "text/html": [
       "<pre style=\"white-space:pre;overflow-x:auto;line-height:normal;font-family:Menlo,'DejaVu Sans Mono',consolas,'Courier New',monospace\">rms_norm.scale\n",
       "<span style=\"color: #800080; text-decoration-color: #800080; font-weight: bold\">torch.Size</span><span style=\"font-weight: bold\">([</span><span style=\"color: #008080; text-decoration-color: #008080; font-weight: bold\">128</span><span style=\"font-weight: bold\">])</span>\n",
       "</pre>\n"
      ],
      "text/plain": [
       "rms_norm.scale\n",
       "\u001b[1;35mtorch.Size\u001b[0m\u001b[1m(\u001b[0m\u001b[1m[\u001b[0m\u001b[1;36m128\u001b[0m\u001b[1m]\u001b[0m\u001b[1m)\u001b[0m\n"
      ]
     },
     "metadata": {},
     "output_type": "display_data"
    },
    {
     "data": {
      "text/html": [
       "<pre style=\"white-space:pre;overflow-x:auto;line-height:normal;font-family:Menlo,'DejaVu Sans Mono',consolas,'Courier New',monospace\">config.n_embd <span style=\"color: #008080; text-decoration-color: #008080; font-weight: bold\">128</span>\n",
       "</pre>\n"
      ],
      "text/plain": [
       "config.n_embd \u001b[1;36m128\u001b[0m\n"
      ]
     },
     "metadata": {},
     "output_type": "display_data"
    },
    {
     "data": {
      "text/html": [
       "<pre style=\"white-space:pre;overflow-x:auto;line-height:normal;font-family:Menlo,'DejaVu Sans Mono',consolas,'Courier New',monospace\">rms_norm.eps <span style=\"color: #008080; text-decoration-color: #008080; font-weight: bold\">1e-05</span>\n",
       "</pre>\n"
      ],
      "text/plain": [
       "rms_norm.eps \u001b[1;36m1e-05\u001b[0m\n"
      ]
     },
     "metadata": {},
     "output_type": "display_data"
    },
    {
     "data": {
      "text/html": [
       "<pre style=\"white-space:pre;overflow-x:auto;line-height:normal;font-family:Menlo,'DejaVu Sans Mono',consolas,'Courier New',monospace\">rms_norm.dim <span style=\"color: #008080; text-decoration-color: #008080; font-weight: bold\">-1</span>\n",
       "</pre>\n"
      ],
      "text/plain": [
       "rms_norm.dim \u001b[1;36m-1\u001b[0m\n"
      ]
     },
     "metadata": {},
     "output_type": "display_data"
    }
   ],
   "source": [
    "x = x_embd\n",
    "print(\"rms_norm.scale\", rms_norm.scale.shape)\n",
    "print(\"config.n_embd\", config.n_embd)\n",
    "print(\"rms_norm.eps\", rms_norm.eps)\n",
    "print(\"rms_norm.dim\", rms_norm.dim)"
   ]
  },
  {
   "cell_type": "code",
   "execution_count": 87,
   "metadata": {},
   "outputs": [
    {
     "data": {
      "text/html": [
       "<pre style=\"white-space:pre;overflow-x:auto;line-height:normal;font-family:Menlo,'DejaVu Sans Mono',consolas,'Courier New',monospace\">归一化前\n",
       "<span style=\"color: #800080; text-decoration-color: #800080; font-weight: bold\">torch.Size</span><span style=\"font-weight: bold\">([</span><span style=\"color: #008080; text-decoration-color: #008080; font-weight: bold\">16</span>, <span style=\"color: #008080; text-decoration-color: #008080; font-weight: bold\">1024</span>, <span style=\"color: #008080; text-decoration-color: #008080; font-weight: bold\">128</span><span style=\"font-weight: bold\">])</span>\n",
       "</pre>\n"
      ],
      "text/plain": [
       "归一化前\n",
       "\u001b[1;35mtorch.Size\u001b[0m\u001b[1m(\u001b[0m\u001b[1m[\u001b[0m\u001b[1;36m16\u001b[0m, \u001b[1;36m1024\u001b[0m, \u001b[1;36m128\u001b[0m\u001b[1m]\u001b[0m\u001b[1m)\u001b[0m\n"
      ]
     },
     "metadata": {},
     "output_type": "display_data"
    },
    {
     "data": {
      "text/html": [
       "<pre style=\"white-space:pre;overflow-x:auto;line-height:normal;font-family:Menlo,'DejaVu Sans Mono',consolas,'Courier New',monospace\">归一化后\n",
       "<span style=\"color: #800080; text-decoration-color: #800080; font-weight: bold\">torch.Size</span><span style=\"font-weight: bold\">([</span><span style=\"color: #008080; text-decoration-color: #008080; font-weight: bold\">16</span>, <span style=\"color: #008080; text-decoration-color: #008080; font-weight: bold\">1024</span>, <span style=\"color: #008080; text-decoration-color: #008080; font-weight: bold\">128</span><span style=\"font-weight: bold\">])</span>\n",
       "</pre>\n"
      ],
      "text/plain": [
       "归一化后\n",
       "\u001b[1;35mtorch.Size\u001b[0m\u001b[1m(\u001b[0m\u001b[1m[\u001b[0m\u001b[1;36m16\u001b[0m, \u001b[1;36m1024\u001b[0m, \u001b[1;36m128\u001b[0m\u001b[1m]\u001b[0m\u001b[1m)\u001b[0m\n"
      ]
     },
     "metadata": {},
     "output_type": "display_data"
    }
   ],
   "source": [
    "# rms_norm = x / rsqrt(Mean(x^2)+e) * W\n",
    "norm_x = torch.mean(x * x, dim=rms_norm.dim, keepdim=True)\n",
    "x_normed = x * torch.rsqrt(norm_x + rms_norm.eps)\n",
    "x_rms = rms_norm.scale * x_normed\n",
    "print(\"归一化前\", x_embd.shape)\n",
    "print(\"归一化后\", x_rms.shape)"
   ]
  },
  {
   "cell_type": "markdown",
   "metadata": {},
   "source": [
    "## 4.3 simple rope"
   ]
  },
  {
   "cell_type": "code",
   "execution_count": 89,
   "metadata": {},
   "outputs": [
    {
     "data": {
      "text/html": [
       "<pre style=\"white-space:pre;overflow-x:auto;line-height:normal;font-family:Menlo,'DejaVu Sans Mono',consolas,'Courier New',monospace\">输入:句长:<span style=\"color: #008080; text-decoration-color: #008080; font-weight: bold\">1024</span>,单头维度:<span style=\"color: #008080; text-decoration-color: #008080; font-weight: bold\">128</span>,头:<span style=\"color: #008080; text-decoration-color: #008080; font-weight: bold\">8</span>\n",
       "</pre>\n"
      ],
      "text/plain": [
       "输入:句长:\u001b[1;36m1024\u001b[0m,单头维度:\u001b[1;36m128\u001b[0m,头:\u001b[1;36m8\u001b[0m\n"
      ]
     },
     "metadata": {},
     "output_type": "display_data"
    }
   ],
   "source": [
    "seq_len = block_size\n",
    "n_elem = config.n_embd\n",
    "n_head = config.n_head\n",
    "base = 1000\n",
    "print(\"输入:句长:{},单头维度:{},头:{}\".format(seq_len, n_elem, n_head))"
   ]
  },
  {
   "cell_type": "code",
   "execution_count": 109,
   "metadata": {},
   "outputs": [
    {
     "data": {
      "text/html": [
       "<pre style=\"white-space:pre;overflow-x:auto;line-height:normal;font-family:Menlo,'DejaVu Sans Mono',consolas,'Courier New',monospace\"><span style=\"color: #800080; text-decoration-color: #800080; font-weight: bold\">torch.Size</span><span style=\"font-weight: bold\">([</span><span style=\"color: #008080; text-decoration-color: #008080; font-weight: bold\">64</span><span style=\"font-weight: bold\">])</span>\n",
       "</pre>\n"
      ],
      "text/plain": [
       "\u001b[1;35mtorch.Size\u001b[0m\u001b[1m(\u001b[0m\u001b[1m[\u001b[0m\u001b[1;36m64\u001b[0m\u001b[1m]\u001b[0m\u001b[1m)\u001b[0m\n"
      ]
     },
     "metadata": {},
     "output_type": "display_data"
    },
    {
     "data": {
      "text/html": [
       "<pre style=\"white-space:pre;overflow-x:auto;line-height:normal;font-family:Menlo,'DejaVu Sans Mono',consolas,'Courier New',monospace\"><span style=\"color: #800080; text-decoration-color: #800080; font-weight: bold\">torch.Size</span><span style=\"font-weight: bold\">([</span><span style=\"color: #008080; text-decoration-color: #008080; font-weight: bold\">1024</span>, <span style=\"color: #008080; text-decoration-color: #008080; font-weight: bold\">64</span><span style=\"font-weight: bold\">])</span>\n",
       "</pre>\n"
      ],
      "text/plain": [
       "\u001b[1;35mtorch.Size\u001b[0m\u001b[1m(\u001b[0m\u001b[1m[\u001b[0m\u001b[1;36m1024\u001b[0m, \u001b[1;36m64\u001b[0m\u001b[1m]\u001b[0m\u001b[1m)\u001b[0m\n"
      ]
     },
     "metadata": {},
     "output_type": "display_data"
    },
    {
     "data": {
      "text/html": [
       "<pre style=\"white-space:pre;overflow-x:auto;line-height:normal;font-family:Menlo,'DejaVu Sans Mono',consolas,'Courier New',monospace\"><span style=\"color: #800080; text-decoration-color: #800080; font-weight: bold\">torch.Size</span><span style=\"font-weight: bold\">([</span><span style=\"color: #008080; text-decoration-color: #008080; font-weight: bold\">1024</span>, <span style=\"color: #008080; text-decoration-color: #008080; font-weight: bold\">64</span>, <span style=\"color: #008080; text-decoration-color: #008080; font-weight: bold\">2</span><span style=\"font-weight: bold\">])</span>\n",
       "</pre>\n"
      ],
      "text/plain": [
       "\u001b[1;35mtorch.Size\u001b[0m\u001b[1m(\u001b[0m\u001b[1m[\u001b[0m\u001b[1;36m1024\u001b[0m, \u001b[1;36m64\u001b[0m, \u001b[1;36m2\u001b[0m\u001b[1m]\u001b[0m\u001b[1m)\u001b[0m\n"
      ]
     },
     "metadata": {},
     "output_type": "display_data"
    }
   ],
   "source": [
    "theta = 1.0 / (base ** (torch.arange(0, n_elem, 2) / n_elem))\n",
    "print(theta.shape) # 128d,两个一组\n",
    "seq_idx = torch.arange(seq_len)\n",
    "idx_theta = torch.outer(seq_idx, theta).float()\n",
    "print(idx_theta.shape)\n",
    "cache = torch.stack([torch.cos(idx_theta), torch.sin(idx_theta)], dim=-1)\n",
    "print(cache[:T].shape)"
   ]
  },
  {
   "cell_type": "code",
   "execution_count": 110,
   "metadata": {},
   "outputs": [],
   "source": [
    "# torch.outer(行，列)的用法\n",
    "import torch\n",
    "\n",
    "seq_idx = torch.tensor([1, 2, 3])  # 形状 (3,)\n",
    "theta = torch.tensor([0.5, 1.0])     # 形状 (2,)\n",
    "result = torch.outer(seq_idx, theta)\n",
    "# result 为：\n",
    "# tensor([[0.5000, 1.0000],\n",
    "#         [1.0000, 2.0000],\n",
    "#         [1.5000, 3.0000]])"
   ]
  },
  {
   "cell_type": "code",
   "execution_count": 113,
   "metadata": {},
   "outputs": [
    {
     "data": {
      "text/html": [
       "<pre style=\"white-space:pre;overflow-x:auto;line-height:normal;font-family:Menlo,'DejaVu Sans Mono',consolas,'Courier New',monospace\"><span style=\"color: #800080; text-decoration-color: #800080; font-weight: bold\">torch.Size</span><span style=\"font-weight: bold\">([</span><span style=\"color: #008080; text-decoration-color: #008080; font-weight: bold\">1</span>, <span style=\"color: #008080; text-decoration-color: #008080; font-weight: bold\">1</span>, <span style=\"color: #008080; text-decoration-color: #008080; font-weight: bold\">1</span>, <span style=\"color: #008080; text-decoration-color: #008080; font-weight: bold\">2</span>, <span style=\"color: #008080; text-decoration-color: #008080; font-weight: bold\">3</span><span style=\"font-weight: bold\">])</span>\n",
       "</pre>\n"
      ],
      "text/plain": [
       "\u001b[1;35mtorch.Size\u001b[0m\u001b[1m(\u001b[0m\u001b[1m[\u001b[0m\u001b[1;36m1\u001b[0m, \u001b[1;36m1\u001b[0m, \u001b[1;36m1\u001b[0m, \u001b[1;36m2\u001b[0m, \u001b[1;36m3\u001b[0m\u001b[1m]\u001b[0m\u001b[1m)\u001b[0m\n"
      ]
     },
     "metadata": {},
     "output_type": "display_data"
    },
    {
     "data": {
      "text/html": [
       "<pre style=\"white-space:pre;overflow-x:auto;line-height:normal;font-family:Menlo,'DejaVu Sans Mono',consolas,'Courier New',monospace\"><span style=\"color: #800080; text-decoration-color: #800080; font-weight: bold\">tensor</span><span style=\"font-weight: bold\">([[[[[</span> <span style=\"color: #008080; text-decoration-color: #008080; font-weight: bold\">2.0407</span>, <span style=\"color: #008080; text-decoration-color: #008080; font-weight: bold\">-1.2848</span>, <span style=\"color: #008080; text-decoration-color: #008080; font-weight: bold\">-0.2023</span><span style=\"font-weight: bold\">]</span>,\n",
       "           <span style=\"font-weight: bold\">[</span><span style=\"color: #008080; text-decoration-color: #008080; font-weight: bold\">-1.0511</span>,  <span style=\"color: #008080; text-decoration-color: #008080; font-weight: bold\">0.7091</span>,  <span style=\"color: #008080; text-decoration-color: #008080; font-weight: bold\">0.2638</span><span style=\"font-weight: bold\">]]]]])</span>\n",
       "</pre>\n"
      ],
      "text/plain": [
       "\u001b[1;35mtensor\u001b[0m\u001b[1m(\u001b[0m\u001b[1m[\u001b[0m\u001b[1m[\u001b[0m\u001b[1m[\u001b[0m\u001b[1m[\u001b[0m\u001b[1m[\u001b[0m \u001b[1;36m2.0407\u001b[0m, \u001b[1;36m-1.2848\u001b[0m, \u001b[1;36m-0.2023\u001b[0m\u001b[1m]\u001b[0m,\n",
       "           \u001b[1m[\u001b[0m\u001b[1;36m-1.0511\u001b[0m,  \u001b[1;36m0.7091\u001b[0m,  \u001b[1;36m0.2638\u001b[0m\u001b[1m]\u001b[0m\u001b[1m]\u001b[0m\u001b[1m]\u001b[0m\u001b[1m]\u001b[0m\u001b[1m]\u001b[0m\u001b[1m)\u001b[0m\n"
      ]
     },
     "metadata": {},
     "output_type": "display_data"
    },
    {
     "data": {
      "text/html": [
       "<pre style=\"white-space:pre;overflow-x:auto;line-height:normal;font-family:Menlo,'DejaVu Sans Mono',consolas,'Courier New',monospace\"><span style=\"color: #800080; text-decoration-color: #800080; font-weight: bold\">torch.Size</span><span style=\"font-weight: bold\">([</span><span style=\"color: #008080; text-decoration-color: #008080; font-weight: bold\">1</span>, <span style=\"color: #008080; text-decoration-color: #008080; font-weight: bold\">1</span>, <span style=\"color: #008080; text-decoration-color: #008080; font-weight: bold\">1</span>, <span style=\"color: #008080; text-decoration-color: #008080; font-weight: bold\">6</span><span style=\"font-weight: bold\">])</span>\n",
       "</pre>\n"
      ],
      "text/plain": [
       "\u001b[1;35mtorch.Size\u001b[0m\u001b[1m(\u001b[0m\u001b[1m[\u001b[0m\u001b[1;36m1\u001b[0m, \u001b[1;36m1\u001b[0m, \u001b[1;36m1\u001b[0m, \u001b[1;36m6\u001b[0m\u001b[1m]\u001b[0m\u001b[1m)\u001b[0m\n"
      ]
     },
     "metadata": {},
     "output_type": "display_data"
    },
    {
     "data": {
      "text/html": [
       "<pre style=\"white-space:pre;overflow-x:auto;line-height:normal;font-family:Menlo,'DejaVu Sans Mono',consolas,'Courier New',monospace\"><span style=\"color: #800080; text-decoration-color: #800080; font-weight: bold\">tensor</span><span style=\"font-weight: bold\">([[[[</span> <span style=\"color: #008080; text-decoration-color: #008080; font-weight: bold\">2.0407</span>, <span style=\"color: #008080; text-decoration-color: #008080; font-weight: bold\">-1.2848</span>, <span style=\"color: #008080; text-decoration-color: #008080; font-weight: bold\">-0.2023</span>, <span style=\"color: #008080; text-decoration-color: #008080; font-weight: bold\">-1.0511</span>,  <span style=\"color: #008080; text-decoration-color: #008080; font-weight: bold\">0.7091</span>,  <span style=\"color: #008080; text-decoration-color: #008080; font-weight: bold\">0.2638</span><span style=\"font-weight: bold\">]]]])</span>\n",
       "</pre>\n"
      ],
      "text/plain": [
       "\u001b[1;35mtensor\u001b[0m\u001b[1m(\u001b[0m\u001b[1m[\u001b[0m\u001b[1m[\u001b[0m\u001b[1m[\u001b[0m\u001b[1m[\u001b[0m \u001b[1;36m2.0407\u001b[0m, \u001b[1;36m-1.2848\u001b[0m, \u001b[1;36m-0.2023\u001b[0m, \u001b[1;36m-1.0511\u001b[0m,  \u001b[1;36m0.7091\u001b[0m,  \u001b[1;36m0.2638\u001b[0m\u001b[1m]\u001b[0m\u001b[1m]\u001b[0m\u001b[1m]\u001b[0m\u001b[1m]\u001b[0m\u001b[1m)\u001b[0m\n"
      ]
     },
     "metadata": {},
     "output_type": "display_data"
    }
   ],
   "source": [
    "# flatten的用法，flatten(start_dim, end_dim) 会把张量从 start_dim 到 end_dim 的所有维度合并为一个维度\n",
    "a = torch.randn(1,1,1,2,3)\n",
    "print(a.shape)\n",
    "print(a)\n",
    "print(a.flatten(3).shape)\n",
    "print(a.flatten(3))"
   ]
  },
  {
   "cell_type": "code",
   "execution_count": 119,
   "metadata": {},
   "outputs": [
    {
     "data": {
      "text/html": [
       "<pre style=\"white-space:pre;overflow-x:auto;line-height:normal;font-family:Menlo,'DejaVu Sans Mono',consolas,'Courier New',monospace\"><span style=\"color: #800080; text-decoration-color: #800080; font-weight: bold\">torch.Size</span><span style=\"font-weight: bold\">([</span><span style=\"color: #008080; text-decoration-color: #008080; font-weight: bold\">2</span>, <span style=\"color: #008080; text-decoration-color: #008080; font-weight: bold\">2</span><span style=\"font-weight: bold\">])</span>\n",
       "</pre>\n"
      ],
      "text/plain": [
       "\u001b[1;35mtorch.Size\u001b[0m\u001b[1m(\u001b[0m\u001b[1m[\u001b[0m\u001b[1;36m2\u001b[0m, \u001b[1;36m2\u001b[0m\u001b[1m]\u001b[0m\u001b[1m)\u001b[0m\n"
      ]
     },
     "metadata": {},
     "output_type": "display_data"
    },
    {
     "data": {
      "text/html": [
       "<pre style=\"white-space:pre;overflow-x:auto;line-height:normal;font-family:Menlo,'DejaVu Sans Mono',consolas,'Courier New',monospace\"><span style=\"color: #800080; text-decoration-color: #800080; font-weight: bold\">tensor</span><span style=\"font-weight: bold\">([[</span><span style=\"color: #008080; text-decoration-color: #008080; font-weight: bold\">1</span>, <span style=\"color: #008080; text-decoration-color: #008080; font-weight: bold\">2</span><span style=\"font-weight: bold\">]</span>,\n",
       "        <span style=\"font-weight: bold\">[</span><span style=\"color: #008080; text-decoration-color: #008080; font-weight: bold\">3</span>, <span style=\"color: #008080; text-decoration-color: #008080; font-weight: bold\">4</span><span style=\"font-weight: bold\">]])</span>\n",
       "</pre>\n"
      ],
      "text/plain": [
       "\u001b[1;35mtensor\u001b[0m\u001b[1m(\u001b[0m\u001b[1m[\u001b[0m\u001b[1m[\u001b[0m\u001b[1;36m1\u001b[0m, \u001b[1;36m2\u001b[0m\u001b[1m]\u001b[0m,\n",
       "        \u001b[1m[\u001b[0m\u001b[1;36m3\u001b[0m, \u001b[1;36m4\u001b[0m\u001b[1m]\u001b[0m\u001b[1m]\u001b[0m\u001b[1m)\u001b[0m\n"
      ]
     },
     "metadata": {},
     "output_type": "display_data"
    },
    {
     "data": {
      "text/html": [
       "<pre style=\"white-space:pre;overflow-x:auto;line-height:normal;font-family:Menlo,'DejaVu Sans Mono',consolas,'Courier New',monospace\"><span style=\"color: #800080; text-decoration-color: #800080; font-weight: bold\">torch.Size</span><span style=\"font-weight: bold\">([</span><span style=\"color: #008080; text-decoration-color: #008080; font-weight: bold\">2</span>, <span style=\"color: #008080; text-decoration-color: #008080; font-weight: bold\">2</span>, <span style=\"color: #008080; text-decoration-color: #008080; font-weight: bold\">2</span><span style=\"font-weight: bold\">])</span>\n",
       "</pre>\n"
      ],
      "text/plain": [
       "\u001b[1;35mtorch.Size\u001b[0m\u001b[1m(\u001b[0m\u001b[1m[\u001b[0m\u001b[1;36m2\u001b[0m, \u001b[1;36m2\u001b[0m, \u001b[1;36m2\u001b[0m\u001b[1m]\u001b[0m\u001b[1m)\u001b[0m\n"
      ]
     },
     "metadata": {},
     "output_type": "display_data"
    },
    {
     "data": {
      "text/html": [
       "<pre style=\"white-space:pre;overflow-x:auto;line-height:normal;font-family:Menlo,'DejaVu Sans Mono',consolas,'Courier New',monospace\"><span style=\"color: #800080; text-decoration-color: #800080; font-weight: bold\">tensor</span><span style=\"font-weight: bold\">([[[</span><span style=\"color: #008080; text-decoration-color: #008080; font-weight: bold\">1</span>, <span style=\"color: #008080; text-decoration-color: #008080; font-weight: bold\">1</span><span style=\"font-weight: bold\">]</span>,\n",
       "         <span style=\"font-weight: bold\">[</span><span style=\"color: #008080; text-decoration-color: #008080; font-weight: bold\">2</span>, <span style=\"color: #008080; text-decoration-color: #008080; font-weight: bold\">2</span><span style=\"font-weight: bold\">]]</span>,\n",
       "\n",
       "        <span style=\"font-weight: bold\">[[</span><span style=\"color: #008080; text-decoration-color: #008080; font-weight: bold\">3</span>, <span style=\"color: #008080; text-decoration-color: #008080; font-weight: bold\">3</span><span style=\"font-weight: bold\">]</span>,\n",
       "         <span style=\"font-weight: bold\">[</span><span style=\"color: #008080; text-decoration-color: #008080; font-weight: bold\">4</span>, <span style=\"color: #008080; text-decoration-color: #008080; font-weight: bold\">4</span><span style=\"font-weight: bold\">]]])</span>\n",
       "</pre>\n"
      ],
      "text/plain": [
       "\u001b[1;35mtensor\u001b[0m\u001b[1m(\u001b[0m\u001b[1m[\u001b[0m\u001b[1m[\u001b[0m\u001b[1m[\u001b[0m\u001b[1;36m1\u001b[0m, \u001b[1;36m1\u001b[0m\u001b[1m]\u001b[0m,\n",
       "         \u001b[1m[\u001b[0m\u001b[1;36m2\u001b[0m, \u001b[1;36m2\u001b[0m\u001b[1m]\u001b[0m\u001b[1m]\u001b[0m,\n",
       "\n",
       "        \u001b[1m[\u001b[0m\u001b[1m[\u001b[0m\u001b[1;36m3\u001b[0m, \u001b[1;36m3\u001b[0m\u001b[1m]\u001b[0m,\n",
       "         \u001b[1m[\u001b[0m\u001b[1;36m4\u001b[0m, \u001b[1;36m4\u001b[0m\u001b[1m]\u001b[0m\u001b[1m]\u001b[0m\u001b[1m]\u001b[0m\u001b[1m)\u001b[0m\n"
      ]
     },
     "metadata": {},
     "output_type": "display_data"
    },
    {
     "data": {
      "text/html": [
       "<pre style=\"white-space:pre;overflow-x:auto;line-height:normal;font-family:Menlo,'DejaVu Sans Mono',consolas,'Courier New',monospace\"><span style=\"color: #800080; text-decoration-color: #800080; font-weight: bold\">torch.Size</span><span style=\"font-weight: bold\">([</span><span style=\"color: #008080; text-decoration-color: #008080; font-weight: bold\">2</span>, <span style=\"color: #008080; text-decoration-color: #008080; font-weight: bold\">2</span>, <span style=\"color: #008080; text-decoration-color: #008080; font-weight: bold\">3</span><span style=\"font-weight: bold\">])</span>\n",
       "</pre>\n"
      ],
      "text/plain": [
       "\u001b[1;35mtorch.Size\u001b[0m\u001b[1m(\u001b[0m\u001b[1m[\u001b[0m\u001b[1;36m2\u001b[0m, \u001b[1;36m2\u001b[0m, \u001b[1;36m3\u001b[0m\u001b[1m]\u001b[0m\u001b[1m)\u001b[0m\n"
      ]
     },
     "metadata": {},
     "output_type": "display_data"
    },
    {
     "data": {
      "text/html": [
       "<pre style=\"white-space:pre;overflow-x:auto;line-height:normal;font-family:Menlo,'DejaVu Sans Mono',consolas,'Courier New',monospace\"><span style=\"color: #800080; text-decoration-color: #800080; font-weight: bold\">tensor</span><span style=\"font-weight: bold\">([[[</span><span style=\"color: #008080; text-decoration-color: #008080; font-weight: bold\">1</span>, <span style=\"color: #008080; text-decoration-color: #008080; font-weight: bold\">1</span>, <span style=\"color: #008080; text-decoration-color: #008080; font-weight: bold\">1</span><span style=\"font-weight: bold\">]</span>,\n",
       "         <span style=\"font-weight: bold\">[</span><span style=\"color: #008080; text-decoration-color: #008080; font-weight: bold\">2</span>, <span style=\"color: #008080; text-decoration-color: #008080; font-weight: bold\">2</span>, <span style=\"color: #008080; text-decoration-color: #008080; font-weight: bold\">2</span><span style=\"font-weight: bold\">]]</span>,\n",
       "\n",
       "        <span style=\"font-weight: bold\">[[</span><span style=\"color: #008080; text-decoration-color: #008080; font-weight: bold\">3</span>, <span style=\"color: #008080; text-decoration-color: #008080; font-weight: bold\">3</span>, <span style=\"color: #008080; text-decoration-color: #008080; font-weight: bold\">3</span><span style=\"font-weight: bold\">]</span>,\n",
       "         <span style=\"font-weight: bold\">[</span><span style=\"color: #008080; text-decoration-color: #008080; font-weight: bold\">4</span>, <span style=\"color: #008080; text-decoration-color: #008080; font-weight: bold\">4</span>, <span style=\"color: #008080; text-decoration-color: #008080; font-weight: bold\">4</span><span style=\"font-weight: bold\">]]])</span>\n",
       "</pre>\n"
      ],
      "text/plain": [
       "\u001b[1;35mtensor\u001b[0m\u001b[1m(\u001b[0m\u001b[1m[\u001b[0m\u001b[1m[\u001b[0m\u001b[1m[\u001b[0m\u001b[1;36m1\u001b[0m, \u001b[1;36m1\u001b[0m, \u001b[1;36m1\u001b[0m\u001b[1m]\u001b[0m,\n",
       "         \u001b[1m[\u001b[0m\u001b[1;36m2\u001b[0m, \u001b[1;36m2\u001b[0m, \u001b[1;36m2\u001b[0m\u001b[1m]\u001b[0m\u001b[1m]\u001b[0m,\n",
       "\n",
       "        \u001b[1m[\u001b[0m\u001b[1m[\u001b[0m\u001b[1;36m3\u001b[0m, \u001b[1;36m3\u001b[0m, \u001b[1;36m3\u001b[0m\u001b[1m]\u001b[0m,\n",
       "         \u001b[1m[\u001b[0m\u001b[1;36m4\u001b[0m, \u001b[1;36m4\u001b[0m, \u001b[1;36m4\u001b[0m\u001b[1m]\u001b[0m\u001b[1m]\u001b[0m\u001b[1m]\u001b[0m\u001b[1m)\u001b[0m\n"
      ]
     },
     "metadata": {},
     "output_type": "display_data"
    }
   ],
   "source": [
    "# torch.stack 用于将多个张量沿新维度进行堆叠。\n",
    "# 具体来说，torch.stack([a, a], -1) 会在 a 的最后一个维度后再添加一个新的维度，将两个 a 张量在该维度进行堆叠\n",
    "# 可以把它理解为 在每个数的后面，增加一个新的一层（或者说新的厚度）\n",
    "a = torch.tensor([[1,2],[3,4]])\n",
    "print(a.shape)\n",
    "print(a)\n",
    "b = torch.stack([a,a], -1)\n",
    "print(b.shape)\n",
    "print(b)\n",
    "c = torch.stack([a,a,a], -1)\n",
    "print(c.shape)\n",
    "print(c)"
   ]
  },
  {
   "cell_type": "code",
   "execution_count": 125,
   "metadata": {},
   "outputs": [
    {
     "data": {
      "text/html": [
       "<pre style=\"white-space:pre;overflow-x:auto;line-height:normal;font-family:Menlo,'DejaVu Sans Mono',consolas,'Courier New',monospace\">输入:句长:<span style=\"color: #008080; text-decoration-color: #008080; font-weight: bold\">1024</span>,单头维度:<span style=\"color: #008080; text-decoration-color: #008080; font-weight: bold\">16</span>\n",
       "</pre>\n"
      ],
      "text/plain": [
       "输入:句长:\u001b[1;36m1024\u001b[0m,单头维度:\u001b[1;36m16\u001b[0m\n"
      ]
     },
     "metadata": {},
     "output_type": "display_data"
    },
    {
     "data": {
      "text/html": [
       "<pre style=\"white-space:pre;overflow-x:auto;line-height:normal;font-family:Menlo,'DejaVu Sans Mono',consolas,'Courier New',monospace\">theta: <span style=\"color: #800080; text-decoration-color: #800080; font-weight: bold\">tensor</span><span style=\"font-weight: bold\">([</span> <span style=\"color: #008080; text-decoration-color: #008080; font-weight: bold\">1.6000e+01</span>,  <span style=\"color: #008080; text-decoration-color: #008080; font-weight: bold\">1.6000e-07</span>,  <span style=\"color: #008080; text-decoration-color: #008080; font-weight: bold\">1.6000e-15</span>,  <span style=\"color: #008080; text-decoration-color: #008080; font-weight: bold\">7.9850e-18</span>, <span style=\"color: #008080; text-decoration-color: #008080; font-weight: bold\">-1.8152e-18</span>,\n",
       "        <span style=\"color: #008080; text-decoration-color: #008080; font-weight: bold\">-3.1702e-18</span>,  <span style=\"color: #008080; text-decoration-color: #008080; font-weight: bold\">1.7449e-18</span>,  <span style=\"color: #008080; text-decoration-color: #008080; font-weight: bold\">6.7286e-18</span><span style=\"font-weight: bold\">])</span>\n",
       "</pre>\n"
      ],
      "text/plain": [
       "theta: \u001b[1;35mtensor\u001b[0m\u001b[1m(\u001b[0m\u001b[1m[\u001b[0m \u001b[1;36m1.6000e+01\u001b[0m,  \u001b[1;36m1.6000e-07\u001b[0m,  \u001b[1;36m1.6000e-15\u001b[0m,  \u001b[1;36m7.9850e-18\u001b[0m, \u001b[1;36m-1.8152e-18\u001b[0m,\n",
       "        \u001b[1;36m-3.1702e-18\u001b[0m,  \u001b[1;36m1.7449e-18\u001b[0m,  \u001b[1;36m6.7286e-18\u001b[0m\u001b[1m]\u001b[0m\u001b[1m)\u001b[0m\n"
      ]
     },
     "metadata": {},
     "output_type": "display_data"
    },
    {
     "data": {
      "text/html": [
       "<pre style=\"white-space:pre;overflow-x:auto;line-height:normal;font-family:Menlo,'DejaVu Sans Mono',consolas,'Courier New',monospace\">seqidx: <span style=\"color: #800080; text-decoration-color: #800080; font-weight: bold\">tensor</span><span style=\"font-weight: bold\">([</span>   <span style=\"color: #008080; text-decoration-color: #008080; font-weight: bold\">0</span>,    <span style=\"color: #008080; text-decoration-color: #008080; font-weight: bold\">1</span>,    <span style=\"color: #008080; text-decoration-color: #008080; font-weight: bold\">2</span>,  <span style=\"color: #808000; text-decoration-color: #808000\">...</span>, <span style=\"color: #008080; text-decoration-color: #008080; font-weight: bold\">1021</span>, <span style=\"color: #008080; text-decoration-color: #008080; font-weight: bold\">1022</span>, <span style=\"color: #008080; text-decoration-color: #008080; font-weight: bold\">1023</span><span style=\"font-weight: bold\">])</span>\n",
       "</pre>\n"
      ],
      "text/plain": [
       "seqidx: \u001b[1;35mtensor\u001b[0m\u001b[1m(\u001b[0m\u001b[1m[\u001b[0m   \u001b[1;36m0\u001b[0m,    \u001b[1;36m1\u001b[0m,    \u001b[1;36m2\u001b[0m,  \u001b[33m...\u001b[0m, \u001b[1;36m1021\u001b[0m, \u001b[1;36m1022\u001b[0m, \u001b[1;36m1023\u001b[0m\u001b[1m]\u001b[0m\u001b[1m)\u001b[0m\n"
      ]
     },
     "metadata": {},
     "output_type": "display_data"
    },
    {
     "data": {
      "text/html": [
       "<pre style=\"white-space:pre;overflow-x:auto;line-height:normal;font-family:Menlo,'DejaVu Sans Mono',consolas,'Courier New',monospace\">position idx* theta :\n",
       "<span style=\"color: #800080; text-decoration-color: #800080; font-weight: bold\">torch.Size</span><span style=\"font-weight: bold\">([</span><span style=\"color: #008080; text-decoration-color: #008080; font-weight: bold\">1024</span>, <span style=\"color: #008080; text-decoration-color: #008080; font-weight: bold\">8</span><span style=\"font-weight: bold\">])</span>\n",
       "</pre>\n"
      ],
      "text/plain": [
       "position idx* theta :\n",
       "\u001b[1;35mtorch.Size\u001b[0m\u001b[1m(\u001b[0m\u001b[1m[\u001b[0m\u001b[1;36m1024\u001b[0m, \u001b[1;36m8\u001b[0m\u001b[1m]\u001b[0m\u001b[1m)\u001b[0m\n"
      ]
     },
     "metadata": {},
     "output_type": "display_data"
    },
    {
     "data": {
      "text/html": [
       "<pre style=\"white-space:pre;overflow-x:auto;line-height:normal;font-family:Menlo,'DejaVu Sans Mono',consolas,'Courier New',monospace\">idx_theta<span style=\"font-weight: bold\">[</span>:<span style=\"color: #008080; text-decoration-color: #008080; font-weight: bold\">4</span>,:<span style=\"color: #008080; text-decoration-color: #008080; font-weight: bold\">4</span><span style=\"font-weight: bold\">]</span>: <span style=\"color: #800080; text-decoration-color: #800080; font-weight: bold\">tensor</span><span style=\"font-weight: bold\">([[</span><span style=\"color: #008080; text-decoration-color: #008080; font-weight: bold\">0.0000e+00</span>, <span style=\"color: #008080; text-decoration-color: #008080; font-weight: bold\">0.0000e+00</span>, <span style=\"color: #008080; text-decoration-color: #008080; font-weight: bold\">0.0000e+00</span>, <span style=\"color: #008080; text-decoration-color: #008080; font-weight: bold\">0.0000e+00</span><span style=\"font-weight: bold\">]</span>,\n",
       "        <span style=\"font-weight: bold\">[</span><span style=\"color: #008080; text-decoration-color: #008080; font-weight: bold\">1.6000e+01</span>, <span style=\"color: #008080; text-decoration-color: #008080; font-weight: bold\">1.6000e-07</span>, <span style=\"color: #008080; text-decoration-color: #008080; font-weight: bold\">1.6000e-15</span>, <span style=\"color: #008080; text-decoration-color: #008080; font-weight: bold\">7.9850e-18</span><span style=\"font-weight: bold\">]</span>,\n",
       "        <span style=\"font-weight: bold\">[</span><span style=\"color: #008080; text-decoration-color: #008080; font-weight: bold\">3.2000e+01</span>, <span style=\"color: #008080; text-decoration-color: #008080; font-weight: bold\">3.2000e-07</span>, <span style=\"color: #008080; text-decoration-color: #008080; font-weight: bold\">3.2000e-15</span>, <span style=\"color: #008080; text-decoration-color: #008080; font-weight: bold\">1.5970e-17</span><span style=\"font-weight: bold\">]</span>,\n",
       "        <span style=\"font-weight: bold\">[</span><span style=\"color: #008080; text-decoration-color: #008080; font-weight: bold\">4.8000e+01</span>, <span style=\"color: #008080; text-decoration-color: #008080; font-weight: bold\">4.8000e-07</span>, <span style=\"color: #008080; text-decoration-color: #008080; font-weight: bold\">4.8000e-15</span>, <span style=\"color: #008080; text-decoration-color: #008080; font-weight: bold\">2.3955e-17</span><span style=\"font-weight: bold\">]])</span>\n",
       "</pre>\n"
      ],
      "text/plain": [
       "idx_theta\u001b[1m[\u001b[0m:\u001b[1;36m4\u001b[0m,:\u001b[1;36m4\u001b[0m\u001b[1m]\u001b[0m: \u001b[1;35mtensor\u001b[0m\u001b[1m(\u001b[0m\u001b[1m[\u001b[0m\u001b[1m[\u001b[0m\u001b[1;36m0.0000e+00\u001b[0m, \u001b[1;36m0.0000e+00\u001b[0m, \u001b[1;36m0.0000e+00\u001b[0m, \u001b[1;36m0.0000e+00\u001b[0m\u001b[1m]\u001b[0m,\n",
       "        \u001b[1m[\u001b[0m\u001b[1;36m1.6000e+01\u001b[0m, \u001b[1;36m1.6000e-07\u001b[0m, \u001b[1;36m1.6000e-15\u001b[0m, \u001b[1;36m7.9850e-18\u001b[0m\u001b[1m]\u001b[0m,\n",
       "        \u001b[1m[\u001b[0m\u001b[1;36m3.2000e+01\u001b[0m, \u001b[1;36m3.2000e-07\u001b[0m, \u001b[1;36m3.2000e-15\u001b[0m, \u001b[1;36m1.5970e-17\u001b[0m\u001b[1m]\u001b[0m,\n",
       "        \u001b[1m[\u001b[0m\u001b[1;36m4.8000e+01\u001b[0m, \u001b[1;36m4.8000e-07\u001b[0m, \u001b[1;36m4.8000e-15\u001b[0m, \u001b[1;36m2.3955e-17\u001b[0m\u001b[1m]\u001b[0m\u001b[1m]\u001b[0m\u001b[1m)\u001b[0m\n"
      ]
     },
     "metadata": {},
     "output_type": "display_data"
    },
    {
     "data": {
      "text/html": [
       "<pre style=\"white-space:pre;overflow-x:auto;line-height:normal;font-family:Menlo,'DejaVu Sans Mono',consolas,'Courier New',monospace\">cache: <span style=\"font-weight: bold\">(</span>8是因为单头d为16，两个一组则为8<span style=\"font-weight: bold\">)</span>\n",
       "<span style=\"color: #800080; text-decoration-color: #800080; font-weight: bold\">torch.Size</span><span style=\"font-weight: bold\">([</span><span style=\"color: #008080; text-decoration-color: #008080; font-weight: bold\">1024</span>, <span style=\"color: #008080; text-decoration-color: #008080; font-weight: bold\">8</span>, <span style=\"color: #008080; text-decoration-color: #008080; font-weight: bold\">2</span><span style=\"font-weight: bold\">])</span>\n",
       "</pre>\n"
      ],
      "text/plain": [
       "cache: \u001b[1m(\u001b[0m8是因为单头d为16，两个一组则为8\u001b[1m)\u001b[0m\n",
       "\u001b[1;35mtorch.Size\u001b[0m\u001b[1m(\u001b[0m\u001b[1m[\u001b[0m\u001b[1;36m1024\u001b[0m, \u001b[1;36m8\u001b[0m, \u001b[1;36m2\u001b[0m\u001b[1m]\u001b[0m\u001b[1m)\u001b[0m\n"
      ]
     },
     "metadata": {},
     "output_type": "display_data"
    },
    {
     "data": {
      "text/html": [
       "<pre style=\"white-space:pre;overflow-x:auto;line-height:normal;font-family:Menlo,'DejaVu Sans Mono',consolas,'Courier New',monospace\"><span style=\"color: #800080; text-decoration-color: #800080; font-weight: bold\">tensor</span><span style=\"font-weight: bold\">([[</span><span style=\"color: #008080; text-decoration-color: #008080; font-weight: bold\">-9.5766e-01</span>, <span style=\"color: #008080; text-decoration-color: #008080; font-weight: bold\">-2.8790e-01</span><span style=\"font-weight: bold\">]</span>,\n",
       "        <span style=\"font-weight: bold\">[</span> <span style=\"color: #008080; text-decoration-color: #008080; font-weight: bold\">1.0000e+00</span>,  <span style=\"color: #008080; text-decoration-color: #008080; font-weight: bold\">1.6000e-07</span><span style=\"font-weight: bold\">]</span>,\n",
       "        <span style=\"font-weight: bold\">[</span> <span style=\"color: #008080; text-decoration-color: #008080; font-weight: bold\">1.0000e+00</span>,  <span style=\"color: #008080; text-decoration-color: #008080; font-weight: bold\">1.6000e-15</span><span style=\"font-weight: bold\">]</span>,\n",
       "        <span style=\"font-weight: bold\">[</span> <span style=\"color: #008080; text-decoration-color: #008080; font-weight: bold\">1.0000e+00</span>,  <span style=\"color: #008080; text-decoration-color: #008080; font-weight: bold\">7.9850e-18</span><span style=\"font-weight: bold\">]])</span>\n",
       "</pre>\n"
      ],
      "text/plain": [
       "\u001b[1;35mtensor\u001b[0m\u001b[1m(\u001b[0m\u001b[1m[\u001b[0m\u001b[1m[\u001b[0m\u001b[1;36m-9.5766e-01\u001b[0m, \u001b[1;36m-2.8790e-01\u001b[0m\u001b[1m]\u001b[0m,\n",
       "        \u001b[1m[\u001b[0m \u001b[1;36m1.0000e+00\u001b[0m,  \u001b[1;36m1.6000e-07\u001b[0m\u001b[1m]\u001b[0m,\n",
       "        \u001b[1m[\u001b[0m \u001b[1;36m1.0000e+00\u001b[0m,  \u001b[1;36m1.6000e-15\u001b[0m\u001b[1m]\u001b[0m,\n",
       "        \u001b[1m[\u001b[0m \u001b[1;36m1.0000e+00\u001b[0m,  \u001b[1;36m7.9850e-18\u001b[0m\u001b[1m]\u001b[0m\u001b[1m]\u001b[0m\u001b[1m)\u001b[0m\n"
      ]
     },
     "metadata": {},
     "output_type": "display_data"
    },
    {
     "data": {
      "text/html": [
       "<pre style=\"white-space:pre;overflow-x:auto;line-height:normal;font-family:Menlo,'DejaVu Sans Mono',consolas,'Courier New',monospace\"><span style=\"color: #800080; text-decoration-color: #800080; font-weight: bold\">torch.Size</span><span style=\"font-weight: bold\">([</span><span style=\"color: #008080; text-decoration-color: #008080; font-weight: bold\">1024</span>, <span style=\"color: #008080; text-decoration-color: #008080; font-weight: bold\">8</span>, <span style=\"color: #008080; text-decoration-color: #008080; font-weight: bold\">2</span><span style=\"font-weight: bold\">])</span>\n",
       "</pre>\n"
      ],
      "text/plain": [
       "\u001b[1;35mtorch.Size\u001b[0m\u001b[1m(\u001b[0m\u001b[1m[\u001b[0m\u001b[1;36m1024\u001b[0m, \u001b[1;36m8\u001b[0m, \u001b[1;36m2\u001b[0m\u001b[1m]\u001b[0m\u001b[1m)\u001b[0m\n"
      ]
     },
     "metadata": {},
     "output_type": "display_data"
    },
    {
     "data": {
      "text/html": [
       "<pre style=\"white-space:pre;overflow-x:auto;line-height:normal;font-family:Menlo,'DejaVu Sans Mono',consolas,'Courier New',monospace\"><span style=\"font-weight: bold\">&lt;</span><span style=\"color: #ff00ff; text-decoration-color: #ff00ff; font-weight: bold\">built-in</span><span style=\"color: #000000; text-decoration-color: #000000\"> method type of Tensor object at </span><span style=\"color: #008080; text-decoration-color: #008080; font-weight: bold\">0x7fbbd7d40b30</span><span style=\"font-weight: bold\">&gt;</span>\n",
       "</pre>\n"
      ],
      "text/plain": [
       "\u001b[1m<\u001b[0m\u001b[1;95mbuilt-in\u001b[0m\u001b[39m method type of Tensor object at \u001b[0m\u001b[1;36m0x7fbbd7d40b30\u001b[0m\u001b[1m>\u001b[0m\n"
      ]
     },
     "metadata": {},
     "output_type": "display_data"
    }
   ],
   "source": [
    "# 整体实现rope\n",
    "RoPECache = torch.Tensor\n",
    "\n",
    "def build_rope_cache(seq_len:int, n_elem:int, dtype=torch.dtype, device=torch.device, base: int = 10000) -> RoPECache:\n",
    "    print(\"输入:句长:{},单头维度:{}\".format(seq_len, n_elem))\n",
    "    \n",
    "    theta = 1.0 / (base ** torch.arange(0, n_elem, 2, dtype=dtype, device=device) / n_elem)\n",
    "    print(\"theta:\", theta)\n",
    "    \n",
    "    seq_idx = torch.arange(0, seq_len, dtype=dtype, device=device)\n",
    "    print(\"seqidx:\", seq_idx)\n",
    "    \n",
    "    idx_theta = torch.outer(seq_idx, theta).float()\n",
    "    print(\"position idx* theta :\", idx_theta.shape)\n",
    "    print(\"idx_theta[:4,:4]:\", idx_theta[:4,:4])\n",
    "    \n",
    "    cache = torch.stack([torch.cos(idx_theta), torch.sin(idx_theta)], dim=-1)\n",
    "    print(\"cache: (8是因为单头d为16，两个一组则为8)\", cache.shape)\n",
    "    print(cache[1,:4,:2])\n",
    "    \n",
    "    # float16 类型兼容性较高，支持更多硬件加速\n",
    "    if dtype in (torch.float16, torch.bfloat16, torch.int8):\n",
    "        cache = cache.half()\n",
    "    print(cache.shape)\n",
    "    print(cache.type)\n",
    "    \n",
    "    return cache\n",
    "\n",
    "\n",
    "# Rope 实现\n",
    "RoPECache = build_rope_cache(\n",
    "    seq_len=model.config.block_size,\n",
    "    n_elem=model.config.n_embd // model.config.n_head,\n",
    "    dtype=idx.dtype,\n",
    "    device=idx.device,\n",
    ")\n",
    "\n",
    "model.RoPECache = RoPECache"
   ]
  },
  {
   "cell_type": "code",
   "execution_count": 168,
   "metadata": {},
   "outputs": [
    {
     "data": {
      "text/html": [
       "<pre style=\"white-space:pre;overflow-x:auto;line-height:normal;font-family:Menlo,'DejaVu Sans Mono',consolas,'Courier New',monospace\">x <span style=\"color: #800080; text-decoration-color: #800080; font-weight: bold\">tensor</span><span style=\"font-weight: bold\">([[[[</span><span style=\"color: #008080; text-decoration-color: #008080; font-weight: bold\">7.8687e-01</span>, <span style=\"color: #008080; text-decoration-color: #008080; font-weight: bold\">5.5317e-01</span>, <span style=\"color: #008080; text-decoration-color: #008080; font-weight: bold\">6.3139e-01</span>, <span style=\"color: #008080; text-decoration-color: #008080; font-weight: bold\">9.5546e-02</span>, <span style=\"color: #008080; text-decoration-color: #008080; font-weight: bold\">6.4053e-01</span>,\n",
       "           <span style=\"color: #008080; text-decoration-color: #008080; font-weight: bold\">8.8510e-01</span>, <span style=\"color: #008080; text-decoration-color: #008080; font-weight: bold\">5.8269e-02</span>, <span style=\"color: #008080; text-decoration-color: #008080; font-weight: bold\">6.1740e-01</span>, <span style=\"color: #008080; text-decoration-color: #008080; font-weight: bold\">2.3184e-01</span>, <span style=\"color: #008080; text-decoration-color: #008080; font-weight: bold\">5.9579e-01</span>,\n",
       "           <span style=\"color: #008080; text-decoration-color: #008080; font-weight: bold\">1.3193e-02</span>, <span style=\"color: #008080; text-decoration-color: #008080; font-weight: bold\">3.1802e-01</span>, <span style=\"color: #008080; text-decoration-color: #008080; font-weight: bold\">6.3510e-01</span>, <span style=\"color: #008080; text-decoration-color: #008080; font-weight: bold\">6.3657e-01</span>, <span style=\"color: #008080; text-decoration-color: #008080; font-weight: bold\">9.3618e-01</span>,\n",
       "           <span style=\"color: #008080; text-decoration-color: #008080; font-weight: bold\">4.7054e-01</span><span style=\"font-weight: bold\">]]</span>,\n",
       "\n",
       "         <span style=\"font-weight: bold\">[[</span><span style=\"color: #008080; text-decoration-color: #008080; font-weight: bold\">5.1053e-01</span>, <span style=\"color: #008080; text-decoration-color: #008080; font-weight: bold\">4.9358e-01</span>, <span style=\"color: #008080; text-decoration-color: #008080; font-weight: bold\">3.6441e-01</span>, <span style=\"color: #008080; text-decoration-color: #008080; font-weight: bold\">9.3469e-01</span>, <span style=\"color: #008080; text-decoration-color: #008080; font-weight: bold\">1.7700e-01</span>,\n",
       "           <span style=\"color: #008080; text-decoration-color: #008080; font-weight: bold\">8.1535e-01</span>, <span style=\"color: #008080; text-decoration-color: #008080; font-weight: bold\">6.3460e-01</span>, <span style=\"color: #008080; text-decoration-color: #008080; font-weight: bold\">7.5628e-01</span>, <span style=\"color: #008080; text-decoration-color: #008080; font-weight: bold\">4.7682e-02</span>, <span style=\"color: #008080; text-decoration-color: #008080; font-weight: bold\">3.5192e-01</span>,\n",
       "           <span style=\"color: #008080; text-decoration-color: #008080; font-weight: bold\">4.1308e-01</span>, <span style=\"color: #008080; text-decoration-color: #008080; font-weight: bold\">9.0022e-01</span>, <span style=\"color: #008080; text-decoration-color: #008080; font-weight: bold\">4.1068e-01</span>, <span style=\"color: #008080; text-decoration-color: #008080; font-weight: bold\">6.4846e-01</span>, <span style=\"color: #008080; text-decoration-color: #008080; font-weight: bold\">4.1863e-02</span>,\n",
       "           <span style=\"color: #008080; text-decoration-color: #008080; font-weight: bold\">7.3430e-01</span><span style=\"font-weight: bold\">]]</span>,\n",
       "\n",
       "         <span style=\"font-weight: bold\">[[</span><span style=\"color: #008080; text-decoration-color: #008080; font-weight: bold\">4.9159e-01</span>, <span style=\"color: #008080; text-decoration-color: #008080; font-weight: bold\">9.9214e-02</span>, <span style=\"color: #008080; text-decoration-color: #008080; font-weight: bold\">6.3095e-01</span>, <span style=\"color: #008080; text-decoration-color: #008080; font-weight: bold\">7.0788e-01</span>, <span style=\"color: #008080; text-decoration-color: #008080; font-weight: bold\">5.3984e-01</span>,\n",
       "           <span style=\"color: #008080; text-decoration-color: #008080; font-weight: bold\">6.5651e-01</span>, <span style=\"color: #008080; text-decoration-color: #008080; font-weight: bold\">7.1219e-01</span>, <span style=\"color: #008080; text-decoration-color: #008080; font-weight: bold\">8.1024e-01</span>, <span style=\"color: #008080; text-decoration-color: #008080; font-weight: bold\">2.7830e-01</span>, <span style=\"color: #008080; text-decoration-color: #008080; font-weight: bold\">3.3118e-01</span>,\n",
       "           <span style=\"color: #008080; text-decoration-color: #008080; font-weight: bold\">5.0406e-01</span>, <span style=\"color: #008080; text-decoration-color: #008080; font-weight: bold\">6.9863e-01</span>, <span style=\"color: #008080; text-decoration-color: #008080; font-weight: bold\">7.6280e-01</span>, <span style=\"color: #008080; text-decoration-color: #008080; font-weight: bold\">9.9250e-01</span>, <span style=\"color: #008080; text-decoration-color: #008080; font-weight: bold\">9.3305e-04</span>,\n",
       "           <span style=\"color: #008080; text-decoration-color: #008080; font-weight: bold\">3.2846e-03</span><span style=\"font-weight: bold\">]]]])</span>\n",
       "</pre>\n"
      ],
      "text/plain": [
       "x \u001b[1;35mtensor\u001b[0m\u001b[1m(\u001b[0m\u001b[1m[\u001b[0m\u001b[1m[\u001b[0m\u001b[1m[\u001b[0m\u001b[1m[\u001b[0m\u001b[1;36m7.8687e-01\u001b[0m, \u001b[1;36m5.5317e-01\u001b[0m, \u001b[1;36m6.3139e-01\u001b[0m, \u001b[1;36m9.5546e-02\u001b[0m, \u001b[1;36m6.4053e-01\u001b[0m,\n",
       "           \u001b[1;36m8.8510e-01\u001b[0m, \u001b[1;36m5.8269e-02\u001b[0m, \u001b[1;36m6.1740e-01\u001b[0m, \u001b[1;36m2.3184e-01\u001b[0m, \u001b[1;36m5.9579e-01\u001b[0m,\n",
       "           \u001b[1;36m1.3193e-02\u001b[0m, \u001b[1;36m3.1802e-01\u001b[0m, \u001b[1;36m6.3510e-01\u001b[0m, \u001b[1;36m6.3657e-01\u001b[0m, \u001b[1;36m9.3618e-01\u001b[0m,\n",
       "           \u001b[1;36m4.7054e-01\u001b[0m\u001b[1m]\u001b[0m\u001b[1m]\u001b[0m,\n",
       "\n",
       "         \u001b[1m[\u001b[0m\u001b[1m[\u001b[0m\u001b[1;36m5.1053e-01\u001b[0m, \u001b[1;36m4.9358e-01\u001b[0m, \u001b[1;36m3.6441e-01\u001b[0m, \u001b[1;36m9.3469e-01\u001b[0m, \u001b[1;36m1.7700e-01\u001b[0m,\n",
       "           \u001b[1;36m8.1535e-01\u001b[0m, \u001b[1;36m6.3460e-01\u001b[0m, \u001b[1;36m7.5628e-01\u001b[0m, \u001b[1;36m4.7682e-02\u001b[0m, \u001b[1;36m3.5192e-01\u001b[0m,\n",
       "           \u001b[1;36m4.1308e-01\u001b[0m, \u001b[1;36m9.0022e-01\u001b[0m, \u001b[1;36m4.1068e-01\u001b[0m, \u001b[1;36m6.4846e-01\u001b[0m, \u001b[1;36m4.1863e-02\u001b[0m,\n",
       "           \u001b[1;36m7.3430e-01\u001b[0m\u001b[1m]\u001b[0m\u001b[1m]\u001b[0m,\n",
       "\n",
       "         \u001b[1m[\u001b[0m\u001b[1m[\u001b[0m\u001b[1;36m4.9159e-01\u001b[0m, \u001b[1;36m9.9214e-02\u001b[0m, \u001b[1;36m6.3095e-01\u001b[0m, \u001b[1;36m7.0788e-01\u001b[0m, \u001b[1;36m5.3984e-01\u001b[0m,\n",
       "           \u001b[1;36m6.5651e-01\u001b[0m, \u001b[1;36m7.1219e-01\u001b[0m, \u001b[1;36m8.1024e-01\u001b[0m, \u001b[1;36m2.7830e-01\u001b[0m, \u001b[1;36m3.3118e-01\u001b[0m,\n",
       "           \u001b[1;36m5.0406e-01\u001b[0m, \u001b[1;36m6.9863e-01\u001b[0m, \u001b[1;36m7.6280e-01\u001b[0m, \u001b[1;36m9.9250e-01\u001b[0m, \u001b[1;36m9.3305e-04\u001b[0m,\n",
       "           \u001b[1;36m3.2846e-03\u001b[0m\u001b[1m]\u001b[0m\u001b[1m]\u001b[0m\u001b[1m]\u001b[0m\u001b[1m]\u001b[0m\u001b[1m)\u001b[0m\n"
      ]
     },
     "metadata": {},
     "output_type": "display_data"
    },
    {
     "data": {
      "text/html": [
       "<pre style=\"white-space:pre;overflow-x:auto;line-height:normal;font-family:Menlo,'DejaVu Sans Mono',consolas,'Courier New',monospace\">x.shape\n",
       "<span style=\"color: #800080; text-decoration-color: #800080; font-weight: bold\">torch.Size</span><span style=\"font-weight: bold\">([</span><span style=\"color: #008080; text-decoration-color: #008080; font-weight: bold\">1</span>, <span style=\"color: #008080; text-decoration-color: #008080; font-weight: bold\">3</span>, <span style=\"color: #008080; text-decoration-color: #008080; font-weight: bold\">1</span>, <span style=\"color: #008080; text-decoration-color: #008080; font-weight: bold\">16</span><span style=\"font-weight: bold\">])</span>\n",
       "</pre>\n"
      ],
      "text/plain": [
       "x.shape\n",
       "\u001b[1;35mtorch.Size\u001b[0m\u001b[1m(\u001b[0m\u001b[1m[\u001b[0m\u001b[1;36m1\u001b[0m, \u001b[1;36m3\u001b[0m, \u001b[1;36m1\u001b[0m, \u001b[1;36m16\u001b[0m\u001b[1m]\u001b[0m\u001b[1m)\u001b[0m\n"
      ]
     },
     "metadata": {},
     "output_type": "display_data"
    },
    {
     "data": {
      "text/html": [
       "<pre style=\"white-space:pre;overflow-x:auto;line-height:normal;font-family:Menlo,'DejaVu Sans Mono',consolas,'Courier New',monospace\">xshaped.shape\n",
       "<span style=\"color: #800080; text-decoration-color: #800080; font-weight: bold\">torch.Size</span><span style=\"font-weight: bold\">([</span><span style=\"color: #008080; text-decoration-color: #008080; font-weight: bold\">1</span>, <span style=\"color: #008080; text-decoration-color: #008080; font-weight: bold\">3</span>, <span style=\"color: #008080; text-decoration-color: #008080; font-weight: bold\">1</span>, <span style=\"color: #008080; text-decoration-color: #008080; font-weight: bold\">8</span>, <span style=\"color: #008080; text-decoration-color: #008080; font-weight: bold\">2</span><span style=\"font-weight: bold\">])</span>\n",
       "</pre>\n"
      ],
      "text/plain": [
       "xshaped.shape\n",
       "\u001b[1;35mtorch.Size\u001b[0m\u001b[1m(\u001b[0m\u001b[1m[\u001b[0m\u001b[1;36m1\u001b[0m, \u001b[1;36m3\u001b[0m, \u001b[1;36m1\u001b[0m, \u001b[1;36m8\u001b[0m, \u001b[1;36m2\u001b[0m\u001b[1m]\u001b[0m\u001b[1m)\u001b[0m\n"
      ]
     },
     "metadata": {},
     "output_type": "display_data"
    },
    {
     "data": {
      "text/html": [
       "<pre style=\"white-space:pre;overflow-x:auto;line-height:normal;font-family:Menlo,'DejaVu Sans Mono',consolas,'Courier New',monospace\">rope_cache \n",
       "<span style=\"color: #800080; text-decoration-color: #800080; font-weight: bold\">torch.Size</span><span style=\"font-weight: bold\">([</span><span style=\"color: #008080; text-decoration-color: #008080; font-weight: bold\">1</span>, <span style=\"color: #008080; text-decoration-color: #008080; font-weight: bold\">3</span>, <span style=\"color: #008080; text-decoration-color: #008080; font-weight: bold\">1</span>, <span style=\"color: #008080; text-decoration-color: #008080; font-weight: bold\">8</span>, <span style=\"color: #008080; text-decoration-color: #008080; font-weight: bold\">2</span><span style=\"font-weight: bold\">])</span>\n",
       "</pre>\n"
      ],
      "text/plain": [
       "rope_cache \n",
       "\u001b[1;35mtorch.Size\u001b[0m\u001b[1m(\u001b[0m\u001b[1m[\u001b[0m\u001b[1;36m1\u001b[0m, \u001b[1;36m3\u001b[0m, \u001b[1;36m1\u001b[0m, \u001b[1;36m8\u001b[0m, \u001b[1;36m2\u001b[0m\u001b[1m]\u001b[0m\u001b[1m)\u001b[0m\n"
      ]
     },
     "metadata": {},
     "output_type": "display_data"
    },
    {
     "data": {
      "text/html": [
       "<pre style=\"white-space:pre;overflow-x:auto;line-height:normal;font-family:Menlo,'DejaVu Sans Mono',consolas,'Courier New',monospace\">rope_cache  <span style=\"color: #800080; text-decoration-color: #800080; font-weight: bold\">tensor</span><span style=\"font-weight: bold\">([[[[[</span> <span style=\"color: #008080; text-decoration-color: #008080; font-weight: bold\">1.0000e+00</span>,  <span style=\"color: #008080; text-decoration-color: #008080; font-weight: bold\">0.0000e+00</span><span style=\"font-weight: bold\">]</span>,\n",
       "           <span style=\"font-weight: bold\">[</span> <span style=\"color: #008080; text-decoration-color: #008080; font-weight: bold\">1.0000e+00</span>,  <span style=\"color: #008080; text-decoration-color: #008080; font-weight: bold\">0.0000e+00</span><span style=\"font-weight: bold\">]</span>,\n",
       "           <span style=\"font-weight: bold\">[</span> <span style=\"color: #008080; text-decoration-color: #008080; font-weight: bold\">1.0000e+00</span>,  <span style=\"color: #008080; text-decoration-color: #008080; font-weight: bold\">0.0000e+00</span><span style=\"font-weight: bold\">]</span>,\n",
       "           <span style=\"font-weight: bold\">[</span> <span style=\"color: #008080; text-decoration-color: #008080; font-weight: bold\">1.0000e+00</span>,  <span style=\"color: #008080; text-decoration-color: #008080; font-weight: bold\">0.0000e+00</span><span style=\"font-weight: bold\">]</span>,\n",
       "           <span style=\"font-weight: bold\">[</span> <span style=\"color: #008080; text-decoration-color: #008080; font-weight: bold\">1.0000e+00</span>, <span style=\"color: #008080; text-decoration-color: #008080; font-weight: bold\">-0.0000e+00</span><span style=\"font-weight: bold\">]</span>,\n",
       "           <span style=\"font-weight: bold\">[</span> <span style=\"color: #008080; text-decoration-color: #008080; font-weight: bold\">1.0000e+00</span>, <span style=\"color: #008080; text-decoration-color: #008080; font-weight: bold\">-0.0000e+00</span><span style=\"font-weight: bold\">]</span>,\n",
       "           <span style=\"font-weight: bold\">[</span> <span style=\"color: #008080; text-decoration-color: #008080; font-weight: bold\">1.0000e+00</span>,  <span style=\"color: #008080; text-decoration-color: #008080; font-weight: bold\">0.0000e+00</span><span style=\"font-weight: bold\">]</span>,\n",
       "           <span style=\"font-weight: bold\">[</span> <span style=\"color: #008080; text-decoration-color: #008080; font-weight: bold\">1.0000e+00</span>,  <span style=\"color: #008080; text-decoration-color: #008080; font-weight: bold\">0.0000e+00</span><span style=\"font-weight: bold\">]]]</span>,\n",
       "\n",
       "\n",
       "         <span style=\"font-weight: bold\">[[[</span><span style=\"color: #008080; text-decoration-color: #008080; font-weight: bold\">-9.5766e-01</span>, <span style=\"color: #008080; text-decoration-color: #008080; font-weight: bold\">-2.8790e-01</span><span style=\"font-weight: bold\">]</span>,\n",
       "           <span style=\"font-weight: bold\">[</span> <span style=\"color: #008080; text-decoration-color: #008080; font-weight: bold\">1.0000e+00</span>,  <span style=\"color: #008080; text-decoration-color: #008080; font-weight: bold\">1.6000e-07</span><span style=\"font-weight: bold\">]</span>,\n",
       "           <span style=\"font-weight: bold\">[</span> <span style=\"color: #008080; text-decoration-color: #008080; font-weight: bold\">1.0000e+00</span>,  <span style=\"color: #008080; text-decoration-color: #008080; font-weight: bold\">1.6000e-15</span><span style=\"font-weight: bold\">]</span>,\n",
       "           <span style=\"font-weight: bold\">[</span> <span style=\"color: #008080; text-decoration-color: #008080; font-weight: bold\">1.0000e+00</span>,  <span style=\"color: #008080; text-decoration-color: #008080; font-weight: bold\">7.9850e-18</span><span style=\"font-weight: bold\">]</span>,\n",
       "           <span style=\"font-weight: bold\">[</span> <span style=\"color: #008080; text-decoration-color: #008080; font-weight: bold\">1.0000e+00</span>, <span style=\"color: #008080; text-decoration-color: #008080; font-weight: bold\">-1.8152e-18</span><span style=\"font-weight: bold\">]</span>,\n",
       "           <span style=\"font-weight: bold\">[</span> <span style=\"color: #008080; text-decoration-color: #008080; font-weight: bold\">1.0000e+00</span>, <span style=\"color: #008080; text-decoration-color: #008080; font-weight: bold\">-3.1702e-18</span><span style=\"font-weight: bold\">]</span>,\n",
       "           <span style=\"font-weight: bold\">[</span> <span style=\"color: #008080; text-decoration-color: #008080; font-weight: bold\">1.0000e+00</span>,  <span style=\"color: #008080; text-decoration-color: #008080; font-weight: bold\">1.7449e-18</span><span style=\"font-weight: bold\">]</span>,\n",
       "           <span style=\"font-weight: bold\">[</span> <span style=\"color: #008080; text-decoration-color: #008080; font-weight: bold\">1.0000e+00</span>,  <span style=\"color: #008080; text-decoration-color: #008080; font-weight: bold\">6.7286e-18</span><span style=\"font-weight: bold\">]]]</span>,\n",
       "\n",
       "\n",
       "         <span style=\"font-weight: bold\">[[[</span> <span style=\"color: #008080; text-decoration-color: #008080; font-weight: bold\">8.3422e-01</span>,  <span style=\"color: #008080; text-decoration-color: #008080; font-weight: bold\">5.5143e-01</span><span style=\"font-weight: bold\">]</span>,\n",
       "           <span style=\"font-weight: bold\">[</span> <span style=\"color: #008080; text-decoration-color: #008080; font-weight: bold\">1.0000e+00</span>,  <span style=\"color: #008080; text-decoration-color: #008080; font-weight: bold\">3.2000e-07</span><span style=\"font-weight: bold\">]</span>,\n",
       "           <span style=\"font-weight: bold\">[</span> <span style=\"color: #008080; text-decoration-color: #008080; font-weight: bold\">1.0000e+00</span>,  <span style=\"color: #008080; text-decoration-color: #008080; font-weight: bold\">3.2000e-15</span><span style=\"font-weight: bold\">]</span>,\n",
       "           <span style=\"font-weight: bold\">[</span> <span style=\"color: #008080; text-decoration-color: #008080; font-weight: bold\">1.0000e+00</span>,  <span style=\"color: #008080; text-decoration-color: #008080; font-weight: bold\">1.5970e-17</span><span style=\"font-weight: bold\">]</span>,\n",
       "           <span style=\"font-weight: bold\">[</span> <span style=\"color: #008080; text-decoration-color: #008080; font-weight: bold\">1.0000e+00</span>, <span style=\"color: #008080; text-decoration-color: #008080; font-weight: bold\">-3.6304e-18</span><span style=\"font-weight: bold\">]</span>,\n",
       "           <span style=\"font-weight: bold\">[</span> <span style=\"color: #008080; text-decoration-color: #008080; font-weight: bold\">1.0000e+00</span>, <span style=\"color: #008080; text-decoration-color: #008080; font-weight: bold\">-6.3404e-18</span><span style=\"font-weight: bold\">]</span>,\n",
       "           <span style=\"font-weight: bold\">[</span> <span style=\"color: #008080; text-decoration-color: #008080; font-weight: bold\">1.0000e+00</span>,  <span style=\"color: #008080; text-decoration-color: #008080; font-weight: bold\">3.4898e-18</span><span style=\"font-weight: bold\">]</span>,\n",
       "           <span style=\"font-weight: bold\">[</span> <span style=\"color: #008080; text-decoration-color: #008080; font-weight: bold\">1.0000e+00</span>,  <span style=\"color: #008080; text-decoration-color: #008080; font-weight: bold\">1.3457e-17</span><span style=\"font-weight: bold\">]]]]])</span>\n",
       "</pre>\n"
      ],
      "text/plain": [
       "rope_cache  \u001b[1;35mtensor\u001b[0m\u001b[1m(\u001b[0m\u001b[1m[\u001b[0m\u001b[1m[\u001b[0m\u001b[1m[\u001b[0m\u001b[1m[\u001b[0m\u001b[1m[\u001b[0m \u001b[1;36m1.0000e+00\u001b[0m,  \u001b[1;36m0.0000e+00\u001b[0m\u001b[1m]\u001b[0m,\n",
       "           \u001b[1m[\u001b[0m \u001b[1;36m1.0000e+00\u001b[0m,  \u001b[1;36m0.0000e+00\u001b[0m\u001b[1m]\u001b[0m,\n",
       "           \u001b[1m[\u001b[0m \u001b[1;36m1.0000e+00\u001b[0m,  \u001b[1;36m0.0000e+00\u001b[0m\u001b[1m]\u001b[0m,\n",
       "           \u001b[1m[\u001b[0m \u001b[1;36m1.0000e+00\u001b[0m,  \u001b[1;36m0.0000e+00\u001b[0m\u001b[1m]\u001b[0m,\n",
       "           \u001b[1m[\u001b[0m \u001b[1;36m1.0000e+00\u001b[0m, \u001b[1;36m-0.0000e+00\u001b[0m\u001b[1m]\u001b[0m,\n",
       "           \u001b[1m[\u001b[0m \u001b[1;36m1.0000e+00\u001b[0m, \u001b[1;36m-0.0000e+00\u001b[0m\u001b[1m]\u001b[0m,\n",
       "           \u001b[1m[\u001b[0m \u001b[1;36m1.0000e+00\u001b[0m,  \u001b[1;36m0.0000e+00\u001b[0m\u001b[1m]\u001b[0m,\n",
       "           \u001b[1m[\u001b[0m \u001b[1;36m1.0000e+00\u001b[0m,  \u001b[1;36m0.0000e+00\u001b[0m\u001b[1m]\u001b[0m\u001b[1m]\u001b[0m\u001b[1m]\u001b[0m,\n",
       "\n",
       "\n",
       "         \u001b[1m[\u001b[0m\u001b[1m[\u001b[0m\u001b[1m[\u001b[0m\u001b[1;36m-9.5766e-01\u001b[0m, \u001b[1;36m-2.8790e-01\u001b[0m\u001b[1m]\u001b[0m,\n",
       "           \u001b[1m[\u001b[0m \u001b[1;36m1.0000e+00\u001b[0m,  \u001b[1;36m1.6000e-07\u001b[0m\u001b[1m]\u001b[0m,\n",
       "           \u001b[1m[\u001b[0m \u001b[1;36m1.0000e+00\u001b[0m,  \u001b[1;36m1.6000e-15\u001b[0m\u001b[1m]\u001b[0m,\n",
       "           \u001b[1m[\u001b[0m \u001b[1;36m1.0000e+00\u001b[0m,  \u001b[1;36m7.9850e-18\u001b[0m\u001b[1m]\u001b[0m,\n",
       "           \u001b[1m[\u001b[0m \u001b[1;36m1.0000e+00\u001b[0m, \u001b[1;36m-1.8152e-18\u001b[0m\u001b[1m]\u001b[0m,\n",
       "           \u001b[1m[\u001b[0m \u001b[1;36m1.0000e+00\u001b[0m, \u001b[1;36m-3.1702e-18\u001b[0m\u001b[1m]\u001b[0m,\n",
       "           \u001b[1m[\u001b[0m \u001b[1;36m1.0000e+00\u001b[0m,  \u001b[1;36m1.7449e-18\u001b[0m\u001b[1m]\u001b[0m,\n",
       "           \u001b[1m[\u001b[0m \u001b[1;36m1.0000e+00\u001b[0m,  \u001b[1;36m6.7286e-18\u001b[0m\u001b[1m]\u001b[0m\u001b[1m]\u001b[0m\u001b[1m]\u001b[0m,\n",
       "\n",
       "\n",
       "         \u001b[1m[\u001b[0m\u001b[1m[\u001b[0m\u001b[1m[\u001b[0m \u001b[1;36m8.3422e-01\u001b[0m,  \u001b[1;36m5.5143e-01\u001b[0m\u001b[1m]\u001b[0m,\n",
       "           \u001b[1m[\u001b[0m \u001b[1;36m1.0000e+00\u001b[0m,  \u001b[1;36m3.2000e-07\u001b[0m\u001b[1m]\u001b[0m,\n",
       "           \u001b[1m[\u001b[0m \u001b[1;36m1.0000e+00\u001b[0m,  \u001b[1;36m3.2000e-15\u001b[0m\u001b[1m]\u001b[0m,\n",
       "           \u001b[1m[\u001b[0m \u001b[1;36m1.0000e+00\u001b[0m,  \u001b[1;36m1.5970e-17\u001b[0m\u001b[1m]\u001b[0m,\n",
       "           \u001b[1m[\u001b[0m \u001b[1;36m1.0000e+00\u001b[0m, \u001b[1;36m-3.6304e-18\u001b[0m\u001b[1m]\u001b[0m,\n",
       "           \u001b[1m[\u001b[0m \u001b[1;36m1.0000e+00\u001b[0m, \u001b[1;36m-6.3404e-18\u001b[0m\u001b[1m]\u001b[0m,\n",
       "           \u001b[1m[\u001b[0m \u001b[1;36m1.0000e+00\u001b[0m,  \u001b[1;36m3.4898e-18\u001b[0m\u001b[1m]\u001b[0m,\n",
       "           \u001b[1m[\u001b[0m \u001b[1;36m1.0000e+00\u001b[0m,  \u001b[1;36m1.3457e-17\u001b[0m\u001b[1m]\u001b[0m\u001b[1m]\u001b[0m\u001b[1m]\u001b[0m\u001b[1m]\u001b[0m\u001b[1m]\u001b[0m\u001b[1m)\u001b[0m\n"
      ]
     },
     "metadata": {},
     "output_type": "display_data"
    },
    {
     "data": {
      "text/html": [
       "<pre style=\"white-space:pre;overflow-x:auto;line-height:normal;font-family:Menlo,'DejaVu Sans Mono',consolas,'Courier New',monospace\">x_out2\n",
       "<span style=\"color: #800080; text-decoration-color: #800080; font-weight: bold\">torch.Size</span><span style=\"font-weight: bold\">([</span><span style=\"color: #008080; text-decoration-color: #008080; font-weight: bold\">1</span>, <span style=\"color: #008080; text-decoration-color: #008080; font-weight: bold\">3</span>, <span style=\"color: #008080; text-decoration-color: #008080; font-weight: bold\">1</span>, <span style=\"color: #008080; text-decoration-color: #008080; font-weight: bold\">8</span>, <span style=\"color: #008080; text-decoration-color: #008080; font-weight: bold\">2</span><span style=\"font-weight: bold\">])</span>\n",
       "</pre>\n"
      ],
      "text/plain": [
       "x_out2\n",
       "\u001b[1;35mtorch.Size\u001b[0m\u001b[1m(\u001b[0m\u001b[1m[\u001b[0m\u001b[1;36m1\u001b[0m, \u001b[1;36m3\u001b[0m, \u001b[1;36m1\u001b[0m, \u001b[1;36m8\u001b[0m, \u001b[1;36m2\u001b[0m\u001b[1m]\u001b[0m\u001b[1m)\u001b[0m\n"
      ]
     },
     "metadata": {},
     "output_type": "display_data"
    },
    {
     "data": {
      "text/html": [
       "<pre style=\"white-space:pre;overflow-x:auto;line-height:normal;font-family:Menlo,'DejaVu Sans Mono',consolas,'Courier New',monospace\">flat_x_out2\n",
       "<span style=\"color: #800080; text-decoration-color: #800080; font-weight: bold\">torch.Size</span><span style=\"font-weight: bold\">([</span><span style=\"color: #008080; text-decoration-color: #008080; font-weight: bold\">1</span>, <span style=\"color: #008080; text-decoration-color: #008080; font-weight: bold\">3</span>, <span style=\"color: #008080; text-decoration-color: #008080; font-weight: bold\">1</span>, <span style=\"color: #008080; text-decoration-color: #008080; font-weight: bold\">16</span><span style=\"font-weight: bold\">])</span>\n",
       "</pre>\n"
      ],
      "text/plain": [
       "flat_x_out2\n",
       "\u001b[1;35mtorch.Size\u001b[0m\u001b[1m(\u001b[0m\u001b[1m[\u001b[0m\u001b[1;36m1\u001b[0m, \u001b[1;36m3\u001b[0m, \u001b[1;36m1\u001b[0m, \u001b[1;36m16\u001b[0m\u001b[1m]\u001b[0m\u001b[1m)\u001b[0m\n"
      ]
     },
     "metadata": {},
     "output_type": "display_data"
    },
    {
     "data": {
      "text/html": [
       "<pre style=\"white-space:pre;overflow-x:auto;line-height:normal;font-family:Menlo,'DejaVu Sans Mono',consolas,'Courier New',monospace\">out <span style=\"color: #800080; text-decoration-color: #800080; font-weight: bold\">tensor</span><span style=\"font-weight: bold\">([[[[</span> <span style=\"color: #008080; text-decoration-color: #008080; font-weight: bold\">7.8687e-01</span>,  <span style=\"color: #008080; text-decoration-color: #008080; font-weight: bold\">5.5317e-01</span>,  <span style=\"color: #008080; text-decoration-color: #008080; font-weight: bold\">6.3139e-01</span>,  <span style=\"color: #008080; text-decoration-color: #008080; font-weight: bold\">9.5546e-02</span>,  <span style=\"color: #008080; text-decoration-color: #008080; font-weight: bold\">6.4053e-01</span>,\n",
       "            <span style=\"color: #008080; text-decoration-color: #008080; font-weight: bold\">8.8510e-01</span>,  <span style=\"color: #008080; text-decoration-color: #008080; font-weight: bold\">5.8269e-02</span>,  <span style=\"color: #008080; text-decoration-color: #008080; font-weight: bold\">6.1740e-01</span>,  <span style=\"color: #008080; text-decoration-color: #008080; font-weight: bold\">2.3184e-01</span>,  <span style=\"color: #008080; text-decoration-color: #008080; font-weight: bold\">5.9579e-01</span>,\n",
       "            <span style=\"color: #008080; text-decoration-color: #008080; font-weight: bold\">1.3193e-02</span>,  <span style=\"color: #008080; text-decoration-color: #008080; font-weight: bold\">3.1802e-01</span>,  <span style=\"color: #008080; text-decoration-color: #008080; font-weight: bold\">6.3510e-01</span>,  <span style=\"color: #008080; text-decoration-color: #008080; font-weight: bold\">6.3657e-01</span>,  <span style=\"color: #008080; text-decoration-color: #008080; font-weight: bold\">9.3618e-01</span>,\n",
       "            <span style=\"color: #008080; text-decoration-color: #008080; font-weight: bold\">4.7054e-01</span><span style=\"font-weight: bold\">]]</span>,\n",
       "\n",
       "         <span style=\"font-weight: bold\">[[</span><span style=\"color: #008080; text-decoration-color: #008080; font-weight: bold\">-3.4681e-01</span>, <span style=\"color: #008080; text-decoration-color: #008080; font-weight: bold\">-6.1966e-01</span>,  <span style=\"color: #008080; text-decoration-color: #008080; font-weight: bold\">3.6441e-01</span>,  <span style=\"color: #008080; text-decoration-color: #008080; font-weight: bold\">9.3469e-01</span>,  <span style=\"color: #008080; text-decoration-color: #008080; font-weight: bold\">1.7700e-01</span>,\n",
       "            <span style=\"color: #008080; text-decoration-color: #008080; font-weight: bold\">8.1535e-01</span>,  <span style=\"color: #008080; text-decoration-color: #008080; font-weight: bold\">6.3460e-01</span>,  <span style=\"color: #008080; text-decoration-color: #008080; font-weight: bold\">7.5628e-01</span>,  <span style=\"color: #008080; text-decoration-color: #008080; font-weight: bold\">4.7682e-02</span>,  <span style=\"color: #008080; text-decoration-color: #008080; font-weight: bold\">3.5192e-01</span>,\n",
       "            <span style=\"color: #008080; text-decoration-color: #008080; font-weight: bold\">4.1308e-01</span>,  <span style=\"color: #008080; text-decoration-color: #008080; font-weight: bold\">9.0022e-01</span>,  <span style=\"color: #008080; text-decoration-color: #008080; font-weight: bold\">4.1068e-01</span>,  <span style=\"color: #008080; text-decoration-color: #008080; font-weight: bold\">6.4846e-01</span>,  <span style=\"color: #008080; text-decoration-color: #008080; font-weight: bold\">4.1863e-02</span>,\n",
       "            <span style=\"color: #008080; text-decoration-color: #008080; font-weight: bold\">7.3430e-01</span><span style=\"font-weight: bold\">]]</span>,\n",
       "\n",
       "         <span style=\"font-weight: bold\">[[</span> <span style=\"color: #008080; text-decoration-color: #008080; font-weight: bold\">3.5538e-01</span>,  <span style=\"color: #008080; text-decoration-color: #008080; font-weight: bold\">3.5384e-01</span>,  <span style=\"color: #008080; text-decoration-color: #008080; font-weight: bold\">6.3095e-01</span>,  <span style=\"color: #008080; text-decoration-color: #008080; font-weight: bold\">7.0788e-01</span>,  <span style=\"color: #008080; text-decoration-color: #008080; font-weight: bold\">5.3984e-01</span>,\n",
       "            <span style=\"color: #008080; text-decoration-color: #008080; font-weight: bold\">6.5651e-01</span>,  <span style=\"color: #008080; text-decoration-color: #008080; font-weight: bold\">7.1219e-01</span>,  <span style=\"color: #008080; text-decoration-color: #008080; font-weight: bold\">8.1024e-01</span>,  <span style=\"color: #008080; text-decoration-color: #008080; font-weight: bold\">2.7830e-01</span>,  <span style=\"color: #008080; text-decoration-color: #008080; font-weight: bold\">3.3118e-01</span>,\n",
       "            <span style=\"color: #008080; text-decoration-color: #008080; font-weight: bold\">5.0406e-01</span>,  <span style=\"color: #008080; text-decoration-color: #008080; font-weight: bold\">6.9863e-01</span>,  <span style=\"color: #008080; text-decoration-color: #008080; font-weight: bold\">7.6280e-01</span>,  <span style=\"color: #008080; text-decoration-color: #008080; font-weight: bold\">9.9250e-01</span>,  <span style=\"color: #008080; text-decoration-color: #008080; font-weight: bold\">9.3305e-04</span>,\n",
       "            <span style=\"color: #008080; text-decoration-color: #008080; font-weight: bold\">3.2846e-03</span><span style=\"font-weight: bold\">]]]])</span>\n",
       "</pre>\n"
      ],
      "text/plain": [
       "out \u001b[1;35mtensor\u001b[0m\u001b[1m(\u001b[0m\u001b[1m[\u001b[0m\u001b[1m[\u001b[0m\u001b[1m[\u001b[0m\u001b[1m[\u001b[0m \u001b[1;36m7.8687e-01\u001b[0m,  \u001b[1;36m5.5317e-01\u001b[0m,  \u001b[1;36m6.3139e-01\u001b[0m,  \u001b[1;36m9.5546e-02\u001b[0m,  \u001b[1;36m6.4053e-01\u001b[0m,\n",
       "            \u001b[1;36m8.8510e-01\u001b[0m,  \u001b[1;36m5.8269e-02\u001b[0m,  \u001b[1;36m6.1740e-01\u001b[0m,  \u001b[1;36m2.3184e-01\u001b[0m,  \u001b[1;36m5.9579e-01\u001b[0m,\n",
       "            \u001b[1;36m1.3193e-02\u001b[0m,  \u001b[1;36m3.1802e-01\u001b[0m,  \u001b[1;36m6.3510e-01\u001b[0m,  \u001b[1;36m6.3657e-01\u001b[0m,  \u001b[1;36m9.3618e-01\u001b[0m,\n",
       "            \u001b[1;36m4.7054e-01\u001b[0m\u001b[1m]\u001b[0m\u001b[1m]\u001b[0m,\n",
       "\n",
       "         \u001b[1m[\u001b[0m\u001b[1m[\u001b[0m\u001b[1;36m-3.4681e-01\u001b[0m, \u001b[1;36m-6.1966e-01\u001b[0m,  \u001b[1;36m3.6441e-01\u001b[0m,  \u001b[1;36m9.3469e-01\u001b[0m,  \u001b[1;36m1.7700e-01\u001b[0m,\n",
       "            \u001b[1;36m8.1535e-01\u001b[0m,  \u001b[1;36m6.3460e-01\u001b[0m,  \u001b[1;36m7.5628e-01\u001b[0m,  \u001b[1;36m4.7682e-02\u001b[0m,  \u001b[1;36m3.5192e-01\u001b[0m,\n",
       "            \u001b[1;36m4.1308e-01\u001b[0m,  \u001b[1;36m9.0022e-01\u001b[0m,  \u001b[1;36m4.1068e-01\u001b[0m,  \u001b[1;36m6.4846e-01\u001b[0m,  \u001b[1;36m4.1863e-02\u001b[0m,\n",
       "            \u001b[1;36m7.3430e-01\u001b[0m\u001b[1m]\u001b[0m\u001b[1m]\u001b[0m,\n",
       "\n",
       "         \u001b[1m[\u001b[0m\u001b[1m[\u001b[0m \u001b[1;36m3.5538e-01\u001b[0m,  \u001b[1;36m3.5384e-01\u001b[0m,  \u001b[1;36m6.3095e-01\u001b[0m,  \u001b[1;36m7.0788e-01\u001b[0m,  \u001b[1;36m5.3984e-01\u001b[0m,\n",
       "            \u001b[1;36m6.5651e-01\u001b[0m,  \u001b[1;36m7.1219e-01\u001b[0m,  \u001b[1;36m8.1024e-01\u001b[0m,  \u001b[1;36m2.7830e-01\u001b[0m,  \u001b[1;36m3.3118e-01\u001b[0m,\n",
       "            \u001b[1;36m5.0406e-01\u001b[0m,  \u001b[1;36m6.9863e-01\u001b[0m,  \u001b[1;36m7.6280e-01\u001b[0m,  \u001b[1;36m9.9250e-01\u001b[0m,  \u001b[1;36m9.3305e-04\u001b[0m,\n",
       "            \u001b[1;36m3.2846e-03\u001b[0m\u001b[1m]\u001b[0m\u001b[1m]\u001b[0m\u001b[1m]\u001b[0m\u001b[1m]\u001b[0m\u001b[1m)\u001b[0m\n"
      ]
     },
     "metadata": {},
     "output_type": "display_data"
    }
   ],
   "source": [
    "def apply_rope(x:torch.Tensor, rope_cache:RoPECache)-> torch.Tensor:\n",
    "    T = x.size(1)\n",
    "    \n",
    "    rope_cache = rope_cache[:T]\n",
    "    xshaped = x.float().reshape(*x.shape[:-1], -1, 2)\n",
    "    print('x.shape', x.shape)\n",
    "    print('xshaped.shape', xshaped.shape)\n",
    "    \n",
    "    # 准备 rope_cache 以便与 xshaped 进行元素级操作。\n",
    "    # 通过这种形状调整和广播操作，rope_cache 可以在特定维度上重复自身，使得它的形状与 xshaped 兼容\n",
    "    rope_cache = rope_cache.view(1, xshaped.size(1), 1, xshaped.size(3), 2)\n",
    "    print('rope_cache ', rope_cache.shape)\n",
    "    print('rope_cache ',rope_cache)\n",
    "    \n",
    "    \n",
    "    # x0 * cos0 - x1 * sin0\n",
    "    # x1 * cos0 + x0 * sin0\n",
    "    x_out2 = torch.stack(\n",
    "        [\n",
    "            xshaped[..., 0] * rope_cache[..., 0] - xshaped[..., 1] * rope_cache[..., 1],\n",
    "            xshaped[..., 1] * rope_cache[..., 0] + xshaped[..., 0] * rope_cache[..., 1],\n",
    "        ],\n",
    "        -1,\n",
    "    )\n",
    "    print('x_out2', x_out2.shape)\n",
    "    x_out2 = x_out2.flatten(3)\n",
    "    print('flat_x_out2', x_out2.shape)\n",
    "    return x_out2 # 和输入的x形状相同\n",
    "\n",
    "x = torch.rand(1, 3, 1, 16)\n",
    "print('x', x)\n",
    "out = apply_rope(x, model.RoPECache)\n",
    "print('out', out)"
   ]
  },
  {
   "cell_type": "code",
   "execution_count": 170,
   "metadata": {},
   "outputs": [
    {
     "data": {
      "text/html": [
       "<pre style=\"white-space:pre;overflow-x:auto;line-height:normal;font-family:Menlo,'DejaVu Sans Mono',consolas,'Courier New',monospace\">tmp_x <span style=\"color: #800080; text-decoration-color: #800080; font-weight: bold\">tensor</span><span style=\"font-weight: bold\">([</span><span style=\"color: #008080; text-decoration-color: #008080; font-weight: bold\">0.4916</span>, <span style=\"color: #008080; text-decoration-color: #008080; font-weight: bold\">0.0992</span>, <span style=\"color: #008080; text-decoration-color: #008080; font-weight: bold\">0.6310</span>, <span style=\"color: #008080; text-decoration-color: #008080; font-weight: bold\">0.7079</span><span style=\"font-weight: bold\">])</span>\n",
       "</pre>\n"
      ],
      "text/plain": [
       "tmp_x \u001b[1;35mtensor\u001b[0m\u001b[1m(\u001b[0m\u001b[1m[\u001b[0m\u001b[1;36m0.4916\u001b[0m, \u001b[1;36m0.0992\u001b[0m, \u001b[1;36m0.6310\u001b[0m, \u001b[1;36m0.7079\u001b[0m\u001b[1m]\u001b[0m\u001b[1m)\u001b[0m\n"
      ]
     },
     "metadata": {},
     "output_type": "display_data"
    },
    {
     "data": {
      "text/html": [
       "<pre style=\"white-space:pre;overflow-x:auto;line-height:normal;font-family:Menlo,'DejaVu Sans Mono',consolas,'Courier New',monospace\"><span style=\"color: #800080; text-decoration-color: #800080; font-weight: bold\">torch.Size</span><span style=\"font-weight: bold\">([</span><span style=\"color: #008080; text-decoration-color: #008080; font-weight: bold\">4</span><span style=\"font-weight: bold\">])</span>\n",
       "</pre>\n"
      ],
      "text/plain": [
       "\u001b[1;35mtorch.Size\u001b[0m\u001b[1m(\u001b[0m\u001b[1m[\u001b[0m\u001b[1;36m4\u001b[0m\u001b[1m]\u001b[0m\u001b[1m)\u001b[0m\n"
      ]
     },
     "metadata": {},
     "output_type": "display_data"
    },
    {
     "data": {
      "text/html": [
       "<pre style=\"white-space:pre;overflow-x:auto;line-height:normal;font-family:Menlo,'DejaVu Sans Mono',consolas,'Courier New',monospace\">tmp_rope <span style=\"color: #800080; text-decoration-color: #800080; font-weight: bold\">tensor</span><span style=\"font-weight: bold\">([[</span><span style=\"color: #008080; text-decoration-color: #008080; font-weight: bold\">8.3422e-01</span>, <span style=\"color: #008080; text-decoration-color: #008080; font-weight: bold\">5.5143e-01</span><span style=\"font-weight: bold\">]</span>,\n",
       "        <span style=\"font-weight: bold\">[</span><span style=\"color: #008080; text-decoration-color: #008080; font-weight: bold\">1.0000e+00</span>, <span style=\"color: #008080; text-decoration-color: #008080; font-weight: bold\">3.2000e-07</span><span style=\"font-weight: bold\">]])</span>\n",
       "</pre>\n"
      ],
      "text/plain": [
       "tmp_rope \u001b[1;35mtensor\u001b[0m\u001b[1m(\u001b[0m\u001b[1m[\u001b[0m\u001b[1m[\u001b[0m\u001b[1;36m8.3422e-01\u001b[0m, \u001b[1;36m5.5143e-01\u001b[0m\u001b[1m]\u001b[0m,\n",
       "        \u001b[1m[\u001b[0m\u001b[1;36m1.0000e+00\u001b[0m, \u001b[1;36m3.2000e-07\u001b[0m\u001b[1m]\u001b[0m\u001b[1m]\u001b[0m\u001b[1m)\u001b[0m\n"
      ]
     },
     "metadata": {},
     "output_type": "display_data"
    },
    {
     "data": {
      "text/html": [
       "<pre style=\"white-space:pre;overflow-x:auto;line-height:normal;font-family:Menlo,'DejaVu Sans Mono',consolas,'Courier New',monospace\">cos_rope <span style=\"color: #800080; text-decoration-color: #800080; font-weight: bold\">tensor</span><span style=\"font-weight: bold\">([</span><span style=\"color: #008080; text-decoration-color: #008080; font-weight: bold\">0.8342</span>, <span style=\"color: #008080; text-decoration-color: #008080; font-weight: bold\">1.0000</span><span style=\"font-weight: bold\">])</span>\n",
       "</pre>\n"
      ],
      "text/plain": [
       "cos_rope \u001b[1;35mtensor\u001b[0m\u001b[1m(\u001b[0m\u001b[1m[\u001b[0m\u001b[1;36m0.8342\u001b[0m, \u001b[1;36m1.0000\u001b[0m\u001b[1m]\u001b[0m\u001b[1m)\u001b[0m\n"
      ]
     },
     "metadata": {},
     "output_type": "display_data"
    },
    {
     "data": {
      "text/html": [
       "<pre style=\"white-space:pre;overflow-x:auto;line-height:normal;font-family:Menlo,'DejaVu Sans Mono',consolas,'Courier New',monospace\">sin_rope <span style=\"color: #800080; text-decoration-color: #800080; font-weight: bold\">tensor</span><span style=\"font-weight: bold\">([</span><span style=\"color: #008080; text-decoration-color: #008080; font-weight: bold\">5.5143e-01</span>, <span style=\"color: #008080; text-decoration-color: #008080; font-weight: bold\">3.2000e-07</span><span style=\"font-weight: bold\">])</span>\n",
       "</pre>\n"
      ],
      "text/plain": [
       "sin_rope \u001b[1;35mtensor\u001b[0m\u001b[1m(\u001b[0m\u001b[1m[\u001b[0m\u001b[1;36m5.5143e-01\u001b[0m, \u001b[1;36m3.2000e-07\u001b[0m\u001b[1m]\u001b[0m\u001b[1m)\u001b[0m\n"
      ]
     },
     "metadata": {},
     "output_type": "display_data"
    },
    {
     "data": {
      "text/html": [
       "<pre style=\"white-space:pre;overflow-x:auto;line-height:normal;font-family:Menlo,'DejaVu Sans Mono',consolas,'Courier New',monospace\"><span style=\"color: #800080; text-decoration-color: #800080; font-weight: bold\">tensor</span><span style=\"font-weight: bold\">([</span><span style=\"color: #008080; text-decoration-color: #008080; font-weight: bold\">0.4916</span>, <span style=\"color: #008080; text-decoration-color: #008080; font-weight: bold\">0.0992</span>, <span style=\"color: #008080; text-decoration-color: #008080; font-weight: bold\">0.6310</span>, <span style=\"color: #008080; text-decoration-color: #008080; font-weight: bold\">0.7079</span><span style=\"font-weight: bold\">])</span>\n",
       "</pre>\n"
      ],
      "text/plain": [
       "\u001b[1;35mtensor\u001b[0m\u001b[1m(\u001b[0m\u001b[1m[\u001b[0m\u001b[1;36m0.4916\u001b[0m, \u001b[1;36m0.0992\u001b[0m, \u001b[1;36m0.6310\u001b[0m, \u001b[1;36m0.7079\u001b[0m\u001b[1m]\u001b[0m\u001b[1m)\u001b[0m\n"
      ]
     },
     "metadata": {},
     "output_type": "display_data"
    },
    {
     "data": {
      "text/html": [
       "<pre style=\"white-space:pre;overflow-x:auto;line-height:normal;font-family:Menlo,'DejaVu Sans Mono',consolas,'Courier New',monospace\">手动计算rope结果\n",
       "</pre>\n"
      ],
      "text/plain": [
       "手动计算rope结果\n"
      ]
     },
     "metadata": {},
     "output_type": "display_data"
    },
    {
     "data": {
      "text/html": [
       "<pre style=\"white-space:pre;overflow-x:auto;line-height:normal;font-family:Menlo,'DejaVu Sans Mono',consolas,'Courier New',monospace\"><span style=\"color: #800080; text-decoration-color: #800080; font-weight: bold\">tensor</span><span style=\"font-weight: bold\">(</span><span style=\"color: #008080; text-decoration-color: #008080; font-weight: bold\">0.3554</span><span style=\"font-weight: bold\">)</span> <span style=\"color: #800080; text-decoration-color: #800080; font-weight: bold\">tensor</span><span style=\"font-weight: bold\">(</span><span style=\"color: #008080; text-decoration-color: #008080; font-weight: bold\">0.3538</span><span style=\"font-weight: bold\">)</span> <span style=\"color: #800080; text-decoration-color: #800080; font-weight: bold\">tensor</span><span style=\"font-weight: bold\">(</span><span style=\"color: #008080; text-decoration-color: #008080; font-weight: bold\">0.6310</span><span style=\"font-weight: bold\">)</span> <span style=\"color: #800080; text-decoration-color: #800080; font-weight: bold\">tensor</span><span style=\"font-weight: bold\">(</span><span style=\"color: #008080; text-decoration-color: #008080; font-weight: bold\">0.7079</span><span style=\"font-weight: bold\">)</span>\n",
       "</pre>\n"
      ],
      "text/plain": [
       "\u001b[1;35mtensor\u001b[0m\u001b[1m(\u001b[0m\u001b[1;36m0.3554\u001b[0m\u001b[1m)\u001b[0m \u001b[1;35mtensor\u001b[0m\u001b[1m(\u001b[0m\u001b[1;36m0.3538\u001b[0m\u001b[1m)\u001b[0m \u001b[1;35mtensor\u001b[0m\u001b[1m(\u001b[0m\u001b[1;36m0.6310\u001b[0m\u001b[1m)\u001b[0m \u001b[1;35mtensor\u001b[0m\u001b[1m(\u001b[0m\u001b[1;36m0.7079\u001b[0m\u001b[1m)\u001b[0m\n"
      ]
     },
     "metadata": {},
     "output_type": "display_data"
    },
    {
     "data": {
      "text/html": [
       "<pre style=\"white-space:pre;overflow-x:auto;line-height:normal;font-family:Menlo,'DejaVu Sans Mono',consolas,'Courier New',monospace\">apply_rope计算的rope结果\n",
       "</pre>\n"
      ],
      "text/plain": [
       "apply_rope计算的rope结果\n"
      ]
     },
     "metadata": {},
     "output_type": "display_data"
    },
    {
     "data": {
      "text/html": [
       "<pre style=\"white-space:pre;overflow-x:auto;line-height:normal;font-family:Menlo,'DejaVu Sans Mono',consolas,'Courier New',monospace\"><span style=\"color: #800080; text-decoration-color: #800080; font-weight: bold\">torch.Size</span><span style=\"font-weight: bold\">([</span><span style=\"color: #008080; text-decoration-color: #008080; font-weight: bold\">1</span>, <span style=\"color: #008080; text-decoration-color: #008080; font-weight: bold\">3</span>, <span style=\"color: #008080; text-decoration-color: #008080; font-weight: bold\">1</span>, <span style=\"color: #008080; text-decoration-color: #008080; font-weight: bold\">16</span><span style=\"font-weight: bold\">])</span>\n",
       "</pre>\n"
      ],
      "text/plain": [
       "\u001b[1;35mtorch.Size\u001b[0m\u001b[1m(\u001b[0m\u001b[1m[\u001b[0m\u001b[1;36m1\u001b[0m, \u001b[1;36m3\u001b[0m, \u001b[1;36m1\u001b[0m, \u001b[1;36m16\u001b[0m\u001b[1m]\u001b[0m\u001b[1m)\u001b[0m\n"
      ]
     },
     "metadata": {},
     "output_type": "display_data"
    },
    {
     "data": {
      "text/html": [
       "<pre style=\"white-space:pre;overflow-x:auto;line-height:normal;font-family:Menlo,'DejaVu Sans Mono',consolas,'Courier New',monospace\"><span style=\"color: #800080; text-decoration-color: #800080; font-weight: bold\">tensor</span><span style=\"font-weight: bold\">([</span><span style=\"color: #008080; text-decoration-color: #008080; font-weight: bold\">0.3554</span>, <span style=\"color: #008080; text-decoration-color: #008080; font-weight: bold\">0.3538</span>, <span style=\"color: #008080; text-decoration-color: #008080; font-weight: bold\">0.6310</span>, <span style=\"color: #008080; text-decoration-color: #008080; font-weight: bold\">0.7079</span><span style=\"font-weight: bold\">])</span>\n",
       "</pre>\n"
      ],
      "text/plain": [
       "\u001b[1;35mtensor\u001b[0m\u001b[1m(\u001b[0m\u001b[1m[\u001b[0m\u001b[1;36m0.3554\u001b[0m, \u001b[1;36m0.3538\u001b[0m, \u001b[1;36m0.6310\u001b[0m, \u001b[1;36m0.7079\u001b[0m\u001b[1m]\u001b[0m\u001b[1m)\u001b[0m\n"
      ]
     },
     "metadata": {},
     "output_type": "display_data"
    }
   ],
   "source": [
    "# 举个列子\n",
    "tmp_x = x[0,-1,0,:4]\n",
    "print('tmp_x', tmp_x)\n",
    "print(tmp_x.shape)\n",
    "\n",
    "tmp_rope = RoPECache[2,:2,:2] # pos, dim:2, 2(sin, cos)\n",
    "print('tmp_rope',tmp_rope)\n",
    "cos_rope = tmp_rope[:,0]\n",
    "print('cos_rope', cos_rope)\n",
    "sin_rope = tmp_rope[:,1]\n",
    "print('sin_rope',sin_rope)\n",
    "\n",
    "'''\n",
    "配对旋转：RoPE 编码通常将连续的两个元素视为一个“配对”，对每一对元素应用相同的旋转角度。\n",
    "这种做法能够让编码对位置的变化有更敏感的反应，从而增强模型对序列位置的感知。\n",
    "\n",
    "共享相同角度：在 tmp_x 的前两个元素中，tmp_x[0] 和 tmp_x[1] 都使用相同的角度（cos_rope[0] 和 sin_rope[0]）进行旋转，\n",
    "确保这对元素按照统一的方式进行旋转变换。\n",
    "类似地，tmp_x[2] 和 tmp_x[3] 使用另一个角度（cos_rope[1] 和 sin_rope[1]），让下一对元素的旋转方式保持一致。\n",
    "'''\n",
    "rope_x0 = tmp_x[0] * cos_rope[0] - tmp_x[1] * sin_rope[0]\n",
    "rope_x1 = tmp_x[1] * cos_rope[0] + tmp_x[0] * sin_rope[0]\n",
    "rope_x2 = tmp_x[2] * cos_rope[1] - tmp_x[3] * sin_rope[1]\n",
    "rope_x3 = tmp_x[3] * cos_rope[1] + tmp_x[2] * sin_rope[1]\n",
    "\n",
    "# 原始x向量\n",
    "print(tmp_x)\n",
    "\n",
    "# 手动计算的rope结果\n",
    "print(\"手动计算rope结果\")\n",
    "print(rope_x0,\n",
    "      rope_x1,\n",
    "      rope_x2,\n",
    "      rope_x3)\n",
    "\n",
    "# this by apply_rope\n",
    "print(\"apply_rope计算的rope结果\")\n",
    "print(out.shape)\n",
    "print(out[0,-1,0,:4])"
   ]
  },
  {
   "cell_type": "markdown",
   "metadata": {},
   "source": [
    "## 4.4 Block Attention"
   ]
  },
  {
   "cell_type": "code",
   "execution_count": 172,
   "metadata": {},
   "outputs": [
    {
     "data": {
      "text/plain": [
       "CausalSelfAttention(\n",
       "  (c_attn): Linear(in_features=128, out_features=384, bias=False)\n",
       "  (c_proj): Linear(in_features=128, out_features=128, bias=False)\n",
       ")"
      ]
     },
     "execution_count": 172,
     "metadata": {},
     "output_type": "execute_result"
    }
   ],
   "source": [
    "# block attention\n",
    "model.transformer.h[0].attn"
   ]
  },
  {
   "cell_type": "code",
   "execution_count": 176,
   "metadata": {},
   "outputs": [
    {
     "data": {
      "text/plain": [
       "Block(\n",
       "  (rms_1): RMSNorm()\n",
       "  (attn): CausalSelfAttention(\n",
       "    (c_attn): Linear(in_features=128, out_features=384, bias=False)\n",
       "    (c_proj): Linear(in_features=128, out_features=128, bias=False)\n",
       "  )\n",
       "  (rms_2): RMSNorm()\n",
       "  (mlp): MLP(\n",
       "    (c_fc1): Linear(in_features=128, out_features=512, bias=False)\n",
       "    (c_fc2): Linear(in_features=128, out_features=512, bias=False)\n",
       "    (c_proj): Linear(in_features=512, out_features=128, bias=False)\n",
       "  )\n",
       ")"
      ]
     },
     "execution_count": 176,
     "metadata": {},
     "output_type": "execute_result"
    }
   ],
   "source": [
    "model.transformer.h[0] # attn的输入是rms_1的输出"
   ]
  },
  {
   "cell_type": "code",
   "execution_count": 179,
   "metadata": {},
   "outputs": [
    {
     "name": "stdout",
     "output_type": "stream",
     "text": [
      "Help on method forward in module lit_llama.model:\n",
      "\n",
      "forward(x: torch.Tensor, rope: torch.Tensor, mask: torch.Tensor, max_seq_length: int, input_pos: Union[torch.Tensor, NoneType] = None, kv_cache: Union[Tuple[torch.Tensor, torch.Tensor], NoneType] = None) -> Tuple[torch.Tensor, Union[Tuple[torch.Tensor, torch.Tensor], NoneType]] method of lit_llama.model.CausalSelfAttention instance\n",
      "    Defines the computation performed at every call.\n",
      "    \n",
      "    Should be overridden by all subclasses.\n",
      "    \n",
      "    .. note::\n",
      "        Although the recipe for forward pass needs to be defined within\n",
      "        this function, one should call the :class:`Module` instance afterwards\n",
      "        instead of this since the former takes care of running the\n",
      "        registered hooks while the latter silently ignores them.\n",
      "\n"
     ]
    },
    {
     "data": {
      "text/html": [
       "<pre style=\"white-space:pre;overflow-x:auto;line-height:normal;font-family:Menlo,'DejaVu Sans Mono',consolas,'Courier New',monospace\"><span style=\"color: #800080; text-decoration-color: #800080; font-style: italic\">None</span>\n",
       "</pre>\n"
      ],
      "text/plain": [
       "\u001b[3;35mNone\u001b[0m\n"
      ]
     },
     "metadata": {},
     "output_type": "display_data"
    },
    {
     "name": "stdout",
     "output_type": "stream",
     "text": [
      "torch.Size([16, 8, 1024, 16])\n",
      "torch.Size([16, 8, 1024, 16])\n",
      "torch.Size([16, 8, 1024, 16])\n",
      "torch.Size([1, 1, 1024, 1024])\n"
     ]
    },
    {
     "data": {
      "text/html": [
       "<pre style=\"white-space:pre;overflow-x:auto;line-height:normal;font-family:Menlo,'DejaVu Sans Mono',consolas,'Courier New',monospace\"><span style=\"color: #800080; text-decoration-color: #800080; font-weight: bold\">torch.Size</span><span style=\"font-weight: bold\">([</span><span style=\"color: #008080; text-decoration-color: #008080; font-weight: bold\">16</span>, <span style=\"color: #008080; text-decoration-color: #008080; font-weight: bold\">1024</span>, <span style=\"color: #008080; text-decoration-color: #008080; font-weight: bold\">128</span><span style=\"font-weight: bold\">])</span>\n",
       "</pre>\n"
      ],
      "text/plain": [
       "\u001b[1;35mtorch.Size\u001b[0m\u001b[1m(\u001b[0m\u001b[1m[\u001b[0m\u001b[1;36m16\u001b[0m, \u001b[1;36m1024\u001b[0m, \u001b[1;36m128\u001b[0m\u001b[1m]\u001b[0m\u001b[1m)\u001b[0m\n"
      ]
     },
     "metadata": {},
     "output_type": "display_data"
    }
   ],
   "source": [
    "# 通过已有的blck attn输出结果\n",
    "block_attn = model.transformer.h[0].attn\n",
    "print(help(block_attn.forward))\n",
    "\n",
    "x_attn, _ = block_attn(x_rms_1, rope, mask, max_seq_length)\n",
    "print(x_attn.shape) # B, T, D"
   ]
  },
  {
   "cell_type": "code",
   "execution_count": 181,
   "metadata": {},
   "outputs": [
    {
     "data": {
      "text/html": [
       "<pre style=\"white-space:pre;overflow-x:auto;line-height:normal;font-family:Menlo,'DejaVu Sans Mono',consolas,'Courier New',monospace\">batch:<span style=\"color: #008080; text-decoration-color: #008080; font-weight: bold\">16</span>, length:<span style=\"color: #008080; text-decoration-color: #008080; font-weight: bold\">1024</span>, n_embding:<span style=\"color: #008080; text-decoration-color: #008080; font-weight: bold\">128</span>\n",
       "</pre>\n"
      ],
      "text/plain": [
       "batch:\u001b[1;36m16\u001b[0m, length:\u001b[1;36m1024\u001b[0m, n_embding:\u001b[1;36m128\u001b[0m\n"
      ]
     },
     "metadata": {},
     "output_type": "display_data"
    }
   ],
   "source": [
    "# 自己实现block attn\n",
    "B, T, D = x_rms_1.size()\n",
    "print(\"batch:{}, length:{}, n_embding:{}\".format(B,T,D))"
   ]
  },
  {
   "cell_type": "code",
   "execution_count": 192,
   "metadata": {},
   "outputs": [
    {
     "data": {
      "text/html": [
       "<pre style=\"white-space:pre;overflow-x:auto;line-height:normal;font-family:Menlo,'DejaVu Sans Mono',consolas,'Courier New',monospace\">-------------<span style=\"color: #008080; text-decoration-color: #008080; font-weight: bold\">-1</span>. attenion split------------------\n",
       "</pre>\n"
      ],
      "text/plain": [
       "-------------\u001b[1;36m-1\u001b[0m. attenion split------------------\n"
      ]
     },
     "metadata": {},
     "output_type": "display_data"
    },
    {
     "data": {
      "text/html": [
       "<pre style=\"white-space:pre;overflow-x:auto;line-height:normal;font-family:Menlo,'DejaVu Sans Mono',consolas,'Courier New',monospace\">batch, length, head, n_embding: <span style=\"color: #800080; text-decoration-color: #800080; font-weight: bold\">torch.Size</span><span style=\"font-weight: bold\">([</span><span style=\"color: #008080; text-decoration-color: #008080; font-weight: bold\">16</span>, <span style=\"color: #008080; text-decoration-color: #008080; font-weight: bold\">1024</span>, <span style=\"color: #008080; text-decoration-color: #008080; font-weight: bold\">8</span>, <span style=\"color: #008080; text-decoration-color: #008080; font-weight: bold\">16</span><span style=\"font-weight: bold\">])</span>\n",
       "</pre>\n"
      ],
      "text/plain": [
       "batch, length, head, n_embding: \u001b[1;35mtorch.Size\u001b[0m\u001b[1m(\u001b[0m\u001b[1m[\u001b[0m\u001b[1;36m16\u001b[0m, \u001b[1;36m1024\u001b[0m, \u001b[1;36m8\u001b[0m, \u001b[1;36m16\u001b[0m\u001b[1m]\u001b[0m\u001b[1m)\u001b[0m\n"
      ]
     },
     "metadata": {},
     "output_type": "display_data"
    }
   ],
   "source": [
    "'''\n",
    "1.block_attn.c_attn(x) 通过一个线性变换，生成了一个形状为 (batch_size, seq_len, 3 * n_embd) 的张量；\n",
    "2..split(block_attn.n_embd, dim=2) 将最后一维（3 * n_embd）分割为 3 个大小为 n_embd 的部分；\n",
    "3.q, k, v 分别保存分割后的每部分，形状均为 (batch_size, seq_len, n_embd)。\n",
    "'''\n",
    "print('--------------1. attenion split------------------')\n",
    "x = x_rms_1\n",
    "q, k, v = block_attn.c_attn(x).split(block_attn.n_embd, dim=-1)\n",
    "head_size = D // block_attn.n_head\n",
    "q = q.view(B, T, block_attn.n_head, head_size)\n",
    "k = k.view(B, T, block_attn.n_head, head_size)\n",
    "v = v.view(B, T, block_attn.n_head, head_size)\n",
    "print(\"batch, length, head, n_embding: {}\".format(k.shape))"
   ]
  },
  {
   "cell_type": "code",
   "execution_count": 195,
   "metadata": {},
   "outputs": [
    {
     "data": {
      "text/html": [
       "<pre style=\"white-space:pre;overflow-x:auto;line-height:normal;font-family:Menlo,'DejaVu Sans Mono',consolas,'Courier New',monospace\">-------------<span style=\"color: #008080; text-decoration-color: #008080; font-weight: bold\">-2</span>. qk RoPE 旋转相对位置编码------------------\n",
       "</pre>\n"
      ],
      "text/plain": [
       "-------------\u001b[1;36m-2\u001b[0m. qk RoPE 旋转相对位置编码------------------\n"
      ]
     },
     "metadata": {},
     "output_type": "display_data"
    },
    {
     "data": {
      "text/html": [
       "<pre style=\"white-space:pre;overflow-x:auto;line-height:normal;font-family:Menlo,'DejaVu Sans Mono',consolas,'Courier New',monospace\">RoPE编码作用在每个block的attention计算QK里\n",
       "</pre>\n"
      ],
      "text/plain": [
       "RoPE编码作用在每个block的attention计算QK里\n"
      ]
     },
     "metadata": {},
     "output_type": "display_data"
    },
    {
     "data": {
      "text/html": [
       "<pre style=\"white-space:pre;overflow-x:auto;line-height:normal;font-family:Menlo,'DejaVu Sans Mono',consolas,'Courier New',monospace\">x.shape\n",
       "<span style=\"color: #800080; text-decoration-color: #800080; font-weight: bold\">torch.Size</span><span style=\"font-weight: bold\">([</span><span style=\"color: #008080; text-decoration-color: #008080; font-weight: bold\">16</span>, <span style=\"color: #008080; text-decoration-color: #008080; font-weight: bold\">1024</span>, <span style=\"color: #008080; text-decoration-color: #008080; font-weight: bold\">8</span>, <span style=\"color: #008080; text-decoration-color: #008080; font-weight: bold\">16</span><span style=\"font-weight: bold\">])</span>\n",
       "</pre>\n"
      ],
      "text/plain": [
       "x.shape\n",
       "\u001b[1;35mtorch.Size\u001b[0m\u001b[1m(\u001b[0m\u001b[1m[\u001b[0m\u001b[1;36m16\u001b[0m, \u001b[1;36m1024\u001b[0m, \u001b[1;36m8\u001b[0m, \u001b[1;36m16\u001b[0m\u001b[1m]\u001b[0m\u001b[1m)\u001b[0m\n"
      ]
     },
     "metadata": {},
     "output_type": "display_data"
    },
    {
     "data": {
      "text/html": [
       "<pre style=\"white-space:pre;overflow-x:auto;line-height:normal;font-family:Menlo,'DejaVu Sans Mono',consolas,'Courier New',monospace\">xshaped.shape\n",
       "<span style=\"color: #800080; text-decoration-color: #800080; font-weight: bold\">torch.Size</span><span style=\"font-weight: bold\">([</span><span style=\"color: #008080; text-decoration-color: #008080; font-weight: bold\">16</span>, <span style=\"color: #008080; text-decoration-color: #008080; font-weight: bold\">1024</span>, <span style=\"color: #008080; text-decoration-color: #008080; font-weight: bold\">8</span>, <span style=\"color: #008080; text-decoration-color: #008080; font-weight: bold\">8</span>, <span style=\"color: #008080; text-decoration-color: #008080; font-weight: bold\">2</span><span style=\"font-weight: bold\">])</span>\n",
       "</pre>\n"
      ],
      "text/plain": [
       "xshaped.shape\n",
       "\u001b[1;35mtorch.Size\u001b[0m\u001b[1m(\u001b[0m\u001b[1m[\u001b[0m\u001b[1;36m16\u001b[0m, \u001b[1;36m1024\u001b[0m, \u001b[1;36m8\u001b[0m, \u001b[1;36m8\u001b[0m, \u001b[1;36m2\u001b[0m\u001b[1m]\u001b[0m\u001b[1m)\u001b[0m\n"
      ]
     },
     "metadata": {},
     "output_type": "display_data"
    },
    {
     "data": {
      "text/html": [
       "<pre style=\"white-space:pre;overflow-x:auto;line-height:normal;font-family:Menlo,'DejaVu Sans Mono',consolas,'Courier New',monospace\">rope_cache \n",
       "<span style=\"color: #800080; text-decoration-color: #800080; font-weight: bold\">torch.Size</span><span style=\"font-weight: bold\">([</span><span style=\"color: #008080; text-decoration-color: #008080; font-weight: bold\">1</span>, <span style=\"color: #008080; text-decoration-color: #008080; font-weight: bold\">1024</span>, <span style=\"color: #008080; text-decoration-color: #008080; font-weight: bold\">1</span>, <span style=\"color: #008080; text-decoration-color: #008080; font-weight: bold\">8</span>, <span style=\"color: #008080; text-decoration-color: #008080; font-weight: bold\">2</span><span style=\"font-weight: bold\">])</span>\n",
       "</pre>\n"
      ],
      "text/plain": [
       "rope_cache \n",
       "\u001b[1;35mtorch.Size\u001b[0m\u001b[1m(\u001b[0m\u001b[1m[\u001b[0m\u001b[1;36m1\u001b[0m, \u001b[1;36m1024\u001b[0m, \u001b[1;36m1\u001b[0m, \u001b[1;36m8\u001b[0m, \u001b[1;36m2\u001b[0m\u001b[1m]\u001b[0m\u001b[1m)\u001b[0m\n"
      ]
     },
     "metadata": {},
     "output_type": "display_data"
    },
    {
     "data": {
      "text/html": [
       "<pre style=\"white-space:pre;overflow-x:auto;line-height:normal;font-family:Menlo,'DejaVu Sans Mono',consolas,'Courier New',monospace\">rope_cache  <span style=\"color: #800080; text-decoration-color: #800080; font-weight: bold\">tensor</span><span style=\"font-weight: bold\">([[[[[</span> <span style=\"color: #008080; text-decoration-color: #008080; font-weight: bold\">1.0000e+00</span>,  <span style=\"color: #008080; text-decoration-color: #008080; font-weight: bold\">0.0000e+00</span><span style=\"font-weight: bold\">]</span>,\n",
       "           <span style=\"font-weight: bold\">[</span> <span style=\"color: #008080; text-decoration-color: #008080; font-weight: bold\">1.0000e+00</span>,  <span style=\"color: #008080; text-decoration-color: #008080; font-weight: bold\">0.0000e+00</span><span style=\"font-weight: bold\">]</span>,\n",
       "           <span style=\"font-weight: bold\">[</span> <span style=\"color: #008080; text-decoration-color: #008080; font-weight: bold\">1.0000e+00</span>,  <span style=\"color: #008080; text-decoration-color: #008080; font-weight: bold\">0.0000e+00</span><span style=\"font-weight: bold\">]</span>,\n",
       "           <span style=\"color: #808000; text-decoration-color: #808000\">...</span>,\n",
       "           <span style=\"font-weight: bold\">[</span> <span style=\"color: #008080; text-decoration-color: #008080; font-weight: bold\">1.0000e+00</span>,  <span style=\"color: #008080; text-decoration-color: #008080; font-weight: bold\">0.0000e+00</span><span style=\"font-weight: bold\">]</span>,\n",
       "           <span style=\"font-weight: bold\">[</span> <span style=\"color: #008080; text-decoration-color: #008080; font-weight: bold\">1.0000e+00</span>,  <span style=\"color: #008080; text-decoration-color: #008080; font-weight: bold\">0.0000e+00</span><span style=\"font-weight: bold\">]</span>,\n",
       "           <span style=\"font-weight: bold\">[</span> <span style=\"color: #008080; text-decoration-color: #008080; font-weight: bold\">1.0000e+00</span>,  <span style=\"color: #008080; text-decoration-color: #008080; font-weight: bold\">0.0000e+00</span><span style=\"font-weight: bold\">]]]</span>,\n",
       "\n",
       "\n",
       "         <span style=\"font-weight: bold\">[[[</span> <span style=\"color: #008080; text-decoration-color: #008080; font-weight: bold\">5.4030e-01</span>,  <span style=\"color: #008080; text-decoration-color: #008080; font-weight: bold\">8.4147e-01</span><span style=\"font-weight: bold\">]</span>,\n",
       "           <span style=\"font-weight: bold\">[</span> <span style=\"color: #008080; text-decoration-color: #008080; font-weight: bold\">9.5042e-01</span>,  <span style=\"color: #008080; text-decoration-color: #008080; font-weight: bold\">3.1098e-01</span><span style=\"font-weight: bold\">]</span>,\n",
       "           <span style=\"font-weight: bold\">[</span> <span style=\"color: #008080; text-decoration-color: #008080; font-weight: bold\">9.9500e-01</span>,  <span style=\"color: #008080; text-decoration-color: #008080; font-weight: bold\">9.9833e-02</span><span style=\"font-weight: bold\">]</span>,\n",
       "           <span style=\"color: #808000; text-decoration-color: #808000\">...</span>,\n",
       "           <span style=\"font-weight: bold\">[</span> <span style=\"color: #008080; text-decoration-color: #008080; font-weight: bold\">9.9999e-01</span>,  <span style=\"color: #008080; text-decoration-color: #008080; font-weight: bold\">3.1623e-03</span><span style=\"font-weight: bold\">]</span>,\n",
       "           <span style=\"font-weight: bold\">[</span> <span style=\"color: #008080; text-decoration-color: #008080; font-weight: bold\">1.0000e+00</span>,  <span style=\"color: #008080; text-decoration-color: #008080; font-weight: bold\">1.0000e-03</span><span style=\"font-weight: bold\">]</span>,\n",
       "           <span style=\"font-weight: bold\">[</span> <span style=\"color: #008080; text-decoration-color: #008080; font-weight: bold\">1.0000e+00</span>,  <span style=\"color: #008080; text-decoration-color: #008080; font-weight: bold\">3.1623e-04</span><span style=\"font-weight: bold\">]]]</span>,\n",
       "\n",
       "\n",
       "         <span style=\"font-weight: bold\">[[[</span><span style=\"color: #008080; text-decoration-color: #008080; font-weight: bold\">-4.1615e-01</span>,  <span style=\"color: #008080; text-decoration-color: #008080; font-weight: bold\">9.0930e-01</span><span style=\"font-weight: bold\">]</span>,\n",
       "           <span style=\"font-weight: bold\">[</span> <span style=\"color: #008080; text-decoration-color: #008080; font-weight: bold\">8.0658e-01</span>,  <span style=\"color: #008080; text-decoration-color: #008080; font-weight: bold\">5.9113e-01</span><span style=\"font-weight: bold\">]</span>,\n",
       "           <span style=\"font-weight: bold\">[</span> <span style=\"color: #008080; text-decoration-color: #008080; font-weight: bold\">9.8007e-01</span>,  <span style=\"color: #008080; text-decoration-color: #008080; font-weight: bold\">1.9867e-01</span><span style=\"font-weight: bold\">]</span>,\n",
       "           <span style=\"color: #808000; text-decoration-color: #808000\">...</span>,\n",
       "           <span style=\"font-weight: bold\">[</span> <span style=\"color: #008080; text-decoration-color: #008080; font-weight: bold\">9.9998e-01</span>,  <span style=\"color: #008080; text-decoration-color: #008080; font-weight: bold\">6.3245e-03</span><span style=\"font-weight: bold\">]</span>,\n",
       "           <span style=\"font-weight: bold\">[</span> <span style=\"color: #008080; text-decoration-color: #008080; font-weight: bold\">1.0000e+00</span>,  <span style=\"color: #008080; text-decoration-color: #008080; font-weight: bold\">2.0000e-03</span><span style=\"font-weight: bold\">]</span>,\n",
       "           <span style=\"font-weight: bold\">[</span> <span style=\"color: #008080; text-decoration-color: #008080; font-weight: bold\">1.0000e+00</span>,  <span style=\"color: #008080; text-decoration-color: #008080; font-weight: bold\">6.3246e-04</span><span style=\"font-weight: bold\">]]]</span>,\n",
       "\n",
       "\n",
       "         <span style=\"color: #808000; text-decoration-color: #808000\">...</span>,\n",
       "\n",
       "\n",
       "         <span style=\"font-weight: bold\">[[[</span><span style=\"color: #008080; text-decoration-color: #008080; font-weight: bold\">-9.9984e-01</span>,  <span style=\"color: #008080; text-decoration-color: #008080; font-weight: bold\">1.7612e-02</span><span style=\"font-weight: bold\">]</span>,\n",
       "           <span style=\"font-weight: bold\">[</span><span style=\"color: #008080; text-decoration-color: #008080; font-weight: bold\">-7.5478e-01</span>,  <span style=\"color: #008080; text-decoration-color: #008080; font-weight: bold\">6.5598e-01</span><span style=\"font-weight: bold\">]</span>,\n",
       "           <span style=\"font-weight: bold\">[</span> <span style=\"color: #008080; text-decoration-color: #008080; font-weight: bold\">1.7628e-03</span>,  <span style=\"color: #008080; text-decoration-color: #008080; font-weight: bold\">1.0000e+00</span><span style=\"font-weight: bold\">]</span>,\n",
       "           <span style=\"color: #808000; text-decoration-color: #808000\">...</span>,\n",
       "           <span style=\"font-weight: bold\">[</span><span style=\"color: #008080; text-decoration-color: #008080; font-weight: bold\">-9.9621e-01</span>, <span style=\"color: #008080; text-decoration-color: #008080; font-weight: bold\">-8.6983e-02</span><span style=\"font-weight: bold\">]</span>,\n",
       "           <span style=\"font-weight: bold\">[</span> <span style=\"color: #008080; text-decoration-color: #008080; font-weight: bold\">5.2251e-01</span>,  <span style=\"color: #008080; text-decoration-color: #008080; font-weight: bold\">8.5263e-01</span><span style=\"font-weight: bold\">]</span>,\n",
       "           <span style=\"font-weight: bold\">[</span> <span style=\"color: #008080; text-decoration-color: #008080; font-weight: bold\">9.4833e-01</span>,  <span style=\"color: #008080; text-decoration-color: #008080; font-weight: bold\">3.1729e-01</span><span style=\"font-weight: bold\">]]]</span>,\n",
       "\n",
       "\n",
       "         <span style=\"font-weight: bold\">[[[</span><span style=\"color: #008080; text-decoration-color: #008080; font-weight: bold\">-5.5504e-01</span>, <span style=\"color: #008080; text-decoration-color: #008080; font-weight: bold\">-8.3182e-01</span><span style=\"font-weight: bold\">]</span>,\n",
       "           <span style=\"font-weight: bold\">[</span><span style=\"color: #008080; text-decoration-color: #008080; font-weight: bold\">-9.2135e-01</span>,  <span style=\"color: #008080; text-decoration-color: #008080; font-weight: bold\">3.8874e-01</span><span style=\"font-weight: bold\">]</span>,\n",
       "           <span style=\"font-weight: bold\">[</span><span style=\"color: #008080; text-decoration-color: #008080; font-weight: bold\">-9.8085e-02</span>,  <span style=\"color: #008080; text-decoration-color: #008080; font-weight: bold\">9.9518e-01</span><span style=\"font-weight: bold\">]</span>,\n",
       "           <span style=\"color: #808000; text-decoration-color: #808000\">...</span>,\n",
       "           <span style=\"font-weight: bold\">[</span><span style=\"color: #008080; text-decoration-color: #008080; font-weight: bold\">-9.9593e-01</span>, <span style=\"color: #008080; text-decoration-color: #008080; font-weight: bold\">-9.0133e-02</span><span style=\"font-weight: bold\">]</span>,\n",
       "           <span style=\"font-weight: bold\">[</span> <span style=\"color: #008080; text-decoration-color: #008080; font-weight: bold\">5.2166e-01</span>,  <span style=\"color: #008080; text-decoration-color: #008080; font-weight: bold\">8.5315e-01</span><span style=\"font-weight: bold\">]</span>,\n",
       "           <span style=\"font-weight: bold\">[</span> <span style=\"color: #008080; text-decoration-color: #008080; font-weight: bold\">9.4823e-01</span>,  <span style=\"color: #008080; text-decoration-color: #008080; font-weight: bold\">3.1759e-01</span><span style=\"font-weight: bold\">]]]</span>,\n",
       "\n",
       "\n",
       "         <span style=\"font-weight: bold\">[[[</span> <span style=\"color: #008080; text-decoration-color: #008080; font-weight: bold\">4.0007e-01</span>, <span style=\"color: #008080; text-decoration-color: #008080; font-weight: bold\">-9.1649e-01</span><span style=\"font-weight: bold\">]</span>,\n",
       "           <span style=\"font-weight: bold\">[</span><span style=\"color: #008080; text-decoration-color: #008080; font-weight: bold\">-9.9655e-01</span>,  <span style=\"color: #008080; text-decoration-color: #008080; font-weight: bold\">8.2941e-02</span><span style=\"font-weight: bold\">]</span>,\n",
       "           <span style=\"font-weight: bold\">[</span><span style=\"color: #008080; text-decoration-color: #008080; font-weight: bold\">-1.9695e-01</span>,  <span style=\"color: #008080; text-decoration-color: #008080; font-weight: bold\">9.8041e-01</span><span style=\"font-weight: bold\">]</span>,\n",
       "           <span style=\"color: #808000; text-decoration-color: #808000\">...</span>,\n",
       "           <span style=\"font-weight: bold\">[</span><span style=\"color: #008080; text-decoration-color: #008080; font-weight: bold\">-9.9564e-01</span>, <span style=\"color: #008080; text-decoration-color: #008080; font-weight: bold\">-9.3282e-02</span><span style=\"font-weight: bold\">]</span>,\n",
       "           <span style=\"font-weight: bold\">[</span> <span style=\"color: #008080; text-decoration-color: #008080; font-weight: bold\">5.2081e-01</span>,  <span style=\"color: #008080; text-decoration-color: #008080; font-weight: bold\">8.5367e-01</span><span style=\"font-weight: bold\">]</span>,\n",
       "           <span style=\"font-weight: bold\">[</span> <span style=\"color: #008080; text-decoration-color: #008080; font-weight: bold\">9.4813e-01</span>,  <span style=\"color: #008080; text-decoration-color: #008080; font-weight: bold\">3.1789e-01</span><span style=\"font-weight: bold\">]]]]])</span>\n",
       "</pre>\n"
      ],
      "text/plain": [
       "rope_cache  \u001b[1;35mtensor\u001b[0m\u001b[1m(\u001b[0m\u001b[1m[\u001b[0m\u001b[1m[\u001b[0m\u001b[1m[\u001b[0m\u001b[1m[\u001b[0m\u001b[1m[\u001b[0m \u001b[1;36m1.0000e+00\u001b[0m,  \u001b[1;36m0.0000e+00\u001b[0m\u001b[1m]\u001b[0m,\n",
       "           \u001b[1m[\u001b[0m \u001b[1;36m1.0000e+00\u001b[0m,  \u001b[1;36m0.0000e+00\u001b[0m\u001b[1m]\u001b[0m,\n",
       "           \u001b[1m[\u001b[0m \u001b[1;36m1.0000e+00\u001b[0m,  \u001b[1;36m0.0000e+00\u001b[0m\u001b[1m]\u001b[0m,\n",
       "           \u001b[33m...\u001b[0m,\n",
       "           \u001b[1m[\u001b[0m \u001b[1;36m1.0000e+00\u001b[0m,  \u001b[1;36m0.0000e+00\u001b[0m\u001b[1m]\u001b[0m,\n",
       "           \u001b[1m[\u001b[0m \u001b[1;36m1.0000e+00\u001b[0m,  \u001b[1;36m0.0000e+00\u001b[0m\u001b[1m]\u001b[0m,\n",
       "           \u001b[1m[\u001b[0m \u001b[1;36m1.0000e+00\u001b[0m,  \u001b[1;36m0.0000e+00\u001b[0m\u001b[1m]\u001b[0m\u001b[1m]\u001b[0m\u001b[1m]\u001b[0m,\n",
       "\n",
       "\n",
       "         \u001b[1m[\u001b[0m\u001b[1m[\u001b[0m\u001b[1m[\u001b[0m \u001b[1;36m5.4030e-01\u001b[0m,  \u001b[1;36m8.4147e-01\u001b[0m\u001b[1m]\u001b[0m,\n",
       "           \u001b[1m[\u001b[0m \u001b[1;36m9.5042e-01\u001b[0m,  \u001b[1;36m3.1098e-01\u001b[0m\u001b[1m]\u001b[0m,\n",
       "           \u001b[1m[\u001b[0m \u001b[1;36m9.9500e-01\u001b[0m,  \u001b[1;36m9.9833e-02\u001b[0m\u001b[1m]\u001b[0m,\n",
       "           \u001b[33m...\u001b[0m,\n",
       "           \u001b[1m[\u001b[0m \u001b[1;36m9.9999e-01\u001b[0m,  \u001b[1;36m3.1623e-03\u001b[0m\u001b[1m]\u001b[0m,\n",
       "           \u001b[1m[\u001b[0m \u001b[1;36m1.0000e+00\u001b[0m,  \u001b[1;36m1.0000e-03\u001b[0m\u001b[1m]\u001b[0m,\n",
       "           \u001b[1m[\u001b[0m \u001b[1;36m1.0000e+00\u001b[0m,  \u001b[1;36m3.1623e-04\u001b[0m\u001b[1m]\u001b[0m\u001b[1m]\u001b[0m\u001b[1m]\u001b[0m,\n",
       "\n",
       "\n",
       "         \u001b[1m[\u001b[0m\u001b[1m[\u001b[0m\u001b[1m[\u001b[0m\u001b[1;36m-4.1615e-01\u001b[0m,  \u001b[1;36m9.0930e-01\u001b[0m\u001b[1m]\u001b[0m,\n",
       "           \u001b[1m[\u001b[0m \u001b[1;36m8.0658e-01\u001b[0m,  \u001b[1;36m5.9113e-01\u001b[0m\u001b[1m]\u001b[0m,\n",
       "           \u001b[1m[\u001b[0m \u001b[1;36m9.8007e-01\u001b[0m,  \u001b[1;36m1.9867e-01\u001b[0m\u001b[1m]\u001b[0m,\n",
       "           \u001b[33m...\u001b[0m,\n",
       "           \u001b[1m[\u001b[0m \u001b[1;36m9.9998e-01\u001b[0m,  \u001b[1;36m6.3245e-03\u001b[0m\u001b[1m]\u001b[0m,\n",
       "           \u001b[1m[\u001b[0m \u001b[1;36m1.0000e+00\u001b[0m,  \u001b[1;36m2.0000e-03\u001b[0m\u001b[1m]\u001b[0m,\n",
       "           \u001b[1m[\u001b[0m \u001b[1;36m1.0000e+00\u001b[0m,  \u001b[1;36m6.3246e-04\u001b[0m\u001b[1m]\u001b[0m\u001b[1m]\u001b[0m\u001b[1m]\u001b[0m,\n",
       "\n",
       "\n",
       "         \u001b[33m...\u001b[0m,\n",
       "\n",
       "\n",
       "         \u001b[1m[\u001b[0m\u001b[1m[\u001b[0m\u001b[1m[\u001b[0m\u001b[1;36m-9.9984e-01\u001b[0m,  \u001b[1;36m1.7612e-02\u001b[0m\u001b[1m]\u001b[0m,\n",
       "           \u001b[1m[\u001b[0m\u001b[1;36m-7.5478e-01\u001b[0m,  \u001b[1;36m6.5598e-01\u001b[0m\u001b[1m]\u001b[0m,\n",
       "           \u001b[1m[\u001b[0m \u001b[1;36m1.7628e-03\u001b[0m,  \u001b[1;36m1.0000e+00\u001b[0m\u001b[1m]\u001b[0m,\n",
       "           \u001b[33m...\u001b[0m,\n",
       "           \u001b[1m[\u001b[0m\u001b[1;36m-9.9621e-01\u001b[0m, \u001b[1;36m-8.6983e-02\u001b[0m\u001b[1m]\u001b[0m,\n",
       "           \u001b[1m[\u001b[0m \u001b[1;36m5.2251e-01\u001b[0m,  \u001b[1;36m8.5263e-01\u001b[0m\u001b[1m]\u001b[0m,\n",
       "           \u001b[1m[\u001b[0m \u001b[1;36m9.4833e-01\u001b[0m,  \u001b[1;36m3.1729e-01\u001b[0m\u001b[1m]\u001b[0m\u001b[1m]\u001b[0m\u001b[1m]\u001b[0m,\n",
       "\n",
       "\n",
       "         \u001b[1m[\u001b[0m\u001b[1m[\u001b[0m\u001b[1m[\u001b[0m\u001b[1;36m-5.5504e-01\u001b[0m, \u001b[1;36m-8.3182e-01\u001b[0m\u001b[1m]\u001b[0m,\n",
       "           \u001b[1m[\u001b[0m\u001b[1;36m-9.2135e-01\u001b[0m,  \u001b[1;36m3.8874e-01\u001b[0m\u001b[1m]\u001b[0m,\n",
       "           \u001b[1m[\u001b[0m\u001b[1;36m-9.8085e-02\u001b[0m,  \u001b[1;36m9.9518e-01\u001b[0m\u001b[1m]\u001b[0m,\n",
       "           \u001b[33m...\u001b[0m,\n",
       "           \u001b[1m[\u001b[0m\u001b[1;36m-9.9593e-01\u001b[0m, \u001b[1;36m-9.0133e-02\u001b[0m\u001b[1m]\u001b[0m,\n",
       "           \u001b[1m[\u001b[0m \u001b[1;36m5.2166e-01\u001b[0m,  \u001b[1;36m8.5315e-01\u001b[0m\u001b[1m]\u001b[0m,\n",
       "           \u001b[1m[\u001b[0m \u001b[1;36m9.4823e-01\u001b[0m,  \u001b[1;36m3.1759e-01\u001b[0m\u001b[1m]\u001b[0m\u001b[1m]\u001b[0m\u001b[1m]\u001b[0m,\n",
       "\n",
       "\n",
       "         \u001b[1m[\u001b[0m\u001b[1m[\u001b[0m\u001b[1m[\u001b[0m \u001b[1;36m4.0007e-01\u001b[0m, \u001b[1;36m-9.1649e-01\u001b[0m\u001b[1m]\u001b[0m,\n",
       "           \u001b[1m[\u001b[0m\u001b[1;36m-9.9655e-01\u001b[0m,  \u001b[1;36m8.2941e-02\u001b[0m\u001b[1m]\u001b[0m,\n",
       "           \u001b[1m[\u001b[0m\u001b[1;36m-1.9695e-01\u001b[0m,  \u001b[1;36m9.8041e-01\u001b[0m\u001b[1m]\u001b[0m,\n",
       "           \u001b[33m...\u001b[0m,\n",
       "           \u001b[1m[\u001b[0m\u001b[1;36m-9.9564e-01\u001b[0m, \u001b[1;36m-9.3282e-02\u001b[0m\u001b[1m]\u001b[0m,\n",
       "           \u001b[1m[\u001b[0m \u001b[1;36m5.2081e-01\u001b[0m,  \u001b[1;36m8.5367e-01\u001b[0m\u001b[1m]\u001b[0m,\n",
       "           \u001b[1m[\u001b[0m \u001b[1;36m9.4813e-01\u001b[0m,  \u001b[1;36m3.1789e-01\u001b[0m\u001b[1m]\u001b[0m\u001b[1m]\u001b[0m\u001b[1m]\u001b[0m\u001b[1m]\u001b[0m\u001b[1m]\u001b[0m\u001b[1m)\u001b[0m\n"
      ]
     },
     "metadata": {},
     "output_type": "display_data"
    },
    {
     "data": {
      "text/html": [
       "<pre style=\"white-space:pre;overflow-x:auto;line-height:normal;font-family:Menlo,'DejaVu Sans Mono',consolas,'Courier New',monospace\">x_out2\n",
       "<span style=\"color: #800080; text-decoration-color: #800080; font-weight: bold\">torch.Size</span><span style=\"font-weight: bold\">([</span><span style=\"color: #008080; text-decoration-color: #008080; font-weight: bold\">16</span>, <span style=\"color: #008080; text-decoration-color: #008080; font-weight: bold\">1024</span>, <span style=\"color: #008080; text-decoration-color: #008080; font-weight: bold\">8</span>, <span style=\"color: #008080; text-decoration-color: #008080; font-weight: bold\">8</span>, <span style=\"color: #008080; text-decoration-color: #008080; font-weight: bold\">2</span><span style=\"font-weight: bold\">])</span>\n",
       "</pre>\n"
      ],
      "text/plain": [
       "x_out2\n",
       "\u001b[1;35mtorch.Size\u001b[0m\u001b[1m(\u001b[0m\u001b[1m[\u001b[0m\u001b[1;36m16\u001b[0m, \u001b[1;36m1024\u001b[0m, \u001b[1;36m8\u001b[0m, \u001b[1;36m8\u001b[0m, \u001b[1;36m2\u001b[0m\u001b[1m]\u001b[0m\u001b[1m)\u001b[0m\n"
      ]
     },
     "metadata": {},
     "output_type": "display_data"
    },
    {
     "data": {
      "text/html": [
       "<pre style=\"white-space:pre;overflow-x:auto;line-height:normal;font-family:Menlo,'DejaVu Sans Mono',consolas,'Courier New',monospace\">flat_x_out2\n",
       "<span style=\"color: #800080; text-decoration-color: #800080; font-weight: bold\">torch.Size</span><span style=\"font-weight: bold\">([</span><span style=\"color: #008080; text-decoration-color: #008080; font-weight: bold\">16</span>, <span style=\"color: #008080; text-decoration-color: #008080; font-weight: bold\">1024</span>, <span style=\"color: #008080; text-decoration-color: #008080; font-weight: bold\">8</span>, <span style=\"color: #008080; text-decoration-color: #008080; font-weight: bold\">16</span><span style=\"font-weight: bold\">])</span>\n",
       "</pre>\n"
      ],
      "text/plain": [
       "flat_x_out2\n",
       "\u001b[1;35mtorch.Size\u001b[0m\u001b[1m(\u001b[0m\u001b[1m[\u001b[0m\u001b[1;36m16\u001b[0m, \u001b[1;36m1024\u001b[0m, \u001b[1;36m8\u001b[0m, \u001b[1;36m16\u001b[0m\u001b[1m]\u001b[0m\u001b[1m)\u001b[0m\n"
      ]
     },
     "metadata": {},
     "output_type": "display_data"
    },
    {
     "data": {
      "text/html": [
       "<pre style=\"white-space:pre;overflow-x:auto;line-height:normal;font-family:Menlo,'DejaVu Sans Mono',consolas,'Courier New',monospace\">x.shape\n",
       "<span style=\"color: #800080; text-decoration-color: #800080; font-weight: bold\">torch.Size</span><span style=\"font-weight: bold\">([</span><span style=\"color: #008080; text-decoration-color: #008080; font-weight: bold\">16</span>, <span style=\"color: #008080; text-decoration-color: #008080; font-weight: bold\">1024</span>, <span style=\"color: #008080; text-decoration-color: #008080; font-weight: bold\">8</span>, <span style=\"color: #008080; text-decoration-color: #008080; font-weight: bold\">16</span><span style=\"font-weight: bold\">])</span>\n",
       "</pre>\n"
      ],
      "text/plain": [
       "x.shape\n",
       "\u001b[1;35mtorch.Size\u001b[0m\u001b[1m(\u001b[0m\u001b[1m[\u001b[0m\u001b[1;36m16\u001b[0m, \u001b[1;36m1024\u001b[0m, \u001b[1;36m8\u001b[0m, \u001b[1;36m16\u001b[0m\u001b[1m]\u001b[0m\u001b[1m)\u001b[0m\n"
      ]
     },
     "metadata": {},
     "output_type": "display_data"
    },
    {
     "data": {
      "text/html": [
       "<pre style=\"white-space:pre;overflow-x:auto;line-height:normal;font-family:Menlo,'DejaVu Sans Mono',consolas,'Courier New',monospace\">xshaped.shape\n",
       "<span style=\"color: #800080; text-decoration-color: #800080; font-weight: bold\">torch.Size</span><span style=\"font-weight: bold\">([</span><span style=\"color: #008080; text-decoration-color: #008080; font-weight: bold\">16</span>, <span style=\"color: #008080; text-decoration-color: #008080; font-weight: bold\">1024</span>, <span style=\"color: #008080; text-decoration-color: #008080; font-weight: bold\">8</span>, <span style=\"color: #008080; text-decoration-color: #008080; font-weight: bold\">8</span>, <span style=\"color: #008080; text-decoration-color: #008080; font-weight: bold\">2</span><span style=\"font-weight: bold\">])</span>\n",
       "</pre>\n"
      ],
      "text/plain": [
       "xshaped.shape\n",
       "\u001b[1;35mtorch.Size\u001b[0m\u001b[1m(\u001b[0m\u001b[1m[\u001b[0m\u001b[1;36m16\u001b[0m, \u001b[1;36m1024\u001b[0m, \u001b[1;36m8\u001b[0m, \u001b[1;36m8\u001b[0m, \u001b[1;36m2\u001b[0m\u001b[1m]\u001b[0m\u001b[1m)\u001b[0m\n"
      ]
     },
     "metadata": {},
     "output_type": "display_data"
    },
    {
     "data": {
      "text/html": [
       "<pre style=\"white-space:pre;overflow-x:auto;line-height:normal;font-family:Menlo,'DejaVu Sans Mono',consolas,'Courier New',monospace\">rope_cache \n",
       "<span style=\"color: #800080; text-decoration-color: #800080; font-weight: bold\">torch.Size</span><span style=\"font-weight: bold\">([</span><span style=\"color: #008080; text-decoration-color: #008080; font-weight: bold\">1</span>, <span style=\"color: #008080; text-decoration-color: #008080; font-weight: bold\">1024</span>, <span style=\"color: #008080; text-decoration-color: #008080; font-weight: bold\">1</span>, <span style=\"color: #008080; text-decoration-color: #008080; font-weight: bold\">8</span>, <span style=\"color: #008080; text-decoration-color: #008080; font-weight: bold\">2</span><span style=\"font-weight: bold\">])</span>\n",
       "</pre>\n"
      ],
      "text/plain": [
       "rope_cache \n",
       "\u001b[1;35mtorch.Size\u001b[0m\u001b[1m(\u001b[0m\u001b[1m[\u001b[0m\u001b[1;36m1\u001b[0m, \u001b[1;36m1024\u001b[0m, \u001b[1;36m1\u001b[0m, \u001b[1;36m8\u001b[0m, \u001b[1;36m2\u001b[0m\u001b[1m]\u001b[0m\u001b[1m)\u001b[0m\n"
      ]
     },
     "metadata": {},
     "output_type": "display_data"
    },
    {
     "data": {
      "text/html": [
       "<pre style=\"white-space:pre;overflow-x:auto;line-height:normal;font-family:Menlo,'DejaVu Sans Mono',consolas,'Courier New',monospace\">rope_cache  <span style=\"color: #800080; text-decoration-color: #800080; font-weight: bold\">tensor</span><span style=\"font-weight: bold\">([[[[[</span> <span style=\"color: #008080; text-decoration-color: #008080; font-weight: bold\">1.0000e+00</span>,  <span style=\"color: #008080; text-decoration-color: #008080; font-weight: bold\">0.0000e+00</span><span style=\"font-weight: bold\">]</span>,\n",
       "           <span style=\"font-weight: bold\">[</span> <span style=\"color: #008080; text-decoration-color: #008080; font-weight: bold\">1.0000e+00</span>,  <span style=\"color: #008080; text-decoration-color: #008080; font-weight: bold\">0.0000e+00</span><span style=\"font-weight: bold\">]</span>,\n",
       "           <span style=\"font-weight: bold\">[</span> <span style=\"color: #008080; text-decoration-color: #008080; font-weight: bold\">1.0000e+00</span>,  <span style=\"color: #008080; text-decoration-color: #008080; font-weight: bold\">0.0000e+00</span><span style=\"font-weight: bold\">]</span>,\n",
       "           <span style=\"color: #808000; text-decoration-color: #808000\">...</span>,\n",
       "           <span style=\"font-weight: bold\">[</span> <span style=\"color: #008080; text-decoration-color: #008080; font-weight: bold\">1.0000e+00</span>,  <span style=\"color: #008080; text-decoration-color: #008080; font-weight: bold\">0.0000e+00</span><span style=\"font-weight: bold\">]</span>,\n",
       "           <span style=\"font-weight: bold\">[</span> <span style=\"color: #008080; text-decoration-color: #008080; font-weight: bold\">1.0000e+00</span>,  <span style=\"color: #008080; text-decoration-color: #008080; font-weight: bold\">0.0000e+00</span><span style=\"font-weight: bold\">]</span>,\n",
       "           <span style=\"font-weight: bold\">[</span> <span style=\"color: #008080; text-decoration-color: #008080; font-weight: bold\">1.0000e+00</span>,  <span style=\"color: #008080; text-decoration-color: #008080; font-weight: bold\">0.0000e+00</span><span style=\"font-weight: bold\">]]]</span>,\n",
       "\n",
       "\n",
       "         <span style=\"font-weight: bold\">[[[</span> <span style=\"color: #008080; text-decoration-color: #008080; font-weight: bold\">5.4030e-01</span>,  <span style=\"color: #008080; text-decoration-color: #008080; font-weight: bold\">8.4147e-01</span><span style=\"font-weight: bold\">]</span>,\n",
       "           <span style=\"font-weight: bold\">[</span> <span style=\"color: #008080; text-decoration-color: #008080; font-weight: bold\">9.5042e-01</span>,  <span style=\"color: #008080; text-decoration-color: #008080; font-weight: bold\">3.1098e-01</span><span style=\"font-weight: bold\">]</span>,\n",
       "           <span style=\"font-weight: bold\">[</span> <span style=\"color: #008080; text-decoration-color: #008080; font-weight: bold\">9.9500e-01</span>,  <span style=\"color: #008080; text-decoration-color: #008080; font-weight: bold\">9.9833e-02</span><span style=\"font-weight: bold\">]</span>,\n",
       "           <span style=\"color: #808000; text-decoration-color: #808000\">...</span>,\n",
       "           <span style=\"font-weight: bold\">[</span> <span style=\"color: #008080; text-decoration-color: #008080; font-weight: bold\">9.9999e-01</span>,  <span style=\"color: #008080; text-decoration-color: #008080; font-weight: bold\">3.1623e-03</span><span style=\"font-weight: bold\">]</span>,\n",
       "           <span style=\"font-weight: bold\">[</span> <span style=\"color: #008080; text-decoration-color: #008080; font-weight: bold\">1.0000e+00</span>,  <span style=\"color: #008080; text-decoration-color: #008080; font-weight: bold\">1.0000e-03</span><span style=\"font-weight: bold\">]</span>,\n",
       "           <span style=\"font-weight: bold\">[</span> <span style=\"color: #008080; text-decoration-color: #008080; font-weight: bold\">1.0000e+00</span>,  <span style=\"color: #008080; text-decoration-color: #008080; font-weight: bold\">3.1623e-04</span><span style=\"font-weight: bold\">]]]</span>,\n",
       "\n",
       "\n",
       "         <span style=\"font-weight: bold\">[[[</span><span style=\"color: #008080; text-decoration-color: #008080; font-weight: bold\">-4.1615e-01</span>,  <span style=\"color: #008080; text-decoration-color: #008080; font-weight: bold\">9.0930e-01</span><span style=\"font-weight: bold\">]</span>,\n",
       "           <span style=\"font-weight: bold\">[</span> <span style=\"color: #008080; text-decoration-color: #008080; font-weight: bold\">8.0658e-01</span>,  <span style=\"color: #008080; text-decoration-color: #008080; font-weight: bold\">5.9113e-01</span><span style=\"font-weight: bold\">]</span>,\n",
       "           <span style=\"font-weight: bold\">[</span> <span style=\"color: #008080; text-decoration-color: #008080; font-weight: bold\">9.8007e-01</span>,  <span style=\"color: #008080; text-decoration-color: #008080; font-weight: bold\">1.9867e-01</span><span style=\"font-weight: bold\">]</span>,\n",
       "           <span style=\"color: #808000; text-decoration-color: #808000\">...</span>,\n",
       "           <span style=\"font-weight: bold\">[</span> <span style=\"color: #008080; text-decoration-color: #008080; font-weight: bold\">9.9998e-01</span>,  <span style=\"color: #008080; text-decoration-color: #008080; font-weight: bold\">6.3245e-03</span><span style=\"font-weight: bold\">]</span>,\n",
       "           <span style=\"font-weight: bold\">[</span> <span style=\"color: #008080; text-decoration-color: #008080; font-weight: bold\">1.0000e+00</span>,  <span style=\"color: #008080; text-decoration-color: #008080; font-weight: bold\">2.0000e-03</span><span style=\"font-weight: bold\">]</span>,\n",
       "           <span style=\"font-weight: bold\">[</span> <span style=\"color: #008080; text-decoration-color: #008080; font-weight: bold\">1.0000e+00</span>,  <span style=\"color: #008080; text-decoration-color: #008080; font-weight: bold\">6.3246e-04</span><span style=\"font-weight: bold\">]]]</span>,\n",
       "\n",
       "\n",
       "         <span style=\"color: #808000; text-decoration-color: #808000\">...</span>,\n",
       "\n",
       "\n",
       "         <span style=\"font-weight: bold\">[[[</span><span style=\"color: #008080; text-decoration-color: #008080; font-weight: bold\">-9.9984e-01</span>,  <span style=\"color: #008080; text-decoration-color: #008080; font-weight: bold\">1.7612e-02</span><span style=\"font-weight: bold\">]</span>,\n",
       "           <span style=\"font-weight: bold\">[</span><span style=\"color: #008080; text-decoration-color: #008080; font-weight: bold\">-7.5478e-01</span>,  <span style=\"color: #008080; text-decoration-color: #008080; font-weight: bold\">6.5598e-01</span><span style=\"font-weight: bold\">]</span>,\n",
       "           <span style=\"font-weight: bold\">[</span> <span style=\"color: #008080; text-decoration-color: #008080; font-weight: bold\">1.7628e-03</span>,  <span style=\"color: #008080; text-decoration-color: #008080; font-weight: bold\">1.0000e+00</span><span style=\"font-weight: bold\">]</span>,\n",
       "           <span style=\"color: #808000; text-decoration-color: #808000\">...</span>,\n",
       "           <span style=\"font-weight: bold\">[</span><span style=\"color: #008080; text-decoration-color: #008080; font-weight: bold\">-9.9621e-01</span>, <span style=\"color: #008080; text-decoration-color: #008080; font-weight: bold\">-8.6983e-02</span><span style=\"font-weight: bold\">]</span>,\n",
       "           <span style=\"font-weight: bold\">[</span> <span style=\"color: #008080; text-decoration-color: #008080; font-weight: bold\">5.2251e-01</span>,  <span style=\"color: #008080; text-decoration-color: #008080; font-weight: bold\">8.5263e-01</span><span style=\"font-weight: bold\">]</span>,\n",
       "           <span style=\"font-weight: bold\">[</span> <span style=\"color: #008080; text-decoration-color: #008080; font-weight: bold\">9.4833e-01</span>,  <span style=\"color: #008080; text-decoration-color: #008080; font-weight: bold\">3.1729e-01</span><span style=\"font-weight: bold\">]]]</span>,\n",
       "\n",
       "\n",
       "         <span style=\"font-weight: bold\">[[[</span><span style=\"color: #008080; text-decoration-color: #008080; font-weight: bold\">-5.5504e-01</span>, <span style=\"color: #008080; text-decoration-color: #008080; font-weight: bold\">-8.3182e-01</span><span style=\"font-weight: bold\">]</span>,\n",
       "           <span style=\"font-weight: bold\">[</span><span style=\"color: #008080; text-decoration-color: #008080; font-weight: bold\">-9.2135e-01</span>,  <span style=\"color: #008080; text-decoration-color: #008080; font-weight: bold\">3.8874e-01</span><span style=\"font-weight: bold\">]</span>,\n",
       "           <span style=\"font-weight: bold\">[</span><span style=\"color: #008080; text-decoration-color: #008080; font-weight: bold\">-9.8085e-02</span>,  <span style=\"color: #008080; text-decoration-color: #008080; font-weight: bold\">9.9518e-01</span><span style=\"font-weight: bold\">]</span>,\n",
       "           <span style=\"color: #808000; text-decoration-color: #808000\">...</span>,\n",
       "           <span style=\"font-weight: bold\">[</span><span style=\"color: #008080; text-decoration-color: #008080; font-weight: bold\">-9.9593e-01</span>, <span style=\"color: #008080; text-decoration-color: #008080; font-weight: bold\">-9.0133e-02</span><span style=\"font-weight: bold\">]</span>,\n",
       "           <span style=\"font-weight: bold\">[</span> <span style=\"color: #008080; text-decoration-color: #008080; font-weight: bold\">5.2166e-01</span>,  <span style=\"color: #008080; text-decoration-color: #008080; font-weight: bold\">8.5315e-01</span><span style=\"font-weight: bold\">]</span>,\n",
       "           <span style=\"font-weight: bold\">[</span> <span style=\"color: #008080; text-decoration-color: #008080; font-weight: bold\">9.4823e-01</span>,  <span style=\"color: #008080; text-decoration-color: #008080; font-weight: bold\">3.1759e-01</span><span style=\"font-weight: bold\">]]]</span>,\n",
       "\n",
       "\n",
       "         <span style=\"font-weight: bold\">[[[</span> <span style=\"color: #008080; text-decoration-color: #008080; font-weight: bold\">4.0007e-01</span>, <span style=\"color: #008080; text-decoration-color: #008080; font-weight: bold\">-9.1649e-01</span><span style=\"font-weight: bold\">]</span>,\n",
       "           <span style=\"font-weight: bold\">[</span><span style=\"color: #008080; text-decoration-color: #008080; font-weight: bold\">-9.9655e-01</span>,  <span style=\"color: #008080; text-decoration-color: #008080; font-weight: bold\">8.2941e-02</span><span style=\"font-weight: bold\">]</span>,\n",
       "           <span style=\"font-weight: bold\">[</span><span style=\"color: #008080; text-decoration-color: #008080; font-weight: bold\">-1.9695e-01</span>,  <span style=\"color: #008080; text-decoration-color: #008080; font-weight: bold\">9.8041e-01</span><span style=\"font-weight: bold\">]</span>,\n",
       "           <span style=\"color: #808000; text-decoration-color: #808000\">...</span>,\n",
       "           <span style=\"font-weight: bold\">[</span><span style=\"color: #008080; text-decoration-color: #008080; font-weight: bold\">-9.9564e-01</span>, <span style=\"color: #008080; text-decoration-color: #008080; font-weight: bold\">-9.3282e-02</span><span style=\"font-weight: bold\">]</span>,\n",
       "           <span style=\"font-weight: bold\">[</span> <span style=\"color: #008080; text-decoration-color: #008080; font-weight: bold\">5.2081e-01</span>,  <span style=\"color: #008080; text-decoration-color: #008080; font-weight: bold\">8.5367e-01</span><span style=\"font-weight: bold\">]</span>,\n",
       "           <span style=\"font-weight: bold\">[</span> <span style=\"color: #008080; text-decoration-color: #008080; font-weight: bold\">9.4813e-01</span>,  <span style=\"color: #008080; text-decoration-color: #008080; font-weight: bold\">3.1789e-01</span><span style=\"font-weight: bold\">]]]]])</span>\n",
       "</pre>\n"
      ],
      "text/plain": [
       "rope_cache  \u001b[1;35mtensor\u001b[0m\u001b[1m(\u001b[0m\u001b[1m[\u001b[0m\u001b[1m[\u001b[0m\u001b[1m[\u001b[0m\u001b[1m[\u001b[0m\u001b[1m[\u001b[0m \u001b[1;36m1.0000e+00\u001b[0m,  \u001b[1;36m0.0000e+00\u001b[0m\u001b[1m]\u001b[0m,\n",
       "           \u001b[1m[\u001b[0m \u001b[1;36m1.0000e+00\u001b[0m,  \u001b[1;36m0.0000e+00\u001b[0m\u001b[1m]\u001b[0m,\n",
       "           \u001b[1m[\u001b[0m \u001b[1;36m1.0000e+00\u001b[0m,  \u001b[1;36m0.0000e+00\u001b[0m\u001b[1m]\u001b[0m,\n",
       "           \u001b[33m...\u001b[0m,\n",
       "           \u001b[1m[\u001b[0m \u001b[1;36m1.0000e+00\u001b[0m,  \u001b[1;36m0.0000e+00\u001b[0m\u001b[1m]\u001b[0m,\n",
       "           \u001b[1m[\u001b[0m \u001b[1;36m1.0000e+00\u001b[0m,  \u001b[1;36m0.0000e+00\u001b[0m\u001b[1m]\u001b[0m,\n",
       "           \u001b[1m[\u001b[0m \u001b[1;36m1.0000e+00\u001b[0m,  \u001b[1;36m0.0000e+00\u001b[0m\u001b[1m]\u001b[0m\u001b[1m]\u001b[0m\u001b[1m]\u001b[0m,\n",
       "\n",
       "\n",
       "         \u001b[1m[\u001b[0m\u001b[1m[\u001b[0m\u001b[1m[\u001b[0m \u001b[1;36m5.4030e-01\u001b[0m,  \u001b[1;36m8.4147e-01\u001b[0m\u001b[1m]\u001b[0m,\n",
       "           \u001b[1m[\u001b[0m \u001b[1;36m9.5042e-01\u001b[0m,  \u001b[1;36m3.1098e-01\u001b[0m\u001b[1m]\u001b[0m,\n",
       "           \u001b[1m[\u001b[0m \u001b[1;36m9.9500e-01\u001b[0m,  \u001b[1;36m9.9833e-02\u001b[0m\u001b[1m]\u001b[0m,\n",
       "           \u001b[33m...\u001b[0m,\n",
       "           \u001b[1m[\u001b[0m \u001b[1;36m9.9999e-01\u001b[0m,  \u001b[1;36m3.1623e-03\u001b[0m\u001b[1m]\u001b[0m,\n",
       "           \u001b[1m[\u001b[0m \u001b[1;36m1.0000e+00\u001b[0m,  \u001b[1;36m1.0000e-03\u001b[0m\u001b[1m]\u001b[0m,\n",
       "           \u001b[1m[\u001b[0m \u001b[1;36m1.0000e+00\u001b[0m,  \u001b[1;36m3.1623e-04\u001b[0m\u001b[1m]\u001b[0m\u001b[1m]\u001b[0m\u001b[1m]\u001b[0m,\n",
       "\n",
       "\n",
       "         \u001b[1m[\u001b[0m\u001b[1m[\u001b[0m\u001b[1m[\u001b[0m\u001b[1;36m-4.1615e-01\u001b[0m,  \u001b[1;36m9.0930e-01\u001b[0m\u001b[1m]\u001b[0m,\n",
       "           \u001b[1m[\u001b[0m \u001b[1;36m8.0658e-01\u001b[0m,  \u001b[1;36m5.9113e-01\u001b[0m\u001b[1m]\u001b[0m,\n",
       "           \u001b[1m[\u001b[0m \u001b[1;36m9.8007e-01\u001b[0m,  \u001b[1;36m1.9867e-01\u001b[0m\u001b[1m]\u001b[0m,\n",
       "           \u001b[33m...\u001b[0m,\n",
       "           \u001b[1m[\u001b[0m \u001b[1;36m9.9998e-01\u001b[0m,  \u001b[1;36m6.3245e-03\u001b[0m\u001b[1m]\u001b[0m,\n",
       "           \u001b[1m[\u001b[0m \u001b[1;36m1.0000e+00\u001b[0m,  \u001b[1;36m2.0000e-03\u001b[0m\u001b[1m]\u001b[0m,\n",
       "           \u001b[1m[\u001b[0m \u001b[1;36m1.0000e+00\u001b[0m,  \u001b[1;36m6.3246e-04\u001b[0m\u001b[1m]\u001b[0m\u001b[1m]\u001b[0m\u001b[1m]\u001b[0m,\n",
       "\n",
       "\n",
       "         \u001b[33m...\u001b[0m,\n",
       "\n",
       "\n",
       "         \u001b[1m[\u001b[0m\u001b[1m[\u001b[0m\u001b[1m[\u001b[0m\u001b[1;36m-9.9984e-01\u001b[0m,  \u001b[1;36m1.7612e-02\u001b[0m\u001b[1m]\u001b[0m,\n",
       "           \u001b[1m[\u001b[0m\u001b[1;36m-7.5478e-01\u001b[0m,  \u001b[1;36m6.5598e-01\u001b[0m\u001b[1m]\u001b[0m,\n",
       "           \u001b[1m[\u001b[0m \u001b[1;36m1.7628e-03\u001b[0m,  \u001b[1;36m1.0000e+00\u001b[0m\u001b[1m]\u001b[0m,\n",
       "           \u001b[33m...\u001b[0m,\n",
       "           \u001b[1m[\u001b[0m\u001b[1;36m-9.9621e-01\u001b[0m, \u001b[1;36m-8.6983e-02\u001b[0m\u001b[1m]\u001b[0m,\n",
       "           \u001b[1m[\u001b[0m \u001b[1;36m5.2251e-01\u001b[0m,  \u001b[1;36m8.5263e-01\u001b[0m\u001b[1m]\u001b[0m,\n",
       "           \u001b[1m[\u001b[0m \u001b[1;36m9.4833e-01\u001b[0m,  \u001b[1;36m3.1729e-01\u001b[0m\u001b[1m]\u001b[0m\u001b[1m]\u001b[0m\u001b[1m]\u001b[0m,\n",
       "\n",
       "\n",
       "         \u001b[1m[\u001b[0m\u001b[1m[\u001b[0m\u001b[1m[\u001b[0m\u001b[1;36m-5.5504e-01\u001b[0m, \u001b[1;36m-8.3182e-01\u001b[0m\u001b[1m]\u001b[0m,\n",
       "           \u001b[1m[\u001b[0m\u001b[1;36m-9.2135e-01\u001b[0m,  \u001b[1;36m3.8874e-01\u001b[0m\u001b[1m]\u001b[0m,\n",
       "           \u001b[1m[\u001b[0m\u001b[1;36m-9.8085e-02\u001b[0m,  \u001b[1;36m9.9518e-01\u001b[0m\u001b[1m]\u001b[0m,\n",
       "           \u001b[33m...\u001b[0m,\n",
       "           \u001b[1m[\u001b[0m\u001b[1;36m-9.9593e-01\u001b[0m, \u001b[1;36m-9.0133e-02\u001b[0m\u001b[1m]\u001b[0m,\n",
       "           \u001b[1m[\u001b[0m \u001b[1;36m5.2166e-01\u001b[0m,  \u001b[1;36m8.5315e-01\u001b[0m\u001b[1m]\u001b[0m,\n",
       "           \u001b[1m[\u001b[0m \u001b[1;36m9.4823e-01\u001b[0m,  \u001b[1;36m3.1759e-01\u001b[0m\u001b[1m]\u001b[0m\u001b[1m]\u001b[0m\u001b[1m]\u001b[0m,\n",
       "\n",
       "\n",
       "         \u001b[1m[\u001b[0m\u001b[1m[\u001b[0m\u001b[1m[\u001b[0m \u001b[1;36m4.0007e-01\u001b[0m, \u001b[1;36m-9.1649e-01\u001b[0m\u001b[1m]\u001b[0m,\n",
       "           \u001b[1m[\u001b[0m\u001b[1;36m-9.9655e-01\u001b[0m,  \u001b[1;36m8.2941e-02\u001b[0m\u001b[1m]\u001b[0m,\n",
       "           \u001b[1m[\u001b[0m\u001b[1;36m-1.9695e-01\u001b[0m,  \u001b[1;36m9.8041e-01\u001b[0m\u001b[1m]\u001b[0m,\n",
       "           \u001b[33m...\u001b[0m,\n",
       "           \u001b[1m[\u001b[0m\u001b[1;36m-9.9564e-01\u001b[0m, \u001b[1;36m-9.3282e-02\u001b[0m\u001b[1m]\u001b[0m,\n",
       "           \u001b[1m[\u001b[0m \u001b[1;36m5.2081e-01\u001b[0m,  \u001b[1;36m8.5367e-01\u001b[0m\u001b[1m]\u001b[0m,\n",
       "           \u001b[1m[\u001b[0m \u001b[1;36m9.4813e-01\u001b[0m,  \u001b[1;36m3.1789e-01\u001b[0m\u001b[1m]\u001b[0m\u001b[1m]\u001b[0m\u001b[1m]\u001b[0m\u001b[1m]\u001b[0m\u001b[1m]\u001b[0m\u001b[1m)\u001b[0m\n"
      ]
     },
     "metadata": {},
     "output_type": "display_data"
    },
    {
     "data": {
      "text/html": [
       "<pre style=\"white-space:pre;overflow-x:auto;line-height:normal;font-family:Menlo,'DejaVu Sans Mono',consolas,'Courier New',monospace\">x_out2\n",
       "<span style=\"color: #800080; text-decoration-color: #800080; font-weight: bold\">torch.Size</span><span style=\"font-weight: bold\">([</span><span style=\"color: #008080; text-decoration-color: #008080; font-weight: bold\">16</span>, <span style=\"color: #008080; text-decoration-color: #008080; font-weight: bold\">1024</span>, <span style=\"color: #008080; text-decoration-color: #008080; font-weight: bold\">8</span>, <span style=\"color: #008080; text-decoration-color: #008080; font-weight: bold\">8</span>, <span style=\"color: #008080; text-decoration-color: #008080; font-weight: bold\">2</span><span style=\"font-weight: bold\">])</span>\n",
       "</pre>\n"
      ],
      "text/plain": [
       "x_out2\n",
       "\u001b[1;35mtorch.Size\u001b[0m\u001b[1m(\u001b[0m\u001b[1m[\u001b[0m\u001b[1;36m16\u001b[0m, \u001b[1;36m1024\u001b[0m, \u001b[1;36m8\u001b[0m, \u001b[1;36m8\u001b[0m, \u001b[1;36m2\u001b[0m\u001b[1m]\u001b[0m\u001b[1m)\u001b[0m\n"
      ]
     },
     "metadata": {},
     "output_type": "display_data"
    },
    {
     "data": {
      "text/html": [
       "<pre style=\"white-space:pre;overflow-x:auto;line-height:normal;font-family:Menlo,'DejaVu Sans Mono',consolas,'Courier New',monospace\">flat_x_out2\n",
       "<span style=\"color: #800080; text-decoration-color: #800080; font-weight: bold\">torch.Size</span><span style=\"font-weight: bold\">([</span><span style=\"color: #008080; text-decoration-color: #008080; font-weight: bold\">16</span>, <span style=\"color: #008080; text-decoration-color: #008080; font-weight: bold\">1024</span>, <span style=\"color: #008080; text-decoration-color: #008080; font-weight: bold\">8</span>, <span style=\"color: #008080; text-decoration-color: #008080; font-weight: bold\">16</span><span style=\"font-weight: bold\">])</span>\n",
       "</pre>\n"
      ],
      "text/plain": [
       "flat_x_out2\n",
       "\u001b[1;35mtorch.Size\u001b[0m\u001b[1m(\u001b[0m\u001b[1m[\u001b[0m\u001b[1;36m16\u001b[0m, \u001b[1;36m1024\u001b[0m, \u001b[1;36m8\u001b[0m, \u001b[1;36m16\u001b[0m\u001b[1m]\u001b[0m\u001b[1m)\u001b[0m\n"
      ]
     },
     "metadata": {},
     "output_type": "display_data"
    },
    {
     "data": {
      "text/html": [
       "<pre style=\"white-space:pre;overflow-x:auto;line-height:normal;font-family:Menlo,'DejaVu Sans Mono',consolas,'Courier New',monospace\">q_rope前:\n",
       "<span style=\"color: #800080; text-decoration-color: #800080; font-weight: bold\">torch.Size</span><span style=\"font-weight: bold\">([</span><span style=\"color: #008080; text-decoration-color: #008080; font-weight: bold\">16</span>, <span style=\"color: #008080; text-decoration-color: #008080; font-weight: bold\">1024</span>, <span style=\"color: #008080; text-decoration-color: #008080; font-weight: bold\">8</span>, <span style=\"color: #008080; text-decoration-color: #008080; font-weight: bold\">16</span><span style=\"font-weight: bold\">])</span>\n",
       "</pre>\n"
      ],
      "text/plain": [
       "q_rope前:\n",
       "\u001b[1;35mtorch.Size\u001b[0m\u001b[1m(\u001b[0m\u001b[1m[\u001b[0m\u001b[1;36m16\u001b[0m, \u001b[1;36m1024\u001b[0m, \u001b[1;36m8\u001b[0m, \u001b[1;36m16\u001b[0m\u001b[1m]\u001b[0m\u001b[1m)\u001b[0m\n"
      ]
     },
     "metadata": {},
     "output_type": "display_data"
    },
    {
     "data": {
      "text/html": [
       "<pre style=\"white-space:pre;overflow-x:auto;line-height:normal;font-family:Menlo,'DejaVu Sans Mono',consolas,'Courier New',monospace\">q_rope后:\n",
       "<span style=\"color: #800080; text-decoration-color: #800080; font-weight: bold\">torch.Size</span><span style=\"font-weight: bold\">([</span><span style=\"color: #008080; text-decoration-color: #008080; font-weight: bold\">16</span>, <span style=\"color: #008080; text-decoration-color: #008080; font-weight: bold\">1024</span>, <span style=\"color: #008080; text-decoration-color: #008080; font-weight: bold\">8</span>, <span style=\"color: #008080; text-decoration-color: #008080; font-weight: bold\">16</span><span style=\"font-weight: bold\">])</span>\n",
       "</pre>\n"
      ],
      "text/plain": [
       "q_rope后:\n",
       "\u001b[1;35mtorch.Size\u001b[0m\u001b[1m(\u001b[0m\u001b[1m[\u001b[0m\u001b[1;36m16\u001b[0m, \u001b[1;36m1024\u001b[0m, \u001b[1;36m8\u001b[0m, \u001b[1;36m16\u001b[0m\u001b[1m]\u001b[0m\u001b[1m)\u001b[0m\n"
      ]
     },
     "metadata": {},
     "output_type": "display_data"
    }
   ],
   "source": [
    "print('--------------2. qk RoPE 旋转相对位置编码------------------')\n",
    "print('RoPE编码作用在每个block的attention计算QK里')\n",
    "q_rope_before = q\n",
    "q = apply_rope(q, rope)\n",
    "q_rope_after = q\n",
    "k = apply_rope(k, rope)\n",
    "print(\"q_rope前:\", q_rope_before.shape)\n",
    "print(\"q_rope后:\", q_rope_after.shape)\n",
    "\n",
    "q = q.transpose(1,2) # B, T, H, H_D -> B, H, T, H_D\n",
    "k = k.transpose(1,2)\n",
    "v = v.transpose(1,2)"
   ]
  },
  {
   "cell_type": "code",
   "execution_count": 199,
   "metadata": {},
   "outputs": [
    {
     "data": {
      "text/html": [
       "<pre style=\"white-space:pre;overflow-x:auto;line-height:normal;font-family:Menlo,'DejaVu Sans Mono',consolas,'Courier New',monospace\">-------------<span style=\"color: #008080; text-decoration-color: #008080; font-weight: bold\">-3</span>. 计算scale dot product 和前向传播------------------\n",
       "</pre>\n"
      ],
      "text/plain": [
       "-------------\u001b[1;36m-3\u001b[0m. 计算scale dot product 和前向传播------------------\n"
      ]
     },
     "metadata": {},
     "output_type": "display_data"
    },
    {
     "data": {
      "text/html": [
       "<pre style=\"white-space:pre;overflow-x:auto;line-height:normal;font-family:Menlo,'DejaVu Sans Mono',consolas,'Courier New',monospace\"><span style=\"color: #800080; text-decoration-color: #800080; font-weight: bold\">torch.Size</span><span style=\"font-weight: bold\">([</span><span style=\"color: #008080; text-decoration-color: #008080; font-weight: bold\">16</span>, <span style=\"color: #008080; text-decoration-color: #008080; font-weight: bold\">1024</span>, <span style=\"color: #008080; text-decoration-color: #008080; font-weight: bold\">128</span><span style=\"font-weight: bold\">])</span>\n",
       "</pre>\n"
      ],
      "text/plain": [
       "\u001b[1;35mtorch.Size\u001b[0m\u001b[1m(\u001b[0m\u001b[1m[\u001b[0m\u001b[1;36m16\u001b[0m, \u001b[1;36m1024\u001b[0m, \u001b[1;36m128\u001b[0m\u001b[1m]\u001b[0m\u001b[1m)\u001b[0m\n"
      ]
     },
     "metadata": {},
     "output_type": "display_data"
    }
   ],
   "source": [
    "print('--------------3. 计算scale dot product 和前向传播------------------')\n",
    "y = F.scaled_dot_product_attention(q, k, v, attn_mask=mask, dropout_p=0.0)\n",
    "y = y.transpose(1,2).contiguous().view(B, T, D)\n",
    "y = block_attn.c_proj(y)\n",
    "print(y.shape)"
   ]
  },
  {
   "cell_type": "markdown",
   "metadata": {},
   "source": [
    "## 4.5 MLP silu"
   ]
  },
  {
   "cell_type": "code",
   "execution_count": 200,
   "metadata": {},
   "outputs": [
    {
     "data": {
      "text/plain": [
       "MLP(\n",
       "  (c_fc1): Linear(in_features=128, out_features=512, bias=False)\n",
       "  (c_fc2): Linear(in_features=128, out_features=512, bias=False)\n",
       "  (c_proj): Linear(in_features=512, out_features=128, bias=False)\n",
       ")"
      ]
     },
     "execution_count": 200,
     "metadata": {},
     "output_type": "execute_result"
    }
   ],
   "source": [
    "model.transformer.h[0].mlp"
   ]
  },
  {
   "cell_type": "code",
   "execution_count": 202,
   "metadata": {},
   "outputs": [
    {
     "data": {
      "text/html": [
       "<pre style=\"white-space:pre;overflow-x:auto;line-height:normal;font-family:Menlo,'DejaVu Sans Mono',consolas,'Courier New',monospace\"><span style=\"color: #800080; text-decoration-color: #800080; font-weight: bold\">SiLU</span><span style=\"font-weight: bold\">(</span>x<span style=\"font-weight: bold\">)</span> = x * <span style=\"color: #800080; text-decoration-color: #800080; font-weight: bold\">sigmoid</span><span style=\"font-weight: bold\">(</span>x<span style=\"font-weight: bold\">)</span>\n",
       "</pre>\n"
      ],
      "text/plain": [
       "\u001b[1;35mSiLU\u001b[0m\u001b[1m(\u001b[0mx\u001b[1m)\u001b[0m = x * \u001b[1;35msigmoid\u001b[0m\u001b[1m(\u001b[0mx\u001b[1m)\u001b[0m\n"
      ]
     },
     "metadata": {},
     "output_type": "display_data"
    },
    {
     "data": {
      "text/html": [
       "<pre style=\"white-space:pre;overflow-x:auto;line-height:normal;font-family:Menlo,'DejaVu Sans Mono',consolas,'Courier New',monospace\">c_fc1 is gate\n",
       "</pre>\n"
      ],
      "text/plain": [
       "c_fc1 is gate\n"
      ]
     },
     "metadata": {},
     "output_type": "display_data"
    },
    {
     "data": {
      "text/html": [
       "<pre style=\"white-space:pre;overflow-x:auto;line-height:normal;font-family:Menlo,'DejaVu Sans Mono',consolas,'Courier New',monospace\">c_fc2 is up\n",
       "</pre>\n"
      ],
      "text/plain": [
       "c_fc2 is up\n"
      ]
     },
     "metadata": {},
     "output_type": "display_data"
    },
    {
     "data": {
      "text/html": [
       "<pre style=\"white-space:pre;overflow-x:auto;line-height:normal;font-family:Menlo,'DejaVu Sans Mono',consolas,'Courier New',monospace\"><span style=\"color: #800080; text-decoration-color: #800080; font-weight: bold\">torch.Size</span><span style=\"font-weight: bold\">([</span><span style=\"color: #008080; text-decoration-color: #008080; font-weight: bold\">16</span>, <span style=\"color: #008080; text-decoration-color: #008080; font-weight: bold\">1024</span>, <span style=\"color: #008080; text-decoration-color: #008080; font-weight: bold\">128</span><span style=\"font-weight: bold\">])</span>\n",
       "</pre>\n"
      ],
      "text/plain": [
       "\u001b[1;35mtorch.Size\u001b[0m\u001b[1m(\u001b[0m\u001b[1m[\u001b[0m\u001b[1;36m16\u001b[0m, \u001b[1;36m1024\u001b[0m, \u001b[1;36m128\u001b[0m\u001b[1m]\u001b[0m\u001b[1m)\u001b[0m\n"
      ]
     },
     "metadata": {},
     "output_type": "display_data"
    }
   ],
   "source": [
    "mlp  = model.transformer.h[0].mlp\n",
    "x = x_rms_1\n",
    "print(\"SiLU(x) = x * sigmoid(x)\")\n",
    "x = F.silu(mlp.c_fc1(x)) * mlp.c_fc2(x)\n",
    "print(\"c_fc1 is gate\")\n",
    "print(\"c_fc2 is up\")\n",
    "x = mlp.c_proj(x)\n",
    "print(x.shape)"
   ]
  },
  {
   "cell_type": "code",
   "execution_count": null,
   "metadata": {},
   "outputs": [],
   "source": []
  }
 ],
 "metadata": {
  "kernelspec": {
   "display_name": "Python 3",
   "language": "python",
   "name": "python3"
  },
  "language_info": {
   "codemirror_mode": {
    "name": "ipython",
    "version": 3
   },
   "file_extension": ".py",
   "mimetype": "text/x-python",
   "name": "python",
   "nbconvert_exporter": "python",
   "pygments_lexer": "ipython3",
   "version": "3.8.5"
  }
 },
 "nbformat": 4,
 "nbformat_minor": 4
}
